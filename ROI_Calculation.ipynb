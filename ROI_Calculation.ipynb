{
  "nbformat": 4,
  "nbformat_minor": 0,
  "metadata": {
    "colab": {
      "provenance": [],
      "authorship_tag": "ABX9TyPEN3xoXbNub0GVXtZo3sCM",
      "include_colab_link": true
    },
    "kernelspec": {
      "name": "python3",
      "display_name": "Python 3"
    },
    "language_info": {
      "name": "python"
    }
  },
  "cells": [
    {
      "cell_type": "markdown",
      "metadata": {
        "id": "view-in-github",
        "colab_type": "text"
      },
      "source": [
        "<a href=\"https://colab.research.google.com/github/HowardHNguyen/Python/blob/main/ROI_Calculation.ipynb\" target=\"_parent\"><img src=\"https://colab.research.google.com/assets/colab-badge.svg\" alt=\"Open In Colab\"/></a>"
      ]
    },
    {
      "cell_type": "code",
      "metadata": {
        "colab": {
          "base_uri": "https://localhost:8080/"
        },
        "id": "V61JAz5FozGW",
        "outputId": "a0a922d9-4c3b-4260-82ad-a2cbed26b97b"
      },
      "source": [
        "# Annual ROI calculation\n",
        "\n",
        "Investment = 1000000\n",
        "Rent = 4000\n",
        "Loss = 20000\n",
        "def ROI(Investment, Rent, Loss):\n",
        "    NetProfit = Rent * 12 - Loss\n",
        "    ROI = (NetProfit/Investment)*100\n",
        "    print(ROI)\n",
        "\n",
        "ROI(Investment, Rent, Loss)"
      ],
      "execution_count": null,
      "outputs": [
        {
          "output_type": "stream",
          "text": [
            "2.8000000000000003\n"
          ],
          "name": "stdout"
        }
      ]
    },
    {
      "cell_type": "code",
      "metadata": {
        "id": "VJ-xqZSqpmbm"
      },
      "source": [],
      "execution_count": null,
      "outputs": []
    }
  ]
}