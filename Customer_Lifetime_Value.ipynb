{
  "nbformat": 4,
  "nbformat_minor": 0,
  "metadata": {
    "colab": {
      "provenance": [],
      "authorship_tag": "ABX9TyMsRsYUwwpAm9r88x2JnMNl",
      "include_colab_link": true
    },
    "kernelspec": {
      "name": "python3",
      "display_name": "Python 3"
    },
    "language_info": {
      "name": "python"
    }
  },
  "cells": [
    {
      "cell_type": "markdown",
      "metadata": {
        "id": "view-in-github",
        "colab_type": "text"
      },
      "source": [
        "<a href=\"https://colab.research.google.com/github/HowardHNguyen/Python/blob/main/Customer_Lifetime_Value.ipynb\" target=\"_parent\"><img src=\"https://colab.research.google.com/assets/colab-badge.svg\" alt=\"Open In Colab\"/></a>"
      ]
    },
    {
      "cell_type": "code",
      "metadata": {
        "id": "rVmJuMv72QXl"
      },
      "source": [
        "import matplotlib.pyplot as plt\n",
        "import pandas as pd\n",
        "import numpy as np\n",
        "\n",
        "%matplotlib inline"
      ],
      "execution_count": null,
      "outputs": []
    },
    {
      "cell_type": "code",
      "metadata": {
        "colab": {
          "resources": {
            "http://localhost:8080/nbextensions/google.colab/files.js": {
              "data": "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",
              "ok": true,
              "headers": [
                [
                  "content-type",
                  "application/javascript"
                ]
              ],
              "status": 200,
              "status_text": ""
            }
          },
          "base_uri": "https://localhost:8080/",
          "height": 89
        },
        "id": "QUJUK9Fw2hHh",
        "outputId": "7abfb293-f875-4054-be9f-7bae2df00ed0"
      },
      "source": [
        "from google.colab import files\n",
        "files.upload()"
      ],
      "execution_count": null,
      "outputs": [
        {
          "output_type": "display_data",
          "data": {
            "text/html": [
              "\n",
              "     <input type=\"file\" id=\"files-62248040-8156-485a-bfd8-500c428354fd\" name=\"files[]\" multiple disabled\n",
              "        style=\"border:none\" />\n",
              "     <output id=\"result-62248040-8156-485a-bfd8-500c428354fd\">\n",
              "      Upload widget is only available when the cell has been executed in the\n",
              "      current browser session. Please rerun this cell to enable.\n",
              "      </output>\n",
              "      <script src=\"/nbextensions/google.colab/files.js\"></script> "
            ],
            "text/plain": [
              "<IPython.core.display.HTML object>"
            ]
          },
          "metadata": {
            "tags": []
          }
        },
        {
          "output_type": "stream",
          "text": [
            "Saving online_retail_uci.xlsx to online_retail_uci.xlsx\n"
          ],
          "name": "stdout"
        }
      ]
    },
    {
      "cell_type": "code",
      "metadata": {
        "colab": {
          "base_uri": "https://localhost:8080/",
          "height": 289
        },
        "id": "WvVpewmj2oEy",
        "outputId": "6329d6d5-09f2-46ea-8eca-58fdfb2128ef"
      },
      "source": [
        "df = pd.read_excel('online_retail_uci.xlsx')\n",
        "df.head()"
      ],
      "execution_count": null,
      "outputs": [
        {
          "output_type": "execute_result",
          "data": {
            "text/html": [
              "<div>\n",
              "<style scoped>\n",
              "    .dataframe tbody tr th:only-of-type {\n",
              "        vertical-align: middle;\n",
              "    }\n",
              "\n",
              "    .dataframe tbody tr th {\n",
              "        vertical-align: top;\n",
              "    }\n",
              "\n",
              "    .dataframe thead th {\n",
              "        text-align: right;\n",
              "    }\n",
              "</style>\n",
              "<table border=\"1\" class=\"dataframe\">\n",
              "  <thead>\n",
              "    <tr style=\"text-align: right;\">\n",
              "      <th></th>\n",
              "      <th>InvoiceNo</th>\n",
              "      <th>StockCode</th>\n",
              "      <th>Description</th>\n",
              "      <th>Quantity</th>\n",
              "      <th>InvoiceDate</th>\n",
              "      <th>UnitPrice</th>\n",
              "      <th>CustomerID</th>\n",
              "      <th>Country</th>\n",
              "    </tr>\n",
              "  </thead>\n",
              "  <tbody>\n",
              "    <tr>\n",
              "      <th>0</th>\n",
              "      <td>536365</td>\n",
              "      <td>85123A</td>\n",
              "      <td>WHITE HANGING HEART T-LIGHT HOLDER</td>\n",
              "      <td>6</td>\n",
              "      <td>2010-12-01 08:26:00</td>\n",
              "      <td>2.55</td>\n",
              "      <td>17850.0</td>\n",
              "      <td>United Kingdom</td>\n",
              "    </tr>\n",
              "    <tr>\n",
              "      <th>1</th>\n",
              "      <td>536365</td>\n",
              "      <td>71053</td>\n",
              "      <td>WHITE METAL LANTERN</td>\n",
              "      <td>6</td>\n",
              "      <td>2010-12-01 08:26:00</td>\n",
              "      <td>3.39</td>\n",
              "      <td>17850.0</td>\n",
              "      <td>United Kingdom</td>\n",
              "    </tr>\n",
              "    <tr>\n",
              "      <th>2</th>\n",
              "      <td>536365</td>\n",
              "      <td>84406B</td>\n",
              "      <td>CREAM CUPID HEARTS COAT HANGER</td>\n",
              "      <td>8</td>\n",
              "      <td>2010-12-01 08:26:00</td>\n",
              "      <td>2.75</td>\n",
              "      <td>17850.0</td>\n",
              "      <td>United Kingdom</td>\n",
              "    </tr>\n",
              "    <tr>\n",
              "      <th>3</th>\n",
              "      <td>536365</td>\n",
              "      <td>84029G</td>\n",
              "      <td>KNITTED UNION FLAG HOT WATER BOTTLE</td>\n",
              "      <td>6</td>\n",
              "      <td>2010-12-01 08:26:00</td>\n",
              "      <td>3.39</td>\n",
              "      <td>17850.0</td>\n",
              "      <td>United Kingdom</td>\n",
              "    </tr>\n",
              "    <tr>\n",
              "      <th>4</th>\n",
              "      <td>536365</td>\n",
              "      <td>84029E</td>\n",
              "      <td>RED WOOLLY HOTTIE WHITE HEART.</td>\n",
              "      <td>6</td>\n",
              "      <td>2010-12-01 08:26:00</td>\n",
              "      <td>3.39</td>\n",
              "      <td>17850.0</td>\n",
              "      <td>United Kingdom</td>\n",
              "    </tr>\n",
              "  </tbody>\n",
              "</table>\n",
              "</div>"
            ],
            "text/plain": [
              "  InvoiceNo StockCode  ... CustomerID         Country\n",
              "0    536365    85123A  ...    17850.0  United Kingdom\n",
              "1    536365     71053  ...    17850.0  United Kingdom\n",
              "2    536365    84406B  ...    17850.0  United Kingdom\n",
              "3    536365    84029G  ...    17850.0  United Kingdom\n",
              "4    536365    84029E  ...    17850.0  United Kingdom\n",
              "\n",
              "[5 rows x 8 columns]"
            ]
          },
          "metadata": {
            "tags": []
          },
          "execution_count": 9
        }
      ]
    },
    {
      "cell_type": "code",
      "metadata": {
        "colab": {
          "base_uri": "https://localhost:8080/"
        },
        "id": "eABNlTXv3dJ5",
        "outputId": "ceece618-b0f9-4c12-8725-f62ab982e61f"
      },
      "source": [
        "df.shape"
      ],
      "execution_count": null,
      "outputs": [
        {
          "output_type": "execute_result",
          "data": {
            "text/plain": [
              "(541909, 8)"
            ]
          },
          "metadata": {
            "tags": []
          },
          "execution_count": 10
        }
      ]
    },
    {
      "cell_type": "markdown",
      "metadata": {
        "id": "a_uHyvo444BJ"
      },
      "source": [
        "Data Clean-Up"
      ]
    },
    {
      "cell_type": "code",
      "metadata": {
        "colab": {
          "base_uri": "https://localhost:8080/"
        },
        "id": "Y7QPcfcn48LF",
        "outputId": "125238d7-1285-4952-9bbc-e481d61f007c"
      },
      "source": [
        "df.loc[df['Quantity'] <= 0].shape"
      ],
      "execution_count": null,
      "outputs": [
        {
          "output_type": "execute_result",
          "data": {
            "text/plain": [
              "(10624, 8)"
            ]
          },
          "metadata": {
            "tags": []
          },
          "execution_count": 11
        }
      ]
    },
    {
      "cell_type": "code",
      "metadata": {
        "colab": {
          "base_uri": "https://localhost:8080/"
        },
        "id": "E_WNnY-L5JKp",
        "outputId": "0b25cdd7-cfe2-4548-ddb5-2bb94599822e"
      },
      "source": [
        "df = df.loc[df['Quantity'] > 0]\n",
        "df.shape"
      ],
      "execution_count": null,
      "outputs": [
        {
          "output_type": "execute_result",
          "data": {
            "text/plain": [
              "(531285, 8)"
            ]
          },
          "metadata": {
            "tags": []
          },
          "execution_count": 13
        }
      ]
    },
    {
      "cell_type": "code",
      "metadata": {
        "colab": {
          "base_uri": "https://localhost:8080/"
        },
        "id": "mxPETwai5RL5",
        "outputId": "e4bcde76-4bca-4458-f080-4c44b0106412"
      },
      "source": [
        "# Missing CustomerID\n",
        "pd.isnull(df['CustomerID']).sum()"
      ],
      "execution_count": null,
      "outputs": [
        {
          "output_type": "execute_result",
          "data": {
            "text/plain": [
              "133361"
            ]
          },
          "metadata": {
            "tags": []
          },
          "execution_count": 14
        }
      ]
    },
    {
      "cell_type": "code",
      "metadata": {
        "colab": {
          "base_uri": "https://localhost:8080/"
        },
        "id": "yrU4g0ng5cqZ",
        "outputId": "f3075d6d-dce1-40a4-fc2b-1c58fc5c48d1"
      },
      "source": [
        "df = df[pd.notnull(df['CustomerID'])]\n",
        "df.shape"
      ],
      "execution_count": null,
      "outputs": [
        {
          "output_type": "execute_result",
          "data": {
            "text/plain": [
              "(397924, 8)"
            ]
          },
          "metadata": {
            "tags": []
          },
          "execution_count": 15
        }
      ]
    },
    {
      "cell_type": "code",
      "metadata": {
        "colab": {
          "base_uri": "https://localhost:8080/",
          "height": 289
        },
        "id": "h22WKuT15e0B",
        "outputId": "94f7ae35-0ddc-459d-c303-df8e66dab80b"
      },
      "source": [
        "df.head()"
      ],
      "execution_count": null,
      "outputs": [
        {
          "output_type": "execute_result",
          "data": {
            "text/html": [
              "<div>\n",
              "<style scoped>\n",
              "    .dataframe tbody tr th:only-of-type {\n",
              "        vertical-align: middle;\n",
              "    }\n",
              "\n",
              "    .dataframe tbody tr th {\n",
              "        vertical-align: top;\n",
              "    }\n",
              "\n",
              "    .dataframe thead th {\n",
              "        text-align: right;\n",
              "    }\n",
              "</style>\n",
              "<table border=\"1\" class=\"dataframe\">\n",
              "  <thead>\n",
              "    <tr style=\"text-align: right;\">\n",
              "      <th></th>\n",
              "      <th>InvoiceNo</th>\n",
              "      <th>StockCode</th>\n",
              "      <th>Description</th>\n",
              "      <th>Quantity</th>\n",
              "      <th>InvoiceDate</th>\n",
              "      <th>UnitPrice</th>\n",
              "      <th>CustomerID</th>\n",
              "      <th>Country</th>\n",
              "    </tr>\n",
              "  </thead>\n",
              "  <tbody>\n",
              "    <tr>\n",
              "      <th>0</th>\n",
              "      <td>536365</td>\n",
              "      <td>85123A</td>\n",
              "      <td>WHITE HANGING HEART T-LIGHT HOLDER</td>\n",
              "      <td>6</td>\n",
              "      <td>2010-12-01 08:26:00</td>\n",
              "      <td>2.55</td>\n",
              "      <td>17850.0</td>\n",
              "      <td>United Kingdom</td>\n",
              "    </tr>\n",
              "    <tr>\n",
              "      <th>1</th>\n",
              "      <td>536365</td>\n",
              "      <td>71053</td>\n",
              "      <td>WHITE METAL LANTERN</td>\n",
              "      <td>6</td>\n",
              "      <td>2010-12-01 08:26:00</td>\n",
              "      <td>3.39</td>\n",
              "      <td>17850.0</td>\n",
              "      <td>United Kingdom</td>\n",
              "    </tr>\n",
              "    <tr>\n",
              "      <th>2</th>\n",
              "      <td>536365</td>\n",
              "      <td>84406B</td>\n",
              "      <td>CREAM CUPID HEARTS COAT HANGER</td>\n",
              "      <td>8</td>\n",
              "      <td>2010-12-01 08:26:00</td>\n",
              "      <td>2.75</td>\n",
              "      <td>17850.0</td>\n",
              "      <td>United Kingdom</td>\n",
              "    </tr>\n",
              "    <tr>\n",
              "      <th>3</th>\n",
              "      <td>536365</td>\n",
              "      <td>84029G</td>\n",
              "      <td>KNITTED UNION FLAG HOT WATER BOTTLE</td>\n",
              "      <td>6</td>\n",
              "      <td>2010-12-01 08:26:00</td>\n",
              "      <td>3.39</td>\n",
              "      <td>17850.0</td>\n",
              "      <td>United Kingdom</td>\n",
              "    </tr>\n",
              "    <tr>\n",
              "      <th>4</th>\n",
              "      <td>536365</td>\n",
              "      <td>84029E</td>\n",
              "      <td>RED WOOLLY HOTTIE WHITE HEART.</td>\n",
              "      <td>6</td>\n",
              "      <td>2010-12-01 08:26:00</td>\n",
              "      <td>3.39</td>\n",
              "      <td>17850.0</td>\n",
              "      <td>United Kingdom</td>\n",
              "    </tr>\n",
              "  </tbody>\n",
              "</table>\n",
              "</div>"
            ],
            "text/plain": [
              "  InvoiceNo StockCode  ... CustomerID         Country\n",
              "0    536365    85123A  ...    17850.0  United Kingdom\n",
              "1    536365     71053  ...    17850.0  United Kingdom\n",
              "2    536365    84406B  ...    17850.0  United Kingdom\n",
              "3    536365    84029G  ...    17850.0  United Kingdom\n",
              "4    536365    84029E  ...    17850.0  United Kingdom\n",
              "\n",
              "[5 rows x 8 columns]"
            ]
          },
          "metadata": {
            "tags": []
          },
          "execution_count": 16
        }
      ]
    },
    {
      "cell_type": "code",
      "metadata": {
        "colab": {
          "base_uri": "https://localhost:8080/"
        },
        "id": "xTdx1I6f5hk5",
        "outputId": "5819198d-073f-4f20-aa64-e0bea21b96af"
      },
      "source": [
        "# Excluding Incomplete Month\n",
        "print('Date Range: %s ~ %s' % (df['InvoiceDate'].min(), df['InvoiceDate'].max()))"
      ],
      "execution_count": null,
      "outputs": [
        {
          "output_type": "stream",
          "text": [
            "Date Range: 2010-12-01 08:26:00 ~ 2011-12-09 12:50:00\n"
          ],
          "name": "stdout"
        }
      ]
    },
    {
      "cell_type": "code",
      "metadata": {
        "colab": {
          "base_uri": "https://localhost:8080/"
        },
        "id": "6S0scODh6ODo",
        "outputId": "7ccc1e24-8f37-40ad-e719-9596a58c2495"
      },
      "source": [
        "df.loc[df['InvoiceDate'] >= '2011-12-01'].shape"
      ],
      "execution_count": null,
      "outputs": [
        {
          "output_type": "execute_result",
          "data": {
            "text/plain": [
              "(17304, 8)"
            ]
          },
          "metadata": {
            "tags": []
          },
          "execution_count": 18
        }
      ]
    },
    {
      "cell_type": "code",
      "metadata": {
        "colab": {
          "base_uri": "https://localhost:8080/"
        },
        "id": "8aBZLV476OmS",
        "outputId": "558ec327-0bbb-4bc6-d61c-d7efc6b68e5b"
      },
      "source": [
        "df.shape"
      ],
      "execution_count": null,
      "outputs": [
        {
          "output_type": "execute_result",
          "data": {
            "text/plain": [
              "(397924, 8)"
            ]
          },
          "metadata": {
            "tags": []
          },
          "execution_count": 19
        }
      ]
    },
    {
      "cell_type": "code",
      "metadata": {
        "id": "wU_x6BjC6QtZ"
      },
      "source": [
        "df = df.loc[df['InvoiceDate'] < '2011-12-01']"
      ],
      "execution_count": null,
      "outputs": []
    },
    {
      "cell_type": "code",
      "metadata": {
        "colab": {
          "base_uri": "https://localhost:8080/"
        },
        "id": "SNFSHoVZ6TKg",
        "outputId": "9643b5f5-d4af-491e-812a-bdad42861b93"
      },
      "source": [
        "df.shape"
      ],
      "execution_count": null,
      "outputs": [
        {
          "output_type": "execute_result",
          "data": {
            "text/plain": [
              "(380620, 8)"
            ]
          },
          "metadata": {
            "tags": []
          },
          "execution_count": 21
        }
      ]
    },
    {
      "cell_type": "code",
      "metadata": {
        "colab": {
          "base_uri": "https://localhost:8080/",
          "height": 289
        },
        "id": "IC1sG2IH6Uf5",
        "outputId": "b5a79187-feb9-4bb3-da62-390d60800199"
      },
      "source": [
        "# Total Sales\n",
        "df['Sales'] = df['Quantity'] * df['UnitPrice']\n",
        "df.head()"
      ],
      "execution_count": null,
      "outputs": [
        {
          "output_type": "execute_result",
          "data": {
            "text/html": [
              "<div>\n",
              "<style scoped>\n",
              "    .dataframe tbody tr th:only-of-type {\n",
              "        vertical-align: middle;\n",
              "    }\n",
              "\n",
              "    .dataframe tbody tr th {\n",
              "        vertical-align: top;\n",
              "    }\n",
              "\n",
              "    .dataframe thead th {\n",
              "        text-align: right;\n",
              "    }\n",
              "</style>\n",
              "<table border=\"1\" class=\"dataframe\">\n",
              "  <thead>\n",
              "    <tr style=\"text-align: right;\">\n",
              "      <th></th>\n",
              "      <th>InvoiceNo</th>\n",
              "      <th>StockCode</th>\n",
              "      <th>Description</th>\n",
              "      <th>Quantity</th>\n",
              "      <th>InvoiceDate</th>\n",
              "      <th>UnitPrice</th>\n",
              "      <th>CustomerID</th>\n",
              "      <th>Country</th>\n",
              "      <th>Sales</th>\n",
              "    </tr>\n",
              "  </thead>\n",
              "  <tbody>\n",
              "    <tr>\n",
              "      <th>0</th>\n",
              "      <td>536365</td>\n",
              "      <td>85123A</td>\n",
              "      <td>WHITE HANGING HEART T-LIGHT HOLDER</td>\n",
              "      <td>6</td>\n",
              "      <td>2010-12-01 08:26:00</td>\n",
              "      <td>2.55</td>\n",
              "      <td>17850.0</td>\n",
              "      <td>United Kingdom</td>\n",
              "      <td>15.30</td>\n",
              "    </tr>\n",
              "    <tr>\n",
              "      <th>1</th>\n",
              "      <td>536365</td>\n",
              "      <td>71053</td>\n",
              "      <td>WHITE METAL LANTERN</td>\n",
              "      <td>6</td>\n",
              "      <td>2010-12-01 08:26:00</td>\n",
              "      <td>3.39</td>\n",
              "      <td>17850.0</td>\n",
              "      <td>United Kingdom</td>\n",
              "      <td>20.34</td>\n",
              "    </tr>\n",
              "    <tr>\n",
              "      <th>2</th>\n",
              "      <td>536365</td>\n",
              "      <td>84406B</td>\n",
              "      <td>CREAM CUPID HEARTS COAT HANGER</td>\n",
              "      <td>8</td>\n",
              "      <td>2010-12-01 08:26:00</td>\n",
              "      <td>2.75</td>\n",
              "      <td>17850.0</td>\n",
              "      <td>United Kingdom</td>\n",
              "      <td>22.00</td>\n",
              "    </tr>\n",
              "    <tr>\n",
              "      <th>3</th>\n",
              "      <td>536365</td>\n",
              "      <td>84029G</td>\n",
              "      <td>KNITTED UNION FLAG HOT WATER BOTTLE</td>\n",
              "      <td>6</td>\n",
              "      <td>2010-12-01 08:26:00</td>\n",
              "      <td>3.39</td>\n",
              "      <td>17850.0</td>\n",
              "      <td>United Kingdom</td>\n",
              "      <td>20.34</td>\n",
              "    </tr>\n",
              "    <tr>\n",
              "      <th>4</th>\n",
              "      <td>536365</td>\n",
              "      <td>84029E</td>\n",
              "      <td>RED WOOLLY HOTTIE WHITE HEART.</td>\n",
              "      <td>6</td>\n",
              "      <td>2010-12-01 08:26:00</td>\n",
              "      <td>3.39</td>\n",
              "      <td>17850.0</td>\n",
              "      <td>United Kingdom</td>\n",
              "      <td>20.34</td>\n",
              "    </tr>\n",
              "  </tbody>\n",
              "</table>\n",
              "</div>"
            ],
            "text/plain": [
              "  InvoiceNo StockCode  ...         Country  Sales\n",
              "0    536365    85123A  ...  United Kingdom  15.30\n",
              "1    536365     71053  ...  United Kingdom  20.34\n",
              "2    536365    84406B  ...  United Kingdom  22.00\n",
              "3    536365    84029G  ...  United Kingdom  20.34\n",
              "4    536365    84029E  ...  United Kingdom  20.34\n",
              "\n",
              "[5 rows x 9 columns]"
            ]
          },
          "metadata": {
            "tags": []
          },
          "execution_count": 22
        }
      ]
    },
    {
      "cell_type": "code",
      "metadata": {
        "id": "eJItsWqD6ayg"
      },
      "source": [
        "# Per Order Data\n",
        "orders_df = df.groupby(['CustomerID', 'InvoiceNo']).agg({\n",
        "    'Sales': sum,\n",
        "    'InvoiceDate': max\n",
        "})"
      ],
      "execution_count": null,
      "outputs": []
    },
    {
      "cell_type": "code",
      "metadata": {
        "colab": {
          "base_uri": "https://localhost:8080/",
          "height": 450
        },
        "id": "VZyOwjaZ6h95",
        "outputId": "792956aa-da66-417f-d4ab-27d4215b79af"
      },
      "source": [
        "orders_df"
      ],
      "execution_count": null,
      "outputs": [
        {
          "output_type": "execute_result",
          "data": {
            "text/html": [
              "<div>\n",
              "<style scoped>\n",
              "    .dataframe tbody tr th:only-of-type {\n",
              "        vertical-align: middle;\n",
              "    }\n",
              "\n",
              "    .dataframe tbody tr th {\n",
              "        vertical-align: top;\n",
              "    }\n",
              "\n",
              "    .dataframe thead th {\n",
              "        text-align: right;\n",
              "    }\n",
              "</style>\n",
              "<table border=\"1\" class=\"dataframe\">\n",
              "  <thead>\n",
              "    <tr style=\"text-align: right;\">\n",
              "      <th></th>\n",
              "      <th></th>\n",
              "      <th>Sales</th>\n",
              "      <th>InvoiceDate</th>\n",
              "    </tr>\n",
              "    <tr>\n",
              "      <th>CustomerID</th>\n",
              "      <th>InvoiceNo</th>\n",
              "      <th></th>\n",
              "      <th></th>\n",
              "    </tr>\n",
              "  </thead>\n",
              "  <tbody>\n",
              "    <tr>\n",
              "      <th>12346.0</th>\n",
              "      <th>541431</th>\n",
              "      <td>77183.60</td>\n",
              "      <td>2011-01-18 10:01:00</td>\n",
              "    </tr>\n",
              "    <tr>\n",
              "      <th rowspan=\"4\" valign=\"top\">12347.0</th>\n",
              "      <th>537626</th>\n",
              "      <td>711.79</td>\n",
              "      <td>2010-12-07 14:57:00</td>\n",
              "    </tr>\n",
              "    <tr>\n",
              "      <th>542237</th>\n",
              "      <td>475.39</td>\n",
              "      <td>2011-01-26 14:30:00</td>\n",
              "    </tr>\n",
              "    <tr>\n",
              "      <th>549222</th>\n",
              "      <td>636.25</td>\n",
              "      <td>2011-04-07 10:43:00</td>\n",
              "    </tr>\n",
              "    <tr>\n",
              "      <th>556201</th>\n",
              "      <td>382.52</td>\n",
              "      <td>2011-06-09 13:01:00</td>\n",
              "    </tr>\n",
              "    <tr>\n",
              "      <th>...</th>\n",
              "      <th>...</th>\n",
              "      <td>...</td>\n",
              "      <td>...</td>\n",
              "    </tr>\n",
              "    <tr>\n",
              "      <th rowspan=\"2\" valign=\"top\">18283.0</th>\n",
              "      <th>578262</th>\n",
              "      <td>313.65</td>\n",
              "      <td>2011-11-23 13:27:00</td>\n",
              "    </tr>\n",
              "    <tr>\n",
              "      <th>579673</th>\n",
              "      <td>223.61</td>\n",
              "      <td>2011-11-30 12:59:00</td>\n",
              "    </tr>\n",
              "    <tr>\n",
              "      <th rowspan=\"3\" valign=\"top\">18287.0</th>\n",
              "      <th>554065</th>\n",
              "      <td>765.28</td>\n",
              "      <td>2011-05-22 10:39:00</td>\n",
              "    </tr>\n",
              "    <tr>\n",
              "      <th>570715</th>\n",
              "      <td>1001.32</td>\n",
              "      <td>2011-10-12 10:23:00</td>\n",
              "    </tr>\n",
              "    <tr>\n",
              "      <th>573167</th>\n",
              "      <td>70.68</td>\n",
              "      <td>2011-10-28 09:29:00</td>\n",
              "    </tr>\n",
              "  </tbody>\n",
              "</table>\n",
              "<p>17758 rows × 2 columns</p>\n",
              "</div>"
            ],
            "text/plain": [
              "                         Sales         InvoiceDate\n",
              "CustomerID InvoiceNo                              \n",
              "12346.0    541431     77183.60 2011-01-18 10:01:00\n",
              "12347.0    537626       711.79 2010-12-07 14:57:00\n",
              "           542237       475.39 2011-01-26 14:30:00\n",
              "           549222       636.25 2011-04-07 10:43:00\n",
              "           556201       382.52 2011-06-09 13:01:00\n",
              "...                        ...                 ...\n",
              "18283.0    578262       313.65 2011-11-23 13:27:00\n",
              "           579673       223.61 2011-11-30 12:59:00\n",
              "18287.0    554065       765.28 2011-05-22 10:39:00\n",
              "           570715      1001.32 2011-10-12 10:23:00\n",
              "           573167        70.68 2011-10-28 09:29:00\n",
              "\n",
              "[17758 rows x 2 columns]"
            ]
          },
          "metadata": {
            "tags": []
          },
          "execution_count": 24
        }
      ]
    },
    {
      "cell_type": "code",
      "metadata": {
        "id": "sW1VOYNC6jmZ"
      },
      "source": [
        "# Data Analysis\n",
        "def groupby_mean(x):\n",
        "    return x.mean()\n",
        "\n",
        "def groupby_count(x):\n",
        "    return x.count()\n",
        "\n",
        "def purchase_duration(x):\n",
        "    return (x.max() - x.min()).days\n",
        "\n",
        "def avg_frequency(x):\n",
        "    return (x.max() - x.min()).days/x.count()\n",
        "\n",
        "groupby_mean.__name__ = 'avg'\n",
        "groupby_count.__name__ = 'count'\n",
        "purchase_duration.__name__ = 'purchase_duration'\n",
        "avg_frequency.__name__ = 'purchase_frequency'"
      ],
      "execution_count": null,
      "outputs": []
    },
    {
      "cell_type": "code",
      "metadata": {
        "colab": {
          "base_uri": "https://localhost:8080/",
          "height": 821
        },
        "id": "naQOeo4Z7Aa4",
        "outputId": "70eea7c9-ed82-485b-e71c-9db1869f7f6a"
      },
      "source": [
        "summary_df = orders_df.reset_index().groupby('CustomerID').agg({\n",
        "    'Sales': [min, max, sum, groupby_mean, groupby_count],\n",
        "    'InvoiceDate': [min, max, purchase_duration, avg_frequency]\n",
        "})\n",
        "summary_df"
      ],
      "execution_count": null,
      "outputs": [
        {
          "output_type": "execute_result",
          "data": {
            "text/html": [
              "<div>\n",
              "<style scoped>\n",
              "    .dataframe tbody tr th:only-of-type {\n",
              "        vertical-align: middle;\n",
              "    }\n",
              "\n",
              "    .dataframe tbody tr th {\n",
              "        vertical-align: top;\n",
              "    }\n",
              "\n",
              "    .dataframe thead tr th {\n",
              "        text-align: left;\n",
              "    }\n",
              "\n",
              "    .dataframe thead tr:last-of-type th {\n",
              "        text-align: right;\n",
              "    }\n",
              "</style>\n",
              "<table border=\"1\" class=\"dataframe\">\n",
              "  <thead>\n",
              "    <tr>\n",
              "      <th></th>\n",
              "      <th colspan=\"5\" halign=\"left\">Sales</th>\n",
              "      <th colspan=\"4\" halign=\"left\">InvoiceDate</th>\n",
              "    </tr>\n",
              "    <tr>\n",
              "      <th></th>\n",
              "      <th>min</th>\n",
              "      <th>max</th>\n",
              "      <th>sum</th>\n",
              "      <th>avg</th>\n",
              "      <th>count</th>\n",
              "      <th>min</th>\n",
              "      <th>max</th>\n",
              "      <th>purchase_duration</th>\n",
              "      <th>purchase_frequency</th>\n",
              "    </tr>\n",
              "    <tr>\n",
              "      <th>CustomerID</th>\n",
              "      <th></th>\n",
              "      <th></th>\n",
              "      <th></th>\n",
              "      <th></th>\n",
              "      <th></th>\n",
              "      <th></th>\n",
              "      <th></th>\n",
              "      <th></th>\n",
              "      <th></th>\n",
              "    </tr>\n",
              "  </thead>\n",
              "  <tbody>\n",
              "    <tr>\n",
              "      <th>12346.0</th>\n",
              "      <td>77183.60</td>\n",
              "      <td>77183.60</td>\n",
              "      <td>77183.60</td>\n",
              "      <td>77183.600000</td>\n",
              "      <td>1.0</td>\n",
              "      <td>2011-01-18 10:01:00</td>\n",
              "      <td>2011-01-18 10:01:00</td>\n",
              "      <td>0</td>\n",
              "      <td>0.000000</td>\n",
              "    </tr>\n",
              "    <tr>\n",
              "      <th>12347.0</th>\n",
              "      <td>382.52</td>\n",
              "      <td>1294.32</td>\n",
              "      <td>4085.18</td>\n",
              "      <td>680.863333</td>\n",
              "      <td>6.0</td>\n",
              "      <td>2010-12-07 14:57:00</td>\n",
              "      <td>2011-10-31 12:25:00</td>\n",
              "      <td>327</td>\n",
              "      <td>54.500000</td>\n",
              "    </tr>\n",
              "    <tr>\n",
              "      <th>12348.0</th>\n",
              "      <td>227.44</td>\n",
              "      <td>892.80</td>\n",
              "      <td>1797.24</td>\n",
              "      <td>449.310000</td>\n",
              "      <td>4.0</td>\n",
              "      <td>2010-12-16 19:09:00</td>\n",
              "      <td>2011-09-25 13:13:00</td>\n",
              "      <td>282</td>\n",
              "      <td>70.500000</td>\n",
              "    </tr>\n",
              "    <tr>\n",
              "      <th>12349.0</th>\n",
              "      <td>1757.55</td>\n",
              "      <td>1757.55</td>\n",
              "      <td>1757.55</td>\n",
              "      <td>1757.550000</td>\n",
              "      <td>1.0</td>\n",
              "      <td>2011-11-21 09:51:00</td>\n",
              "      <td>2011-11-21 09:51:00</td>\n",
              "      <td>0</td>\n",
              "      <td>0.000000</td>\n",
              "    </tr>\n",
              "    <tr>\n",
              "      <th>12350.0</th>\n",
              "      <td>334.40</td>\n",
              "      <td>334.40</td>\n",
              "      <td>334.40</td>\n",
              "      <td>334.400000</td>\n",
              "      <td>1.0</td>\n",
              "      <td>2011-02-02 16:01:00</td>\n",
              "      <td>2011-02-02 16:01:00</td>\n",
              "      <td>0</td>\n",
              "      <td>0.000000</td>\n",
              "    </tr>\n",
              "    <tr>\n",
              "      <th>...</th>\n",
              "      <td>...</td>\n",
              "      <td>...</td>\n",
              "      <td>...</td>\n",
              "      <td>...</td>\n",
              "      <td>...</td>\n",
              "      <td>...</td>\n",
              "      <td>...</td>\n",
              "      <td>...</td>\n",
              "      <td>...</td>\n",
              "    </tr>\n",
              "    <tr>\n",
              "      <th>18280.0</th>\n",
              "      <td>180.60</td>\n",
              "      <td>180.60</td>\n",
              "      <td>180.60</td>\n",
              "      <td>180.600000</td>\n",
              "      <td>1.0</td>\n",
              "      <td>2011-03-07 09:52:00</td>\n",
              "      <td>2011-03-07 09:52:00</td>\n",
              "      <td>0</td>\n",
              "      <td>0.000000</td>\n",
              "    </tr>\n",
              "    <tr>\n",
              "      <th>18281.0</th>\n",
              "      <td>80.82</td>\n",
              "      <td>80.82</td>\n",
              "      <td>80.82</td>\n",
              "      <td>80.820000</td>\n",
              "      <td>1.0</td>\n",
              "      <td>2011-06-12 10:53:00</td>\n",
              "      <td>2011-06-12 10:53:00</td>\n",
              "      <td>0</td>\n",
              "      <td>0.000000</td>\n",
              "    </tr>\n",
              "    <tr>\n",
              "      <th>18282.0</th>\n",
              "      <td>100.21</td>\n",
              "      <td>100.21</td>\n",
              "      <td>100.21</td>\n",
              "      <td>100.210000</td>\n",
              "      <td>1.0</td>\n",
              "      <td>2011-08-05 13:35:00</td>\n",
              "      <td>2011-08-05 13:35:00</td>\n",
              "      <td>0</td>\n",
              "      <td>0.000000</td>\n",
              "    </tr>\n",
              "    <tr>\n",
              "      <th>18283.0</th>\n",
              "      <td>1.95</td>\n",
              "      <td>313.65</td>\n",
              "      <td>1886.88</td>\n",
              "      <td>125.792000</td>\n",
              "      <td>15.0</td>\n",
              "      <td>2011-01-06 14:14:00</td>\n",
              "      <td>2011-11-30 12:59:00</td>\n",
              "      <td>327</td>\n",
              "      <td>21.800000</td>\n",
              "    </tr>\n",
              "    <tr>\n",
              "      <th>18287.0</th>\n",
              "      <td>70.68</td>\n",
              "      <td>1001.32</td>\n",
              "      <td>1837.28</td>\n",
              "      <td>612.426667</td>\n",
              "      <td>3.0</td>\n",
              "      <td>2011-05-22 10:39:00</td>\n",
              "      <td>2011-10-28 09:29:00</td>\n",
              "      <td>158</td>\n",
              "      <td>52.666667</td>\n",
              "    </tr>\n",
              "  </tbody>\n",
              "</table>\n",
              "<p>4298 rows × 9 columns</p>\n",
              "</div>"
            ],
            "text/plain": [
              "               Sales            ...       InvoiceDate                   \n",
              "                 min       max  ... purchase_duration purchase_frequency\n",
              "CustomerID                      ...                                     \n",
              "12346.0     77183.60  77183.60  ...                 0           0.000000\n",
              "12347.0       382.52   1294.32  ...               327          54.500000\n",
              "12348.0       227.44    892.80  ...               282          70.500000\n",
              "12349.0      1757.55   1757.55  ...                 0           0.000000\n",
              "12350.0       334.40    334.40  ...                 0           0.000000\n",
              "...              ...       ...  ...               ...                ...\n",
              "18280.0       180.60    180.60  ...                 0           0.000000\n",
              "18281.0        80.82     80.82  ...                 0           0.000000\n",
              "18282.0       100.21    100.21  ...                 0           0.000000\n",
              "18283.0         1.95    313.65  ...               327          21.800000\n",
              "18287.0        70.68   1001.32  ...               158          52.666667\n",
              "\n",
              "[4298 rows x 9 columns]"
            ]
          },
          "metadata": {
            "tags": []
          },
          "execution_count": 26
        }
      ]
    },
    {
      "cell_type": "code",
      "metadata": {
        "colab": {
          "base_uri": "https://localhost:8080/",
          "height": 640
        },
        "id": "GUi2bj3L7ET5",
        "outputId": "9a79ada1-433d-4274-ffd0-1e9569152a96"
      },
      "source": [
        "summary_df.columns = ['_'.join(col).lower() for col in summary_df.columns]\n",
        "summary_df"
      ],
      "execution_count": null,
      "outputs": [
        {
          "output_type": "execute_result",
          "data": {
            "text/html": [
              "<div>\n",
              "<style scoped>\n",
              "    .dataframe tbody tr th:only-of-type {\n",
              "        vertical-align: middle;\n",
              "    }\n",
              "\n",
              "    .dataframe tbody tr th {\n",
              "        vertical-align: top;\n",
              "    }\n",
              "\n",
              "    .dataframe thead th {\n",
              "        text-align: right;\n",
              "    }\n",
              "</style>\n",
              "<table border=\"1\" class=\"dataframe\">\n",
              "  <thead>\n",
              "    <tr style=\"text-align: right;\">\n",
              "      <th></th>\n",
              "      <th>sales_min</th>\n",
              "      <th>sales_max</th>\n",
              "      <th>sales_sum</th>\n",
              "      <th>sales_avg</th>\n",
              "      <th>sales_count</th>\n",
              "      <th>invoicedate_min</th>\n",
              "      <th>invoicedate_max</th>\n",
              "      <th>invoicedate_purchase_duration</th>\n",
              "      <th>invoicedate_purchase_frequency</th>\n",
              "    </tr>\n",
              "    <tr>\n",
              "      <th>CustomerID</th>\n",
              "      <th></th>\n",
              "      <th></th>\n",
              "      <th></th>\n",
              "      <th></th>\n",
              "      <th></th>\n",
              "      <th></th>\n",
              "      <th></th>\n",
              "      <th></th>\n",
              "      <th></th>\n",
              "    </tr>\n",
              "  </thead>\n",
              "  <tbody>\n",
              "    <tr>\n",
              "      <th>12346.0</th>\n",
              "      <td>77183.60</td>\n",
              "      <td>77183.60</td>\n",
              "      <td>77183.60</td>\n",
              "      <td>77183.600000</td>\n",
              "      <td>1.0</td>\n",
              "      <td>2011-01-18 10:01:00</td>\n",
              "      <td>2011-01-18 10:01:00</td>\n",
              "      <td>0</td>\n",
              "      <td>0.000000</td>\n",
              "    </tr>\n",
              "    <tr>\n",
              "      <th>12347.0</th>\n",
              "      <td>382.52</td>\n",
              "      <td>1294.32</td>\n",
              "      <td>4085.18</td>\n",
              "      <td>680.863333</td>\n",
              "      <td>6.0</td>\n",
              "      <td>2010-12-07 14:57:00</td>\n",
              "      <td>2011-10-31 12:25:00</td>\n",
              "      <td>327</td>\n",
              "      <td>54.500000</td>\n",
              "    </tr>\n",
              "    <tr>\n",
              "      <th>12348.0</th>\n",
              "      <td>227.44</td>\n",
              "      <td>892.80</td>\n",
              "      <td>1797.24</td>\n",
              "      <td>449.310000</td>\n",
              "      <td>4.0</td>\n",
              "      <td>2010-12-16 19:09:00</td>\n",
              "      <td>2011-09-25 13:13:00</td>\n",
              "      <td>282</td>\n",
              "      <td>70.500000</td>\n",
              "    </tr>\n",
              "    <tr>\n",
              "      <th>12349.0</th>\n",
              "      <td>1757.55</td>\n",
              "      <td>1757.55</td>\n",
              "      <td>1757.55</td>\n",
              "      <td>1757.550000</td>\n",
              "      <td>1.0</td>\n",
              "      <td>2011-11-21 09:51:00</td>\n",
              "      <td>2011-11-21 09:51:00</td>\n",
              "      <td>0</td>\n",
              "      <td>0.000000</td>\n",
              "    </tr>\n",
              "    <tr>\n",
              "      <th>12350.0</th>\n",
              "      <td>334.40</td>\n",
              "      <td>334.40</td>\n",
              "      <td>334.40</td>\n",
              "      <td>334.400000</td>\n",
              "      <td>1.0</td>\n",
              "      <td>2011-02-02 16:01:00</td>\n",
              "      <td>2011-02-02 16:01:00</td>\n",
              "      <td>0</td>\n",
              "      <td>0.000000</td>\n",
              "    </tr>\n",
              "    <tr>\n",
              "      <th>...</th>\n",
              "      <td>...</td>\n",
              "      <td>...</td>\n",
              "      <td>...</td>\n",
              "      <td>...</td>\n",
              "      <td>...</td>\n",
              "      <td>...</td>\n",
              "      <td>...</td>\n",
              "      <td>...</td>\n",
              "      <td>...</td>\n",
              "    </tr>\n",
              "    <tr>\n",
              "      <th>18280.0</th>\n",
              "      <td>180.60</td>\n",
              "      <td>180.60</td>\n",
              "      <td>180.60</td>\n",
              "      <td>180.600000</td>\n",
              "      <td>1.0</td>\n",
              "      <td>2011-03-07 09:52:00</td>\n",
              "      <td>2011-03-07 09:52:00</td>\n",
              "      <td>0</td>\n",
              "      <td>0.000000</td>\n",
              "    </tr>\n",
              "    <tr>\n",
              "      <th>18281.0</th>\n",
              "      <td>80.82</td>\n",
              "      <td>80.82</td>\n",
              "      <td>80.82</td>\n",
              "      <td>80.820000</td>\n",
              "      <td>1.0</td>\n",
              "      <td>2011-06-12 10:53:00</td>\n",
              "      <td>2011-06-12 10:53:00</td>\n",
              "      <td>0</td>\n",
              "      <td>0.000000</td>\n",
              "    </tr>\n",
              "    <tr>\n",
              "      <th>18282.0</th>\n",
              "      <td>100.21</td>\n",
              "      <td>100.21</td>\n",
              "      <td>100.21</td>\n",
              "      <td>100.210000</td>\n",
              "      <td>1.0</td>\n",
              "      <td>2011-08-05 13:35:00</td>\n",
              "      <td>2011-08-05 13:35:00</td>\n",
              "      <td>0</td>\n",
              "      <td>0.000000</td>\n",
              "    </tr>\n",
              "    <tr>\n",
              "      <th>18283.0</th>\n",
              "      <td>1.95</td>\n",
              "      <td>313.65</td>\n",
              "      <td>1886.88</td>\n",
              "      <td>125.792000</td>\n",
              "      <td>15.0</td>\n",
              "      <td>2011-01-06 14:14:00</td>\n",
              "      <td>2011-11-30 12:59:00</td>\n",
              "      <td>327</td>\n",
              "      <td>21.800000</td>\n",
              "    </tr>\n",
              "    <tr>\n",
              "      <th>18287.0</th>\n",
              "      <td>70.68</td>\n",
              "      <td>1001.32</td>\n",
              "      <td>1837.28</td>\n",
              "      <td>612.426667</td>\n",
              "      <td>3.0</td>\n",
              "      <td>2011-05-22 10:39:00</td>\n",
              "      <td>2011-10-28 09:29:00</td>\n",
              "      <td>158</td>\n",
              "      <td>52.666667</td>\n",
              "    </tr>\n",
              "  </tbody>\n",
              "</table>\n",
              "<p>4298 rows × 9 columns</p>\n",
              "</div>"
            ],
            "text/plain": [
              "            sales_min  ...  invoicedate_purchase_frequency\n",
              "CustomerID             ...                                \n",
              "12346.0      77183.60  ...                        0.000000\n",
              "12347.0        382.52  ...                       54.500000\n",
              "12348.0        227.44  ...                       70.500000\n",
              "12349.0       1757.55  ...                        0.000000\n",
              "12350.0        334.40  ...                        0.000000\n",
              "...               ...  ...                             ...\n",
              "18280.0        180.60  ...                        0.000000\n",
              "18281.0         80.82  ...                        0.000000\n",
              "18282.0        100.21  ...                        0.000000\n",
              "18283.0          1.95  ...                       21.800000\n",
              "18287.0         70.68  ...                       52.666667\n",
              "\n",
              "[4298 rows x 9 columns]"
            ]
          },
          "metadata": {
            "tags": []
          },
          "execution_count": 27
        }
      ]
    },
    {
      "cell_type": "code",
      "metadata": {
        "colab": {
          "base_uri": "https://localhost:8080/"
        },
        "id": "ViJO1nfM7fKg",
        "outputId": "1f18b9f0-3399-497d-aef8-47fbb491d2aa"
      },
      "source": [
        "summary_df.shape"
      ],
      "execution_count": null,
      "outputs": [
        {
          "output_type": "execute_result",
          "data": {
            "text/plain": [
              "(4298, 9)"
            ]
          },
          "metadata": {
            "tags": []
          },
          "execution_count": 28
        }
      ]
    },
    {
      "cell_type": "code",
      "metadata": {
        "colab": {
          "base_uri": "https://localhost:8080/",
          "height": 640
        },
        "id": "rhkXjUIl7wAR",
        "outputId": "39eeade6-39e6-4b2d-dbad-d12aa0b1c01d"
      },
      "source": [
        "summary_df = summary_df.loc[summary_df['invoicedate_purchase_duration'] > 0]\n",
        "summary_df"
      ],
      "execution_count": null,
      "outputs": [
        {
          "output_type": "execute_result",
          "data": {
            "text/html": [
              "<div>\n",
              "<style scoped>\n",
              "    .dataframe tbody tr th:only-of-type {\n",
              "        vertical-align: middle;\n",
              "    }\n",
              "\n",
              "    .dataframe tbody tr th {\n",
              "        vertical-align: top;\n",
              "    }\n",
              "\n",
              "    .dataframe thead th {\n",
              "        text-align: right;\n",
              "    }\n",
              "</style>\n",
              "<table border=\"1\" class=\"dataframe\">\n",
              "  <thead>\n",
              "    <tr style=\"text-align: right;\">\n",
              "      <th></th>\n",
              "      <th>sales_min</th>\n",
              "      <th>sales_max</th>\n",
              "      <th>sales_sum</th>\n",
              "      <th>sales_avg</th>\n",
              "      <th>sales_count</th>\n",
              "      <th>invoicedate_min</th>\n",
              "      <th>invoicedate_max</th>\n",
              "      <th>invoicedate_purchase_duration</th>\n",
              "      <th>invoicedate_purchase_frequency</th>\n",
              "    </tr>\n",
              "    <tr>\n",
              "      <th>CustomerID</th>\n",
              "      <th></th>\n",
              "      <th></th>\n",
              "      <th></th>\n",
              "      <th></th>\n",
              "      <th></th>\n",
              "      <th></th>\n",
              "      <th></th>\n",
              "      <th></th>\n",
              "      <th></th>\n",
              "    </tr>\n",
              "  </thead>\n",
              "  <tbody>\n",
              "    <tr>\n",
              "      <th>12347.0</th>\n",
              "      <td>382.52</td>\n",
              "      <td>1294.32</td>\n",
              "      <td>4085.18</td>\n",
              "      <td>680.863333</td>\n",
              "      <td>6.0</td>\n",
              "      <td>2010-12-07 14:57:00</td>\n",
              "      <td>2011-10-31 12:25:00</td>\n",
              "      <td>327</td>\n",
              "      <td>54.500000</td>\n",
              "    </tr>\n",
              "    <tr>\n",
              "      <th>12348.0</th>\n",
              "      <td>227.44</td>\n",
              "      <td>892.80</td>\n",
              "      <td>1797.24</td>\n",
              "      <td>449.310000</td>\n",
              "      <td>4.0</td>\n",
              "      <td>2010-12-16 19:09:00</td>\n",
              "      <td>2011-09-25 13:13:00</td>\n",
              "      <td>282</td>\n",
              "      <td>70.500000</td>\n",
              "    </tr>\n",
              "    <tr>\n",
              "      <th>12352.0</th>\n",
              "      <td>120.33</td>\n",
              "      <td>840.30</td>\n",
              "      <td>2506.04</td>\n",
              "      <td>313.255000</td>\n",
              "      <td>8.0</td>\n",
              "      <td>2011-02-16 12:33:00</td>\n",
              "      <td>2011-11-03 14:37:00</td>\n",
              "      <td>260</td>\n",
              "      <td>32.500000</td>\n",
              "    </tr>\n",
              "    <tr>\n",
              "      <th>12356.0</th>\n",
              "      <td>58.35</td>\n",
              "      <td>2271.62</td>\n",
              "      <td>2811.43</td>\n",
              "      <td>937.143333</td>\n",
              "      <td>3.0</td>\n",
              "      <td>2011-01-18 09:50:00</td>\n",
              "      <td>2011-11-17 08:40:00</td>\n",
              "      <td>302</td>\n",
              "      <td>100.666667</td>\n",
              "    </tr>\n",
              "    <tr>\n",
              "      <th>12359.0</th>\n",
              "      <td>547.50</td>\n",
              "      <td>2876.85</td>\n",
              "      <td>6372.58</td>\n",
              "      <td>1593.145000</td>\n",
              "      <td>4.0</td>\n",
              "      <td>2011-01-12 12:43:00</td>\n",
              "      <td>2011-10-13 12:47:00</td>\n",
              "      <td>274</td>\n",
              "      <td>68.500000</td>\n",
              "    </tr>\n",
              "    <tr>\n",
              "      <th>...</th>\n",
              "      <td>...</td>\n",
              "      <td>...</td>\n",
              "      <td>...</td>\n",
              "      <td>...</td>\n",
              "      <td>...</td>\n",
              "      <td>...</td>\n",
              "      <td>...</td>\n",
              "      <td>...</td>\n",
              "      <td>...</td>\n",
              "    </tr>\n",
              "    <tr>\n",
              "      <th>18270.0</th>\n",
              "      <td>111.95</td>\n",
              "      <td>171.20</td>\n",
              "      <td>283.15</td>\n",
              "      <td>141.575000</td>\n",
              "      <td>2.0</td>\n",
              "      <td>2011-03-18 12:41:00</td>\n",
              "      <td>2011-11-01 13:57:00</td>\n",
              "      <td>228</td>\n",
              "      <td>114.000000</td>\n",
              "    </tr>\n",
              "    <tr>\n",
              "      <th>18272.0</th>\n",
              "      <td>340.72</td>\n",
              "      <td>753.66</td>\n",
              "      <td>2710.70</td>\n",
              "      <td>542.140000</td>\n",
              "      <td>5.0</td>\n",
              "      <td>2011-04-07 09:35:00</td>\n",
              "      <td>2011-10-25 11:52:00</td>\n",
              "      <td>201</td>\n",
              "      <td>40.200000</td>\n",
              "    </tr>\n",
              "    <tr>\n",
              "      <th>18273.0</th>\n",
              "      <td>51.00</td>\n",
              "      <td>102.00</td>\n",
              "      <td>153.00</td>\n",
              "      <td>76.500000</td>\n",
              "      <td>2.0</td>\n",
              "      <td>2011-03-27 11:22:00</td>\n",
              "      <td>2011-09-05 11:27:00</td>\n",
              "      <td>162</td>\n",
              "      <td>81.000000</td>\n",
              "    </tr>\n",
              "    <tr>\n",
              "      <th>18283.0</th>\n",
              "      <td>1.95</td>\n",
              "      <td>313.65</td>\n",
              "      <td>1886.88</td>\n",
              "      <td>125.792000</td>\n",
              "      <td>15.0</td>\n",
              "      <td>2011-01-06 14:14:00</td>\n",
              "      <td>2011-11-30 12:59:00</td>\n",
              "      <td>327</td>\n",
              "      <td>21.800000</td>\n",
              "    </tr>\n",
              "    <tr>\n",
              "      <th>18287.0</th>\n",
              "      <td>70.68</td>\n",
              "      <td>1001.32</td>\n",
              "      <td>1837.28</td>\n",
              "      <td>612.426667</td>\n",
              "      <td>3.0</td>\n",
              "      <td>2011-05-22 10:39:00</td>\n",
              "      <td>2011-10-28 09:29:00</td>\n",
              "      <td>158</td>\n",
              "      <td>52.666667</td>\n",
              "    </tr>\n",
              "  </tbody>\n",
              "</table>\n",
              "<p>2692 rows × 9 columns</p>\n",
              "</div>"
            ],
            "text/plain": [
              "            sales_min  ...  invoicedate_purchase_frequency\n",
              "CustomerID             ...                                \n",
              "12347.0        382.52  ...                       54.500000\n",
              "12348.0        227.44  ...                       70.500000\n",
              "12352.0        120.33  ...                       32.500000\n",
              "12356.0         58.35  ...                      100.666667\n",
              "12359.0        547.50  ...                       68.500000\n",
              "...               ...  ...                             ...\n",
              "18270.0        111.95  ...                      114.000000\n",
              "18272.0        340.72  ...                       40.200000\n",
              "18273.0         51.00  ...                       81.000000\n",
              "18283.0          1.95  ...                       21.800000\n",
              "18287.0         70.68  ...                       52.666667\n",
              "\n",
              "[2692 rows x 9 columns]"
            ]
          },
          "metadata": {
            "tags": []
          },
          "execution_count": 29
        }
      ]
    },
    {
      "cell_type": "code",
      "metadata": {
        "colab": {
          "base_uri": "https://localhost:8080/",
          "height": 456
        },
        "id": "3OAgC66h7znf",
        "outputId": "bbdb9df4-2e97-4b49-bb76-b8d40b4a8fc6"
      },
      "source": [
        "ax = summary_df.groupby('sales_count').count()['sales_avg'][:20].plot(\n",
        "    kind='bar',\n",
        "    color='skyblue',\n",
        "    figsize=(12,7),\n",
        "    grid=True\n",
        ")\n",
        "\n",
        "ax.set_ylabel('count')\n",
        "\n",
        "plt.show()"
      ],
      "execution_count": null,
      "outputs": [
        {
          "output_type": "display_data",
          "data": {
            "image/png": "[encoded data removed]",
            "text/plain": [
              "<Figure size 864x504 with 1 Axes>"
            ]
          },
          "metadata": {
            "tags": [],
            "needs_background": "light"
          }
        }
      ]
    },
    {
      "cell_type": "code",
      "metadata": {
        "colab": {
          "base_uri": "https://localhost:8080/"
        },
        "id": "KZRfOtPl74xp",
        "outputId": "d6756f10-9eca-40da-c3b6-bd03f1826f01"
      },
      "source": [
        "summary_df['sales_count'].describe()"
      ],
      "execution_count": null,
      "outputs": [
        {
          "output_type": "execute_result",
          "data": {
            "text/plain": [
              "count    2692.000000\n",
              "mean        5.971025\n",
              "std         8.878128\n",
              "min         2.000000\n",
              "25%         2.000000\n",
              "50%         4.000000\n",
              "75%         6.000000\n",
              "max       201.000000\n",
              "Name: sales_count, dtype: float64"
            ]
          },
          "metadata": {
            "tags": []
          },
          "execution_count": 31
        }
      ]
    },
    {
      "cell_type": "code",
      "metadata": {
        "colab": {
          "base_uri": "https://localhost:8080/"
        },
        "id": "w69g0CHG8Gc6",
        "outputId": "6169582c-e7f4-4613-f2d7-687b82879ae7"
      },
      "source": [
        "summary_df['sales_avg'].describe()"
      ],
      "execution_count": null,
      "outputs": [
        {
          "output_type": "execute_result",
          "data": {
            "text/plain": [
              "count     2692.000000\n",
              "mean       391.458687\n",
              "std        465.584404\n",
              "min          3.450000\n",
              "25%        197.661000\n",
              "50%        306.043333\n",
              "75%        444.524000\n",
              "max      14844.766667\n",
              "Name: sales_avg, dtype: float64"
            ]
          },
          "metadata": {
            "tags": []
          },
          "execution_count": 32
        }
      ]
    },
    {
      "cell_type": "code",
      "metadata": {
        "colab": {
          "base_uri": "https://localhost:8080/",
          "height": 442
        },
        "id": "pVocg3os8MRh",
        "outputId": "531a923f-57c6-4007-b99d-3c852604fb19"
      },
      "source": [
        "ax = summary_df['invoicedate_purchase_frequency'].hist(\n",
        "    bins=20,\n",
        "    color='skyblue',\n",
        "    rwidth=0.7,\n",
        "    figsize=(12,7)\n",
        ")\n",
        "ax.set_xlabel('avg. number of days between purchases')\n",
        "ax.set_ylabel('count')\n",
        "\n",
        "plt.show()"
      ],
      "execution_count": null,
      "outputs": [
        {
          "output_type": "display_data",
          "data": {
            "image/png": "[encoded data removed]",
            "text/plain": [
              "<Figure size 864x504 with 1 Axes>"
            ]
          },
          "metadata": {
            "tags": [],
            "needs_background": "light"
          }
        }
      ]
    },
    {
      "cell_type": "code",
      "metadata": {
        "colab": {
          "base_uri": "https://localhost:8080/"
        },
        "id": "cnq6wCyS8TUI",
        "outputId": "a68b9bb1-dbc7-45b1-dfc8-86d4b2c3613a"
      },
      "source": [
        "summary_df['invoicedate_purchase_frequency'].describe()"
      ],
      "execution_count": null,
      "outputs": [
        {
          "output_type": "execute_result",
          "data": {
            "text/plain": [
              "count    2692.000000\n",
              "mean       46.999022\n",
              "std        32.395004\n",
              "min         0.029412\n",
              "25%        23.500000\n",
              "50%        40.500000\n",
              "75%        62.333333\n",
              "max       182.000000\n",
              "Name: invoicedate_purchase_frequency, dtype: float64"
            ]
          },
          "metadata": {
            "tags": []
          },
          "execution_count": 34
        }
      ]
    },
    {
      "cell_type": "code",
      "metadata": {
        "colab": {
          "base_uri": "https://localhost:8080/"
        },
        "id": "RvIJTZGl8WAv",
        "outputId": "ab869bcc-1841-42b5-d0e4-65b26e5dbaef"
      },
      "source": [
        "summary_df['invoicedate_purchase_duration'].describe()"
      ],
      "execution_count": null,
      "outputs": [
        {
          "output_type": "execute_result",
          "data": {
            "text/plain": [
              "count    2692.000000\n",
              "mean      199.720282\n",
              "std       107.816559\n",
              "min         1.000000\n",
              "25%       107.000000\n",
              "50%       209.000000\n",
              "75%       296.000000\n",
              "max       364.000000\n",
              "Name: invoicedate_purchase_duration, dtype: float64"
            ]
          },
          "metadata": {
            "tags": []
          },
          "execution_count": 35
        }
      ]
    },
    {
      "cell_type": "code",
      "metadata": {
        "id": "xxXqGXYW8YTw"
      },
      "source": [
        "# Predicting 3-Month CLV\n",
        "# Data Preparation\n",
        "clv_freq = '3M'"
      ],
      "execution_count": null,
      "outputs": []
    },
    {
      "cell_type": "code",
      "metadata": {
        "id": "sZ7WCuV38itJ"
      },
      "source": [
        "data_df = orders_df.reset_index().groupby([\n",
        "    'CustomerID',\n",
        "    pd.Grouper(key='InvoiceDate', freq=clv_freq)\n",
        "]).agg({\n",
        "    'Sales': [sum, groupby_mean, groupby_count],\n",
        "})"
      ],
      "execution_count": null,
      "outputs": []
    },
    {
      "cell_type": "code",
      "metadata": {
        "colab": {
          "base_uri": "https://localhost:8080/",
          "height": 204
        },
        "id": "gBr__uNZ8mI-",
        "outputId": "bbbde1eb-cd57-4873-cc80-3754db4ea13a"
      },
      "source": [
        "data_df.columns = ['_'.join(col).lower() for col in data_df.columns]\n",
        "data_df = data_df.reset_index()\n",
        "data_df.head()"
      ],
      "execution_count": null,
      "outputs": [
        {
          "output_type": "execute_result",
          "data": {
            "text/html": [
              "<div>\n",
              "<style scoped>\n",
              "    .dataframe tbody tr th:only-of-type {\n",
              "        vertical-align: middle;\n",
              "    }\n",
              "\n",
              "    .dataframe tbody tr th {\n",
              "        vertical-align: top;\n",
              "    }\n",
              "\n",
              "    .dataframe thead th {\n",
              "        text-align: right;\n",
              "    }\n",
              "</style>\n",
              "<table border=\"1\" class=\"dataframe\">\n",
              "  <thead>\n",
              "    <tr style=\"text-align: right;\">\n",
              "      <th></th>\n",
              "      <th>CustomerID</th>\n",
              "      <th>InvoiceDate</th>\n",
              "      <th>sales_sum</th>\n",
              "      <th>sales_avg</th>\n",
              "      <th>sales_count</th>\n",
              "    </tr>\n",
              "  </thead>\n",
              "  <tbody>\n",
              "    <tr>\n",
              "      <th>0</th>\n",
              "      <td>12346.0</td>\n",
              "      <td>2011-03-31</td>\n",
              "      <td>77183.60</td>\n",
              "      <td>77183.600</td>\n",
              "      <td>1.0</td>\n",
              "    </tr>\n",
              "    <tr>\n",
              "      <th>1</th>\n",
              "      <td>12347.0</td>\n",
              "      <td>2010-12-31</td>\n",
              "      <td>711.79</td>\n",
              "      <td>711.790</td>\n",
              "      <td>1.0</td>\n",
              "    </tr>\n",
              "    <tr>\n",
              "      <th>2</th>\n",
              "      <td>12347.0</td>\n",
              "      <td>2011-03-31</td>\n",
              "      <td>475.39</td>\n",
              "      <td>475.390</td>\n",
              "      <td>1.0</td>\n",
              "    </tr>\n",
              "    <tr>\n",
              "      <th>3</th>\n",
              "      <td>12347.0</td>\n",
              "      <td>2011-06-30</td>\n",
              "      <td>1018.77</td>\n",
              "      <td>509.385</td>\n",
              "      <td>2.0</td>\n",
              "    </tr>\n",
              "    <tr>\n",
              "      <th>4</th>\n",
              "      <td>12347.0</td>\n",
              "      <td>2011-09-30</td>\n",
              "      <td>584.91</td>\n",
              "      <td>584.910</td>\n",
              "      <td>1.0</td>\n",
              "    </tr>\n",
              "  </tbody>\n",
              "</table>\n",
              "</div>"
            ],
            "text/plain": [
              "   CustomerID InvoiceDate  sales_sum  sales_avg  sales_count\n",
              "0     12346.0  2011-03-31   77183.60  77183.600          1.0\n",
              "1     12347.0  2010-12-31     711.79    711.790          1.0\n",
              "2     12347.0  2011-03-31     475.39    475.390          1.0\n",
              "3     12347.0  2011-06-30    1018.77    509.385          2.0\n",
              "4     12347.0  2011-09-30     584.91    584.910          1.0"
            ]
          },
          "metadata": {
            "tags": []
          },
          "execution_count": 86
        }
      ]
    },
    {
      "cell_type": "code",
      "metadata": {
        "id": "ZXHu6lMb8rDA"
      },
      "source": [
        "date_month_map = {\n",
        "    str(x)[:10]: 'M_%s' % (i+1) for i, x in enumerate(\n",
        "        sorted(data_df.reset_index()['InvoiceDate'].unique(), reverse=True)\n",
        "    )\n",
        "}"
      ],
      "execution_count": null,
      "outputs": []
    },
    {
      "cell_type": "code",
      "metadata": {
        "id": "Er6ds_dx9EhY"
      },
      "source": [
        "data_df['M'] = data_df['InvoiceDate'].apply(lambda x: date_month_map[str(x)[:10]])"
      ],
      "execution_count": null,
      "outputs": []
    },
    {
      "cell_type": "code",
      "metadata": {
        "colab": {
          "base_uri": "https://localhost:8080/"
        },
        "id": "ExvbEhIr9HBv",
        "outputId": "593037c5-0b84-4635-f709-904159e0b31d"
      },
      "source": [
        "date_month_map"
      ],
      "execution_count": null,
      "outputs": [
        {
          "output_type": "execute_result",
          "data": {
            "text/plain": [
              "{'2010-12-31': 'M_5',\n",
              " '2011-03-31': 'M_4',\n",
              " '2011-06-30': 'M_3',\n",
              " '2011-09-30': 'M_2',\n",
              " '2011-12-31': 'M_1'}"
            ]
          },
          "metadata": {
            "tags": []
          },
          "execution_count": 89
        }
      ]
    },
    {
      "cell_type": "code",
      "metadata": {
        "colab": {
          "base_uri": "https://localhost:8080/",
          "height": 204
        },
        "id": "hfs11bWL9IPo",
        "outputId": "bd9d4967-0823-4bc1-fee8-e48e8667d425"
      },
      "source": [
        "data_df.head()"
      ],
      "execution_count": null,
      "outputs": [
        {
          "output_type": "execute_result",
          "data": {
            "text/html": [
              "<div>\n",
              "<style scoped>\n",
              "    .dataframe tbody tr th:only-of-type {\n",
              "        vertical-align: middle;\n",
              "    }\n",
              "\n",
              "    .dataframe tbody tr th {\n",
              "        vertical-align: top;\n",
              "    }\n",
              "\n",
              "    .dataframe thead th {\n",
              "        text-align: right;\n",
              "    }\n",
              "</style>\n",
              "<table border=\"1\" class=\"dataframe\">\n",
              "  <thead>\n",
              "    <tr style=\"text-align: right;\">\n",
              "      <th></th>\n",
              "      <th>CustomerID</th>\n",
              "      <th>InvoiceDate</th>\n",
              "      <th>sales_sum</th>\n",
              "      <th>sales_avg</th>\n",
              "      <th>sales_count</th>\n",
              "      <th>M</th>\n",
              "    </tr>\n",
              "  </thead>\n",
              "  <tbody>\n",
              "    <tr>\n",
              "      <th>0</th>\n",
              "      <td>12346.0</td>\n",
              "      <td>2011-03-31</td>\n",
              "      <td>77183.60</td>\n",
              "      <td>77183.600</td>\n",
              "      <td>1.0</td>\n",
              "      <td>M_4</td>\n",
              "    </tr>\n",
              "    <tr>\n",
              "      <th>1</th>\n",
              "      <td>12347.0</td>\n",
              "      <td>2010-12-31</td>\n",
              "      <td>711.79</td>\n",
              "      <td>711.790</td>\n",
              "      <td>1.0</td>\n",
              "      <td>M_5</td>\n",
              "    </tr>\n",
              "    <tr>\n",
              "      <th>2</th>\n",
              "      <td>12347.0</td>\n",
              "      <td>2011-03-31</td>\n",
              "      <td>475.39</td>\n",
              "      <td>475.390</td>\n",
              "      <td>1.0</td>\n",
              "      <td>M_4</td>\n",
              "    </tr>\n",
              "    <tr>\n",
              "      <th>3</th>\n",
              "      <td>12347.0</td>\n",
              "      <td>2011-06-30</td>\n",
              "      <td>1018.77</td>\n",
              "      <td>509.385</td>\n",
              "      <td>2.0</td>\n",
              "      <td>M_3</td>\n",
              "    </tr>\n",
              "    <tr>\n",
              "      <th>4</th>\n",
              "      <td>12347.0</td>\n",
              "      <td>2011-09-30</td>\n",
              "      <td>584.91</td>\n",
              "      <td>584.910</td>\n",
              "      <td>1.0</td>\n",
              "      <td>M_2</td>\n",
              "    </tr>\n",
              "  </tbody>\n",
              "</table>\n",
              "</div>"
            ],
            "text/plain": [
              "   CustomerID InvoiceDate  sales_sum  sales_avg  sales_count    M\n",
              "0     12346.0  2011-03-31   77183.60  77183.600          1.0  M_4\n",
              "1     12347.0  2010-12-31     711.79    711.790          1.0  M_5\n",
              "2     12347.0  2011-03-31     475.39    475.390          1.0  M_4\n",
              "3     12347.0  2011-06-30    1018.77    509.385          2.0  M_3\n",
              "4     12347.0  2011-09-30     584.91    584.910          1.0  M_2"
            ]
          },
          "metadata": {
            "tags": []
          },
          "execution_count": 90
        }
      ]
    },
    {
      "cell_type": "code",
      "metadata": {
        "id": "-LW0usF49MWA"
      },
      "source": [
        "# BUilding Sample Set\n",
        "features_df = pd.pivot_table(\n",
        "    data_df.loc[data_df['M'] != 'M_1'],\n",
        "    values=['sales_sum', 'sales_avg', 'sales_count'],\n",
        "    columns='M',\n",
        "    index='CustomerID'\n",
        ")"
      ],
      "execution_count": null,
      "outputs": []
    },
    {
      "cell_type": "code",
      "metadata": {
        "id": "dax8rbU09VMQ"
      },
      "source": [
        "features_df.columns = ['_'.join(col) for col in features_df.columns]"
      ],
      "execution_count": null,
      "outputs": []
    },
    {
      "cell_type": "code",
      "metadata": {
        "colab": {
          "base_uri": "https://localhost:8080/"
        },
        "id": "joePirDz9kJi",
        "outputId": "290df603-a3b3-4f3d-b0aa-ad8b7a6c6ce0"
      },
      "source": [
        "features_df.shape"
      ],
      "execution_count": null,
      "outputs": [
        {
          "output_type": "execute_result",
          "data": {
            "text/plain": [
              "(3616, 12)"
            ]
          },
          "metadata": {
            "tags": []
          },
          "execution_count": 94
        }
      ]
    },
    {
      "cell_type": "code",
      "metadata": {
        "colab": {
          "base_uri": "https://localhost:8080/",
          "height": 410
        },
        "id": "P8eKhIBL9l7I",
        "outputId": "44b60dc8-53f9-4d67-8f1d-a35fdec3fef2"
      },
      "source": [
        "features_df.head(10)"
      ],
      "execution_count": null,
      "outputs": [
        {
          "output_type": "execute_result",
          "data": {
            "text/html": [
              "<div>\n",
              "<style scoped>\n",
              "    .dataframe tbody tr th:only-of-type {\n",
              "        vertical-align: middle;\n",
              "    }\n",
              "\n",
              "    .dataframe tbody tr th {\n",
              "        vertical-align: top;\n",
              "    }\n",
              "\n",
              "    .dataframe thead th {\n",
              "        text-align: right;\n",
              "    }\n",
              "</style>\n",
              "<table border=\"1\" class=\"dataframe\">\n",
              "  <thead>\n",
              "    <tr style=\"text-align: right;\">\n",
              "      <th></th>\n",
              "      <th>sales_avg_M_2</th>\n",
              "      <th>sales_avg_M_3</th>\n",
              "      <th>sales_avg_M_4</th>\n",
              "      <th>sales_avg_M_5</th>\n",
              "      <th>sales_count_M_2</th>\n",
              "      <th>sales_count_M_3</th>\n",
              "      <th>sales_count_M_4</th>\n",
              "      <th>sales_count_M_5</th>\n",
              "      <th>sales_sum_M_2</th>\n",
              "      <th>sales_sum_M_3</th>\n",
              "      <th>sales_sum_M_4</th>\n",
              "      <th>sales_sum_M_5</th>\n",
              "    </tr>\n",
              "    <tr>\n",
              "      <th>CustomerID</th>\n",
              "      <th></th>\n",
              "      <th></th>\n",
              "      <th></th>\n",
              "      <th></th>\n",
              "      <th></th>\n",
              "      <th></th>\n",
              "      <th></th>\n",
              "      <th></th>\n",
              "      <th></th>\n",
              "      <th></th>\n",
              "      <th></th>\n",
              "      <th></th>\n",
              "    </tr>\n",
              "  </thead>\n",
              "  <tbody>\n",
              "    <tr>\n",
              "      <th>12346.0</th>\n",
              "      <td>NaN</td>\n",
              "      <td>NaN</td>\n",
              "      <td>77183.600</td>\n",
              "      <td>NaN</td>\n",
              "      <td>NaN</td>\n",
              "      <td>NaN</td>\n",
              "      <td>1.0</td>\n",
              "      <td>NaN</td>\n",
              "      <td>NaN</td>\n",
              "      <td>NaN</td>\n",
              "      <td>77183.60</td>\n",
              "      <td>NaN</td>\n",
              "    </tr>\n",
              "    <tr>\n",
              "      <th>12347.0</th>\n",
              "      <td>584.91</td>\n",
              "      <td>509.385</td>\n",
              "      <td>475.390</td>\n",
              "      <td>711.79</td>\n",
              "      <td>1.0</td>\n",
              "      <td>2.0</td>\n",
              "      <td>1.0</td>\n",
              "      <td>1.0</td>\n",
              "      <td>584.91</td>\n",
              "      <td>1018.77</td>\n",
              "      <td>475.39</td>\n",
              "      <td>711.79</td>\n",
              "    </tr>\n",
              "    <tr>\n",
              "      <th>12348.0</th>\n",
              "      <td>310.00</td>\n",
              "      <td>367.000</td>\n",
              "      <td>227.440</td>\n",
              "      <td>892.80</td>\n",
              "      <td>1.0</td>\n",
              "      <td>1.0</td>\n",
              "      <td>1.0</td>\n",
              "      <td>1.0</td>\n",
              "      <td>310.00</td>\n",
              "      <td>367.00</td>\n",
              "      <td>227.44</td>\n",
              "      <td>892.80</td>\n",
              "    </tr>\n",
              "    <tr>\n",
              "      <th>12350.0</th>\n",
              "      <td>NaN</td>\n",
              "      <td>NaN</td>\n",
              "      <td>334.400</td>\n",
              "      <td>NaN</td>\n",
              "      <td>NaN</td>\n",
              "      <td>NaN</td>\n",
              "      <td>1.0</td>\n",
              "      <td>NaN</td>\n",
              "      <td>NaN</td>\n",
              "      <td>NaN</td>\n",
              "      <td>334.40</td>\n",
              "      <td>NaN</td>\n",
              "    </tr>\n",
              "    <tr>\n",
              "      <th>12352.0</th>\n",
              "      <td>316.25</td>\n",
              "      <td>NaN</td>\n",
              "      <td>312.362</td>\n",
              "      <td>NaN</td>\n",
              "      <td>2.0</td>\n",
              "      <td>NaN</td>\n",
              "      <td>5.0</td>\n",
              "      <td>NaN</td>\n",
              "      <td>632.50</td>\n",
              "      <td>NaN</td>\n",
              "      <td>1561.81</td>\n",
              "      <td>NaN</td>\n",
              "    </tr>\n",
              "    <tr>\n",
              "      <th>12353.0</th>\n",
              "      <td>NaN</td>\n",
              "      <td>89.000</td>\n",
              "      <td>NaN</td>\n",
              "      <td>NaN</td>\n",
              "      <td>NaN</td>\n",
              "      <td>1.0</td>\n",
              "      <td>NaN</td>\n",
              "      <td>NaN</td>\n",
              "      <td>NaN</td>\n",
              "      <td>89.00</td>\n",
              "      <td>NaN</td>\n",
              "      <td>NaN</td>\n",
              "    </tr>\n",
              "    <tr>\n",
              "      <th>12354.0</th>\n",
              "      <td>NaN</td>\n",
              "      <td>1079.400</td>\n",
              "      <td>NaN</td>\n",
              "      <td>NaN</td>\n",
              "      <td>NaN</td>\n",
              "      <td>1.0</td>\n",
              "      <td>NaN</td>\n",
              "      <td>NaN</td>\n",
              "      <td>NaN</td>\n",
              "      <td>1079.40</td>\n",
              "      <td>NaN</td>\n",
              "      <td>NaN</td>\n",
              "    </tr>\n",
              "    <tr>\n",
              "      <th>12355.0</th>\n",
              "      <td>NaN</td>\n",
              "      <td>459.400</td>\n",
              "      <td>NaN</td>\n",
              "      <td>NaN</td>\n",
              "      <td>NaN</td>\n",
              "      <td>1.0</td>\n",
              "      <td>NaN</td>\n",
              "      <td>NaN</td>\n",
              "      <td>NaN</td>\n",
              "      <td>459.40</td>\n",
              "      <td>NaN</td>\n",
              "      <td>NaN</td>\n",
              "    </tr>\n",
              "    <tr>\n",
              "      <th>12356.0</th>\n",
              "      <td>NaN</td>\n",
              "      <td>481.460</td>\n",
              "      <td>2271.620</td>\n",
              "      <td>NaN</td>\n",
              "      <td>NaN</td>\n",
              "      <td>1.0</td>\n",
              "      <td>1.0</td>\n",
              "      <td>NaN</td>\n",
              "      <td>NaN</td>\n",
              "      <td>481.46</td>\n",
              "      <td>2271.62</td>\n",
              "      <td>NaN</td>\n",
              "    </tr>\n",
              "    <tr>\n",
              "      <th>12358.0</th>\n",
              "      <td>484.86</td>\n",
              "      <td>NaN</td>\n",
              "      <td>NaN</td>\n",
              "      <td>NaN</td>\n",
              "      <td>1.0</td>\n",
              "      <td>NaN</td>\n",
              "      <td>NaN</td>\n",
              "      <td>NaN</td>\n",
              "      <td>484.86</td>\n",
              "      <td>NaN</td>\n",
              "      <td>NaN</td>\n",
              "      <td>NaN</td>\n",
              "    </tr>\n",
              "  </tbody>\n",
              "</table>\n",
              "</div>"
            ],
            "text/plain": [
              "            sales_avg_M_2  sales_avg_M_3  ...  sales_sum_M_4  sales_sum_M_5\n",
              "CustomerID                                ...                              \n",
              "12346.0               NaN            NaN  ...       77183.60            NaN\n",
              "12347.0            584.91        509.385  ...         475.39         711.79\n",
              "12348.0            310.00        367.000  ...         227.44         892.80\n",
              "12350.0               NaN            NaN  ...         334.40            NaN\n",
              "12352.0            316.25            NaN  ...        1561.81            NaN\n",
              "12353.0               NaN         89.000  ...            NaN            NaN\n",
              "12354.0               NaN       1079.400  ...            NaN            NaN\n",
              "12355.0               NaN        459.400  ...            NaN            NaN\n",
              "12356.0               NaN        481.460  ...        2271.62            NaN\n",
              "12358.0            484.86            NaN  ...            NaN            NaN\n",
              "\n",
              "[10 rows x 12 columns]"
            ]
          },
          "metadata": {
            "tags": []
          },
          "execution_count": 96
        }
      ]
    },
    {
      "cell_type": "code",
      "metadata": {
        "colab": {
          "base_uri": "https://localhost:8080/",
          "height": 255
        },
        "id": "DobzPmgK9o3f",
        "outputId": "0ebbfd25-e9a1-4053-d815-3c77c05bef30"
      },
      "source": [
        "features_df = features_df.fillna(0)\n",
        "features_df.head()"
      ],
      "execution_count": null,
      "outputs": [
        {
          "output_type": "execute_result",
          "data": {
            "text/html": [
              "<div>\n",
              "<style scoped>\n",
              "    .dataframe tbody tr th:only-of-type {\n",
              "        vertical-align: middle;\n",
              "    }\n",
              "\n",
              "    .dataframe tbody tr th {\n",
              "        vertical-align: top;\n",
              "    }\n",
              "\n",
              "    .dataframe thead th {\n",
              "        text-align: right;\n",
              "    }\n",
              "</style>\n",
              "<table border=\"1\" class=\"dataframe\">\n",
              "  <thead>\n",
              "    <tr style=\"text-align: right;\">\n",
              "      <th></th>\n",
              "      <th>sales_avg_M_2</th>\n",
              "      <th>sales_avg_M_3</th>\n",
              "      <th>sales_avg_M_4</th>\n",
              "      <th>sales_avg_M_5</th>\n",
              "      <th>sales_count_M_2</th>\n",
              "      <th>sales_count_M_3</th>\n",
              "      <th>sales_count_M_4</th>\n",
              "      <th>sales_count_M_5</th>\n",
              "      <th>sales_sum_M_2</th>\n",
              "      <th>sales_sum_M_3</th>\n",
              "      <th>sales_sum_M_4</th>\n",
              "      <th>sales_sum_M_5</th>\n",
              "    </tr>\n",
              "    <tr>\n",
              "      <th>CustomerID</th>\n",
              "      <th></th>\n",
              "      <th></th>\n",
              "      <th></th>\n",
              "      <th></th>\n",
              "      <th></th>\n",
              "      <th></th>\n",
              "      <th></th>\n",
              "      <th></th>\n",
              "      <th></th>\n",
              "      <th></th>\n",
              "      <th></th>\n",
              "      <th></th>\n",
              "    </tr>\n",
              "  </thead>\n",
              "  <tbody>\n",
              "    <tr>\n",
              "      <th>12346.0</th>\n",
              "      <td>0.00</td>\n",
              "      <td>0.000</td>\n",
              "      <td>77183.600</td>\n",
              "      <td>0.00</td>\n",
              "      <td>0.0</td>\n",
              "      <td>0.0</td>\n",
              "      <td>1.0</td>\n",
              "      <td>0.0</td>\n",
              "      <td>0.00</td>\n",
              "      <td>0.00</td>\n",
              "      <td>77183.60</td>\n",
              "      <td>0.00</td>\n",
              "    </tr>\n",
              "    <tr>\n",
              "      <th>12347.0</th>\n",
              "      <td>584.91</td>\n",
              "      <td>509.385</td>\n",
              "      <td>475.390</td>\n",
              "      <td>711.79</td>\n",
              "      <td>1.0</td>\n",
              "      <td>2.0</td>\n",
              "      <td>1.0</td>\n",
              "      <td>1.0</td>\n",
              "      <td>584.91</td>\n",
              "      <td>1018.77</td>\n",
              "      <td>475.39</td>\n",
              "      <td>711.79</td>\n",
              "    </tr>\n",
              "    <tr>\n",
              "      <th>12348.0</th>\n",
              "      <td>310.00</td>\n",
              "      <td>367.000</td>\n",
              "      <td>227.440</td>\n",
              "      <td>892.80</td>\n",
              "      <td>1.0</td>\n",
              "      <td>1.0</td>\n",
              "      <td>1.0</td>\n",
              "      <td>1.0</td>\n",
              "      <td>310.00</td>\n",
              "      <td>367.00</td>\n",
              "      <td>227.44</td>\n",
              "      <td>892.80</td>\n",
              "    </tr>\n",
              "    <tr>\n",
              "      <th>12350.0</th>\n",
              "      <td>0.00</td>\n",
              "      <td>0.000</td>\n",
              "      <td>334.400</td>\n",
              "      <td>0.00</td>\n",
              "      <td>0.0</td>\n",
              "      <td>0.0</td>\n",
              "      <td>1.0</td>\n",
              "      <td>0.0</td>\n",
              "      <td>0.00</td>\n",
              "      <td>0.00</td>\n",
              "      <td>334.40</td>\n",
              "      <td>0.00</td>\n",
              "    </tr>\n",
              "    <tr>\n",
              "      <th>12352.0</th>\n",
              "      <td>316.25</td>\n",
              "      <td>0.000</td>\n",
              "      <td>312.362</td>\n",
              "      <td>0.00</td>\n",
              "      <td>2.0</td>\n",
              "      <td>0.0</td>\n",
              "      <td>5.0</td>\n",
              "      <td>0.0</td>\n",
              "      <td>632.50</td>\n",
              "      <td>0.00</td>\n",
              "      <td>1561.81</td>\n",
              "      <td>0.00</td>\n",
              "    </tr>\n",
              "  </tbody>\n",
              "</table>\n",
              "</div>"
            ],
            "text/plain": [
              "            sales_avg_M_2  sales_avg_M_3  ...  sales_sum_M_4  sales_sum_M_5\n",
              "CustomerID                                ...                              \n",
              "12346.0              0.00          0.000  ...       77183.60           0.00\n",
              "12347.0            584.91        509.385  ...         475.39         711.79\n",
              "12348.0            310.00        367.000  ...         227.44         892.80\n",
              "12350.0              0.00          0.000  ...         334.40           0.00\n",
              "12352.0            316.25          0.000  ...        1561.81           0.00\n",
              "\n",
              "[5 rows x 12 columns]"
            ]
          },
          "metadata": {
            "tags": []
          },
          "execution_count": 97
        }
      ]
    },
    {
      "cell_type": "code",
      "metadata": {
        "id": "RbgubKgo9y5f"
      },
      "source": [
        "response_df = data_df.loc[\n",
        "    data_df['M'] == 'M_1',\n",
        "    ['CustomerID', 'sales_sum']\n",
        "]"
      ],
      "execution_count": null,
      "outputs": []
    },
    {
      "cell_type": "code",
      "metadata": {
        "colab": {
          "base_uri": "https://localhost:8080/"
        },
        "id": "R3gP7tkk93vf",
        "outputId": "d29625e7-511d-4ed1-9b99-200c06a259c4"
      },
      "source": [
        "response_df.columns = ['CustomerID', 'CLV_'+clv_freq]\n",
        "response_df.shape"
      ],
      "execution_count": null,
      "outputs": [
        {
          "output_type": "execute_result",
          "data": {
            "text/plain": [
              "(2407, 2)"
            ]
          },
          "metadata": {
            "tags": []
          },
          "execution_count": 99
        }
      ]
    },
    {
      "cell_type": "code",
      "metadata": {
        "colab": {
          "base_uri": "https://localhost:8080/",
          "height": 204
        },
        "id": "4HjyfNYC-jz_",
        "outputId": "9fea4302-9207-4251-ab6b-ffb6a433fbd0"
      },
      "source": [
        "response_df.head()"
      ],
      "execution_count": null,
      "outputs": [
        {
          "output_type": "execute_result",
          "data": {
            "text/html": [
              "<div>\n",
              "<style scoped>\n",
              "    .dataframe tbody tr th:only-of-type {\n",
              "        vertical-align: middle;\n",
              "    }\n",
              "\n",
              "    .dataframe tbody tr th {\n",
              "        vertical-align: top;\n",
              "    }\n",
              "\n",
              "    .dataframe thead th {\n",
              "        text-align: right;\n",
              "    }\n",
              "</style>\n",
              "<table border=\"1\" class=\"dataframe\">\n",
              "  <thead>\n",
              "    <tr style=\"text-align: right;\">\n",
              "      <th></th>\n",
              "      <th>CustomerID</th>\n",
              "      <th>CLV_3M</th>\n",
              "    </tr>\n",
              "  </thead>\n",
              "  <tbody>\n",
              "    <tr>\n",
              "      <th>5</th>\n",
              "      <td>12347.0</td>\n",
              "      <td>1294.32</td>\n",
              "    </tr>\n",
              "    <tr>\n",
              "      <th>10</th>\n",
              "      <td>12349.0</td>\n",
              "      <td>1757.55</td>\n",
              "    </tr>\n",
              "    <tr>\n",
              "      <th>14</th>\n",
              "      <td>12352.0</td>\n",
              "      <td>311.73</td>\n",
              "    </tr>\n",
              "    <tr>\n",
              "      <th>20</th>\n",
              "      <td>12356.0</td>\n",
              "      <td>58.35</td>\n",
              "    </tr>\n",
              "    <tr>\n",
              "      <th>21</th>\n",
              "      <td>12357.0</td>\n",
              "      <td>6207.67</td>\n",
              "    </tr>\n",
              "  </tbody>\n",
              "</table>\n",
              "</div>"
            ],
            "text/plain": [
              "    CustomerID   CLV_3M\n",
              "5      12347.0  1294.32\n",
              "10     12349.0  1757.55\n",
              "14     12352.0   311.73\n",
              "20     12356.0    58.35\n",
              "21     12357.0  6207.67"
            ]
          },
          "metadata": {
            "tags": []
          },
          "execution_count": 100
        }
      ]
    },
    {
      "cell_type": "code",
      "metadata": {
        "id": "M2pjo4fB-md5"
      },
      "source": [
        "sample_set_df = features_df.merge(\n",
        "    response_df,\n",
        "    left_index=True,\n",
        "    right_on='CustomerID',\n",
        "    how='left'\n",
        ")"
      ],
      "execution_count": null,
      "outputs": []
    },
    {
      "cell_type": "code",
      "metadata": {
        "colab": {
          "base_uri": "https://localhost:8080/"
        },
        "id": "JvO8xyI7-rRN",
        "outputId": "4f225db9-7c71-437c-84c4-fc3081e98fb1"
      },
      "source": [
        "sample_set_df.shape"
      ],
      "execution_count": null,
      "outputs": [
        {
          "output_type": "execute_result",
          "data": {
            "text/plain": [
              "(3616, 14)"
            ]
          },
          "metadata": {
            "tags": []
          },
          "execution_count": 102
        }
      ]
    },
    {
      "cell_type": "code",
      "metadata": {
        "colab": {
          "base_uri": "https://localhost:8080/",
          "height": 379
        },
        "id": "FH1smwdp-tJn",
        "outputId": "2b45cc45-3767-49ad-b3f6-16e16cfcb406"
      },
      "source": [
        "sample_set_df.head(10)"
      ],
      "execution_count": null,
      "outputs": [
        {
          "output_type": "execute_result",
          "data": {
            "text/html": [
              "<div>\n",
              "<style scoped>\n",
              "    .dataframe tbody tr th:only-of-type {\n",
              "        vertical-align: middle;\n",
              "    }\n",
              "\n",
              "    .dataframe tbody tr th {\n",
              "        vertical-align: top;\n",
              "    }\n",
              "\n",
              "    .dataframe thead th {\n",
              "        text-align: right;\n",
              "    }\n",
              "</style>\n",
              "<table border=\"1\" class=\"dataframe\">\n",
              "  <thead>\n",
              "    <tr style=\"text-align: right;\">\n",
              "      <th></th>\n",
              "      <th>sales_avg_M_2</th>\n",
              "      <th>sales_avg_M_3</th>\n",
              "      <th>sales_avg_M_4</th>\n",
              "      <th>sales_avg_M_5</th>\n",
              "      <th>sales_count_M_2</th>\n",
              "      <th>sales_count_M_3</th>\n",
              "      <th>sales_count_M_4</th>\n",
              "      <th>sales_count_M_5</th>\n",
              "      <th>sales_sum_M_2</th>\n",
              "      <th>sales_sum_M_3</th>\n",
              "      <th>sales_sum_M_4</th>\n",
              "      <th>sales_sum_M_5</th>\n",
              "      <th>CustomerID</th>\n",
              "      <th>CLV_3M</th>\n",
              "    </tr>\n",
              "  </thead>\n",
              "  <tbody>\n",
              "    <tr>\n",
              "      <th>NaN</th>\n",
              "      <td>0.00</td>\n",
              "      <td>0.000</td>\n",
              "      <td>77183.600</td>\n",
              "      <td>0.00</td>\n",
              "      <td>0.0</td>\n",
              "      <td>0.0</td>\n",
              "      <td>1.0</td>\n",
              "      <td>0.0</td>\n",
              "      <td>0.00</td>\n",
              "      <td>0.00</td>\n",
              "      <td>77183.60</td>\n",
              "      <td>0.00</td>\n",
              "      <td>12346.0</td>\n",
              "      <td>NaN</td>\n",
              "    </tr>\n",
              "    <tr>\n",
              "      <th>5.0</th>\n",
              "      <td>584.91</td>\n",
              "      <td>509.385</td>\n",
              "      <td>475.390</td>\n",
              "      <td>711.79</td>\n",
              "      <td>1.0</td>\n",
              "      <td>2.0</td>\n",
              "      <td>1.0</td>\n",
              "      <td>1.0</td>\n",
              "      <td>584.91</td>\n",
              "      <td>1018.77</td>\n",
              "      <td>475.39</td>\n",
              "      <td>711.79</td>\n",
              "      <td>12347.0</td>\n",
              "      <td>1294.32</td>\n",
              "    </tr>\n",
              "    <tr>\n",
              "      <th>NaN</th>\n",
              "      <td>310.00</td>\n",
              "      <td>367.000</td>\n",
              "      <td>227.440</td>\n",
              "      <td>892.80</td>\n",
              "      <td>1.0</td>\n",
              "      <td>1.0</td>\n",
              "      <td>1.0</td>\n",
              "      <td>1.0</td>\n",
              "      <td>310.00</td>\n",
              "      <td>367.00</td>\n",
              "      <td>227.44</td>\n",
              "      <td>892.80</td>\n",
              "      <td>12348.0</td>\n",
              "      <td>NaN</td>\n",
              "    </tr>\n",
              "    <tr>\n",
              "      <th>NaN</th>\n",
              "      <td>0.00</td>\n",
              "      <td>0.000</td>\n",
              "      <td>334.400</td>\n",
              "      <td>0.00</td>\n",
              "      <td>0.0</td>\n",
              "      <td>0.0</td>\n",
              "      <td>1.0</td>\n",
              "      <td>0.0</td>\n",
              "      <td>0.00</td>\n",
              "      <td>0.00</td>\n",
              "      <td>334.40</td>\n",
              "      <td>0.00</td>\n",
              "      <td>12350.0</td>\n",
              "      <td>NaN</td>\n",
              "    </tr>\n",
              "    <tr>\n",
              "      <th>14.0</th>\n",
              "      <td>316.25</td>\n",
              "      <td>0.000</td>\n",
              "      <td>312.362</td>\n",
              "      <td>0.00</td>\n",
              "      <td>2.0</td>\n",
              "      <td>0.0</td>\n",
              "      <td>5.0</td>\n",
              "      <td>0.0</td>\n",
              "      <td>632.50</td>\n",
              "      <td>0.00</td>\n",
              "      <td>1561.81</td>\n",
              "      <td>0.00</td>\n",
              "      <td>12352.0</td>\n",
              "      <td>311.73</td>\n",
              "    </tr>\n",
              "    <tr>\n",
              "      <th>NaN</th>\n",
              "      <td>0.00</td>\n",
              "      <td>89.000</td>\n",
              "      <td>0.000</td>\n",
              "      <td>0.00</td>\n",
              "      <td>0.0</td>\n",
              "      <td>1.0</td>\n",
              "      <td>0.0</td>\n",
              "      <td>0.0</td>\n",
              "      <td>0.00</td>\n",
              "      <td>89.00</td>\n",
              "      <td>0.00</td>\n",
              "      <td>0.00</td>\n",
              "      <td>12353.0</td>\n",
              "      <td>NaN</td>\n",
              "    </tr>\n",
              "    <tr>\n",
              "      <th>NaN</th>\n",
              "      <td>0.00</td>\n",
              "      <td>1079.400</td>\n",
              "      <td>0.000</td>\n",
              "      <td>0.00</td>\n",
              "      <td>0.0</td>\n",
              "      <td>1.0</td>\n",
              "      <td>0.0</td>\n",
              "      <td>0.0</td>\n",
              "      <td>0.00</td>\n",
              "      <td>1079.40</td>\n",
              "      <td>0.00</td>\n",
              "      <td>0.00</td>\n",
              "      <td>12354.0</td>\n",
              "      <td>NaN</td>\n",
              "    </tr>\n",
              "    <tr>\n",
              "      <th>NaN</th>\n",
              "      <td>0.00</td>\n",
              "      <td>459.400</td>\n",
              "      <td>0.000</td>\n",
              "      <td>0.00</td>\n",
              "      <td>0.0</td>\n",
              "      <td>1.0</td>\n",
              "      <td>0.0</td>\n",
              "      <td>0.0</td>\n",
              "      <td>0.00</td>\n",
              "      <td>459.40</td>\n",
              "      <td>0.00</td>\n",
              "      <td>0.00</td>\n",
              "      <td>12355.0</td>\n",
              "      <td>NaN</td>\n",
              "    </tr>\n",
              "    <tr>\n",
              "      <th>20.0</th>\n",
              "      <td>0.00</td>\n",
              "      <td>481.460</td>\n",
              "      <td>2271.620</td>\n",
              "      <td>0.00</td>\n",
              "      <td>0.0</td>\n",
              "      <td>1.0</td>\n",
              "      <td>1.0</td>\n",
              "      <td>0.0</td>\n",
              "      <td>0.00</td>\n",
              "      <td>481.46</td>\n",
              "      <td>2271.62</td>\n",
              "      <td>0.00</td>\n",
              "      <td>12356.0</td>\n",
              "      <td>58.35</td>\n",
              "    </tr>\n",
              "    <tr>\n",
              "      <th>NaN</th>\n",
              "      <td>484.86</td>\n",
              "      <td>0.000</td>\n",
              "      <td>0.000</td>\n",
              "      <td>0.00</td>\n",
              "      <td>1.0</td>\n",
              "      <td>0.0</td>\n",
              "      <td>0.0</td>\n",
              "      <td>0.0</td>\n",
              "      <td>484.86</td>\n",
              "      <td>0.00</td>\n",
              "      <td>0.00</td>\n",
              "      <td>0.00</td>\n",
              "      <td>12358.0</td>\n",
              "      <td>NaN</td>\n",
              "    </tr>\n",
              "  </tbody>\n",
              "</table>\n",
              "</div>"
            ],
            "text/plain": [
              "      sales_avg_M_2  sales_avg_M_3  ...  CustomerID   CLV_3M\n",
              "NaN            0.00          0.000  ...     12346.0      NaN\n",
              "5.0          584.91        509.385  ...     12347.0  1294.32\n",
              "NaN          310.00        367.000  ...     12348.0      NaN\n",
              "NaN            0.00          0.000  ...     12350.0      NaN\n",
              "14.0         316.25          0.000  ...     12352.0   311.73\n",
              "NaN            0.00         89.000  ...     12353.0      NaN\n",
              "NaN            0.00       1079.400  ...     12354.0      NaN\n",
              "NaN            0.00        459.400  ...     12355.0      NaN\n",
              "20.0           0.00        481.460  ...     12356.0    58.35\n",
              "NaN          484.86          0.000  ...     12358.0      NaN\n",
              "\n",
              "[10 rows x 14 columns]"
            ]
          },
          "metadata": {
            "tags": []
          },
          "execution_count": 103
        }
      ]
    },
    {
      "cell_type": "code",
      "metadata": {
        "id": "1AeXdxq5-wGv"
      },
      "source": [
        "sample_set_df = sample_set_df.fillna(0)"
      ],
      "execution_count": null,
      "outputs": []
    },
    {
      "cell_type": "code",
      "metadata": {
        "colab": {
          "base_uri": "https://localhost:8080/",
          "height": 224
        },
        "id": "xsPzndec-5iW",
        "outputId": "6b9ea98c-b157-4586-ff46-2be1e85824d8"
      },
      "source": [
        "sample_set_df.head()"
      ],
      "execution_count": null,
      "outputs": [
        {
          "output_type": "execute_result",
          "data": {
            "text/html": [
              "<div>\n",
              "<style scoped>\n",
              "    .dataframe tbody tr th:only-of-type {\n",
              "        vertical-align: middle;\n",
              "    }\n",
              "\n",
              "    .dataframe tbody tr th {\n",
              "        vertical-align: top;\n",
              "    }\n",
              "\n",
              "    .dataframe thead th {\n",
              "        text-align: right;\n",
              "    }\n",
              "</style>\n",
              "<table border=\"1\" class=\"dataframe\">\n",
              "  <thead>\n",
              "    <tr style=\"text-align: right;\">\n",
              "      <th></th>\n",
              "      <th>sales_avg_M_2</th>\n",
              "      <th>sales_avg_M_3</th>\n",
              "      <th>sales_avg_M_4</th>\n",
              "      <th>sales_avg_M_5</th>\n",
              "      <th>sales_count_M_2</th>\n",
              "      <th>sales_count_M_3</th>\n",
              "      <th>sales_count_M_4</th>\n",
              "      <th>sales_count_M_5</th>\n",
              "      <th>sales_sum_M_2</th>\n",
              "      <th>sales_sum_M_3</th>\n",
              "      <th>sales_sum_M_4</th>\n",
              "      <th>sales_sum_M_5</th>\n",
              "      <th>CustomerID</th>\n",
              "      <th>CLV_3M</th>\n",
              "    </tr>\n",
              "  </thead>\n",
              "  <tbody>\n",
              "    <tr>\n",
              "      <th>NaN</th>\n",
              "      <td>0.00</td>\n",
              "      <td>0.000</td>\n",
              "      <td>77183.600</td>\n",
              "      <td>0.00</td>\n",
              "      <td>0.0</td>\n",
              "      <td>0.0</td>\n",
              "      <td>1.0</td>\n",
              "      <td>0.0</td>\n",
              "      <td>0.00</td>\n",
              "      <td>0.00</td>\n",
              "      <td>77183.60</td>\n",
              "      <td>0.00</td>\n",
              "      <td>12346.0</td>\n",
              "      <td>0.00</td>\n",
              "    </tr>\n",
              "    <tr>\n",
              "      <th>5.0</th>\n",
              "      <td>584.91</td>\n",
              "      <td>509.385</td>\n",
              "      <td>475.390</td>\n",
              "      <td>711.79</td>\n",
              "      <td>1.0</td>\n",
              "      <td>2.0</td>\n",
              "      <td>1.0</td>\n",
              "      <td>1.0</td>\n",
              "      <td>584.91</td>\n",
              "      <td>1018.77</td>\n",
              "      <td>475.39</td>\n",
              "      <td>711.79</td>\n",
              "      <td>12347.0</td>\n",
              "      <td>1294.32</td>\n",
              "    </tr>\n",
              "    <tr>\n",
              "      <th>NaN</th>\n",
              "      <td>310.00</td>\n",
              "      <td>367.000</td>\n",
              "      <td>227.440</td>\n",
              "      <td>892.80</td>\n",
              "      <td>1.0</td>\n",
              "      <td>1.0</td>\n",
              "      <td>1.0</td>\n",
              "      <td>1.0</td>\n",
              "      <td>310.00</td>\n",
              "      <td>367.00</td>\n",
              "      <td>227.44</td>\n",
              "      <td>892.80</td>\n",
              "      <td>12348.0</td>\n",
              "      <td>0.00</td>\n",
              "    </tr>\n",
              "    <tr>\n",
              "      <th>NaN</th>\n",
              "      <td>0.00</td>\n",
              "      <td>0.000</td>\n",
              "      <td>334.400</td>\n",
              "      <td>0.00</td>\n",
              "      <td>0.0</td>\n",
              "      <td>0.0</td>\n",
              "      <td>1.0</td>\n",
              "      <td>0.0</td>\n",
              "      <td>0.00</td>\n",
              "      <td>0.00</td>\n",
              "      <td>334.40</td>\n",
              "      <td>0.00</td>\n",
              "      <td>12350.0</td>\n",
              "      <td>0.00</td>\n",
              "    </tr>\n",
              "    <tr>\n",
              "      <th>14.0</th>\n",
              "      <td>316.25</td>\n",
              "      <td>0.000</td>\n",
              "      <td>312.362</td>\n",
              "      <td>0.00</td>\n",
              "      <td>2.0</td>\n",
              "      <td>0.0</td>\n",
              "      <td>5.0</td>\n",
              "      <td>0.0</td>\n",
              "      <td>632.50</td>\n",
              "      <td>0.00</td>\n",
              "      <td>1561.81</td>\n",
              "      <td>0.00</td>\n",
              "      <td>12352.0</td>\n",
              "      <td>311.73</td>\n",
              "    </tr>\n",
              "  </tbody>\n",
              "</table>\n",
              "</div>"
            ],
            "text/plain": [
              "      sales_avg_M_2  sales_avg_M_3  ...  CustomerID   CLV_3M\n",
              "NaN            0.00          0.000  ...     12346.0     0.00\n",
              "5.0          584.91        509.385  ...     12347.0  1294.32\n",
              "NaN          310.00        367.000  ...     12348.0     0.00\n",
              "NaN            0.00          0.000  ...     12350.0     0.00\n",
              "14.0         316.25          0.000  ...     12352.0   311.73\n",
              "\n",
              "[5 rows x 14 columns]"
            ]
          },
          "metadata": {
            "tags": []
          },
          "execution_count": 105
        }
      ]
    },
    {
      "cell_type": "code",
      "metadata": {
        "colab": {
          "base_uri": "https://localhost:8080/"
        },
        "id": "GKGo9PAZ-7wv",
        "outputId": "b43f2cc3-2bd0-422e-d57c-1a80aacc9dc4"
      },
      "source": [
        "sample_set_df['CLV_'+clv_freq].describe()"
      ],
      "execution_count": null,
      "outputs": [
        {
          "output_type": "execute_result",
          "data": {
            "text/plain": [
              "count     3616.000000\n",
              "mean       511.558520\n",
              "std       2371.743293\n",
              "min          0.000000\n",
              "25%          0.000000\n",
              "50%          0.000000\n",
              "75%        458.662500\n",
              "max      68012.350000\n",
              "Name: CLV_3M, dtype: float64"
            ]
          },
          "metadata": {
            "tags": []
          },
          "execution_count": 106
        }
      ]
    },
    {
      "cell_type": "code",
      "metadata": {
        "id": "og8HpntT_CcJ"
      },
      "source": [
        "# REGRESSION MODELS\n",
        "from sklearn.model_selection import train_test_split"
      ],
      "execution_count": null,
      "outputs": []
    },
    {
      "cell_type": "code",
      "metadata": {
        "id": "DmMFe0OU_Jaq"
      },
      "source": [
        "target_var = 'CLV_'+clv_freq\n",
        "all_features = [x for x in sample_set_df.columns if x not in ['CustomerID', target_var]]"
      ],
      "execution_count": null,
      "outputs": []
    },
    {
      "cell_type": "code",
      "metadata": {
        "id": "K2a8QCCz_LVY"
      },
      "source": [
        "x_train, x_test, y_train, y_test = train_test_split(\n",
        "    sample_set_df[all_features],\n",
        "    sample_set_df[target_var],\n",
        "    test_size=0.3\n",
        ")"
      ],
      "execution_count": null,
      "outputs": []
    },
    {
      "cell_type": "code",
      "metadata": {
        "id": "V0U3XTlI_LRq"
      },
      "source": [
        "# Linear Regression Model\n",
        "from sklearn.linear_model import LinearRegression\n",
        "\n",
        "# Try these models as well\n",
        "from sklearn.svm import SVR\n",
        "from sklearn.ensemble import RandomForestRegressor"
      ],
      "execution_count": null,
      "outputs": []
    },
    {
      "cell_type": "code",
      "metadata": {
        "id": "MAw9s6In_LOj"
      },
      "source": [
        "reg_fit = LinearRegression()"
      ],
      "execution_count": null,
      "outputs": []
    },
    {
      "cell_type": "code",
      "metadata": {
        "colab": {
          "base_uri": "https://localhost:8080/"
        },
        "id": "DHpdflKp_LMb",
        "outputId": "81348063-32f2-426f-f6ca-0dc8fccd4ac1"
      },
      "source": [
        "reg_fit.fit(x_train, y_train)"
      ],
      "execution_count": null,
      "outputs": [
        {
          "output_type": "execute_result",
          "data": {
            "text/plain": [
              "LinearRegression(copy_X=True, fit_intercept=True, n_jobs=None, normalize=False)"
            ]
          },
          "metadata": {
            "tags": []
          },
          "execution_count": 112
        }
      ]
    },
    {
      "cell_type": "code",
      "metadata": {
        "colab": {
          "base_uri": "https://localhost:8080/"
        },
        "id": "mFGwQmhG_LHs",
        "outputId": "31c6cc38-7293-403e-f330-fae46c061d86"
      },
      "source": [
        "reg_fit.intercept_"
      ],
      "execution_count": null,
      "outputs": [
        {
          "output_type": "execute_result",
          "data": {
            "text/plain": [
              "42.10845513862165"
            ]
          },
          "metadata": {
            "tags": []
          },
          "execution_count": 113
        }
      ]
    },
    {
      "cell_type": "code",
      "metadata": {
        "colab": {
          "base_uri": "https://localhost:8080/",
          "height": 421
        },
        "id": "omXSZSsk_Xol",
        "outputId": "6fa755c3-9ba6-41c8-fb1f-47009bc20a12"
      },
      "source": [
        "coef = pd.DataFrame(list(zip(all_features, reg_fit.coef_)))\n",
        "coef.columns = ['feature', 'coef']\n",
        "\n",
        "coef"
      ],
      "execution_count": null,
      "outputs": [
        {
          "output_type": "execute_result",
          "data": {
            "text/html": [
              "<div>\n",
              "<style scoped>\n",
              "    .dataframe tbody tr th:only-of-type {\n",
              "        vertical-align: middle;\n",
              "    }\n",
              "\n",
              "    .dataframe tbody tr th {\n",
              "        vertical-align: top;\n",
              "    }\n",
              "\n",
              "    .dataframe thead th {\n",
              "        text-align: right;\n",
              "    }\n",
              "</style>\n",
              "<table border=\"1\" class=\"dataframe\">\n",
              "  <thead>\n",
              "    <tr style=\"text-align: right;\">\n",
              "      <th></th>\n",
              "      <th>feature</th>\n",
              "      <th>coef</th>\n",
              "    </tr>\n",
              "  </thead>\n",
              "  <tbody>\n",
              "    <tr>\n",
              "      <th>0</th>\n",
              "      <td>sales_avg_M_2</td>\n",
              "      <td>0.091922</td>\n",
              "    </tr>\n",
              "    <tr>\n",
              "      <th>1</th>\n",
              "      <td>sales_avg_M_3</td>\n",
              "      <td>-0.258602</td>\n",
              "    </tr>\n",
              "    <tr>\n",
              "      <th>2</th>\n",
              "      <td>sales_avg_M_4</td>\n",
              "      <td>0.023798</td>\n",
              "    </tr>\n",
              "    <tr>\n",
              "      <th>3</th>\n",
              "      <td>sales_avg_M_5</td>\n",
              "      <td>-0.268883</td>\n",
              "    </tr>\n",
              "    <tr>\n",
              "      <th>4</th>\n",
              "      <td>sales_count_M_2</td>\n",
              "      <td>-19.226423</td>\n",
              "    </tr>\n",
              "    <tr>\n",
              "      <th>5</th>\n",
              "      <td>sales_count_M_3</td>\n",
              "      <td>7.492395</td>\n",
              "    </tr>\n",
              "    <tr>\n",
              "      <th>6</th>\n",
              "      <td>sales_count_M_4</td>\n",
              "      <td>-13.459589</td>\n",
              "    </tr>\n",
              "    <tr>\n",
              "      <th>7</th>\n",
              "      <td>sales_count_M_5</td>\n",
              "      <td>81.538995</td>\n",
              "    </tr>\n",
              "    <tr>\n",
              "      <th>8</th>\n",
              "      <td>sales_sum_M_2</td>\n",
              "      <td>0.549194</td>\n",
              "    </tr>\n",
              "    <tr>\n",
              "      <th>9</th>\n",
              "      <td>sales_sum_M_3</td>\n",
              "      <td>0.276781</td>\n",
              "    </tr>\n",
              "    <tr>\n",
              "      <th>10</th>\n",
              "      <td>sales_sum_M_4</td>\n",
              "      <td>0.000737</td>\n",
              "    </tr>\n",
              "    <tr>\n",
              "      <th>11</th>\n",
              "      <td>sales_sum_M_5</td>\n",
              "      <td>0.434358</td>\n",
              "    </tr>\n",
              "  </tbody>\n",
              "</table>\n",
              "</div>"
            ],
            "text/plain": [
              "            feature       coef\n",
              "0     sales_avg_M_2   0.091922\n",
              "1     sales_avg_M_3  -0.258602\n",
              "2     sales_avg_M_4   0.023798\n",
              "3     sales_avg_M_5  -0.268883\n",
              "4   sales_count_M_2 -19.226423\n",
              "5   sales_count_M_3   7.492395\n",
              "6   sales_count_M_4 -13.459589\n",
              "7   sales_count_M_5  81.538995\n",
              "8     sales_sum_M_2   0.549194\n",
              "9     sales_sum_M_3   0.276781\n",
              "10    sales_sum_M_4   0.000737\n",
              "11    sales_sum_M_5   0.434358"
            ]
          },
          "metadata": {
            "tags": []
          },
          "execution_count": 114
        }
      ]
    },
    {
      "cell_type": "code",
      "metadata": {
        "id": "pXH6PtmN_Xks"
      },
      "source": [
        "# Evaluation\n",
        "from sklearn.metrics import r2_score, median_absolute_error"
      ],
      "execution_count": null,
      "outputs": []
    },
    {
      "cell_type": "code",
      "metadata": {
        "id": "LjzAXdja_Xhb"
      },
      "source": [
        "train_preds =  reg_fit.predict(x_train)\n",
        "test_preds = reg_fit.predict(x_test)"
      ],
      "execution_count": null,
      "outputs": []
    },
    {
      "cell_type": "code",
      "metadata": {
        "colab": {
          "base_uri": "https://localhost:8080/"
        },
        "id": "lqcdxqD5_Xdw",
        "outputId": "e67821bf-186c-4dd1-d2ea-e29d87d157f9"
      },
      "source": [
        "# R-SQUARED\n",
        "print('In-Sample R-Squared: %0.4f' % r2_score(y_true=y_train, y_pred=train_preds))\n",
        "print('Out-of-Sample R-Squared: %0.4f' % r2_score(y_true=y_test, y_pred=test_preds))"
      ],
      "execution_count": null,
      "outputs": [
        {
          "output_type": "stream",
          "text": [
            "In-Sample R-Squared: 0.7414\n",
            "Out-of-Sample R-Squared: 0.4972\n"
          ],
          "name": "stdout"
        }
      ]
    },
    {
      "cell_type": "code",
      "metadata": {
        "colab": {
          "base_uri": "https://localhost:8080/"
        },
        "id": "OSyEw5NS_pmM",
        "outputId": "8a175b29-6f68-489a-ac54-58903f423125"
      },
      "source": [
        "# Median Absolute Error\n",
        "print('In-Sample MSE: %0.4f' % median_absolute_error(y_true=y_train, y_pred=train_preds))\n",
        "print('Out-of-Sample MSE: %0.4f' % median_absolute_error(y_true=y_test, y_pred=test_preds))"
      ],
      "execution_count": null,
      "outputs": [
        {
          "output_type": "stream",
          "text": [
            "In-Sample MSE: 176.1674\n",
            "Out-of-Sample MSE: 185.1855\n"
          ],
          "name": "stdout"
        }
      ]
    },
    {
      "cell_type": "code",
      "metadata": {
        "id": "r_N2lDY__pfL"
      },
      "source": [
        "# Scatter Plot\n"
      ],
      "execution_count": null,
      "outputs": []
    },
    {
      "cell_type": "code",
      "metadata": {
        "colab": {
          "base_uri": "https://localhost:8080/",
          "height": 295
        },
        "id": "Sm8My8P6_pbc",
        "outputId": "f6310364-9eed-4381-bfc3-e457aa27c022"
      },
      "source": [
        "plt.scatter(y_train, train_preds)\n",
        "plt.plot([0, max(y_train)], [0, max(train_preds)], color='gray', lw=1, linestyle='--')\n",
        "\n",
        "plt.xlabel('actual')\n",
        "plt.ylabel('predicted')\n",
        "plt.title('In-Sample Actual vs. Predicted')\n",
        "plt.grid()\n",
        "\n",
        "plt.show()"
      ],
      "execution_count": null,
      "outputs": [
        {
          "output_type": "display_data",
          "data": {
            "image/png": "[encoded data removed]",
            "text/plain": [
              "<Figure size 432x288 with 1 Axes>"
            ]
          },
          "metadata": {
            "tags": [],
            "needs_background": "light"
          }
        }
      ]
    },
    {
      "cell_type": "code",
      "metadata": {
        "colab": {
          "base_uri": "https://localhost:8080/",
          "height": 295
        },
        "id": "fqV-yPIb_pYG",
        "outputId": "384a6b59-63f3-416b-dcce-5e1c47a079ed"
      },
      "source": [
        "plt.scatter(y_test, test_preds)\n",
        "plt.plot([0, max(y_test)], [0, max(test_preds)], color='gray', lw=1, linestyle='--')\n",
        "\n",
        "plt.xlabel('actual')\n",
        "plt.ylabel('predicted')\n",
        "plt.title('Out-of-Sample Actual vs. Predicted')\n",
        "plt.grid()\n",
        "\n",
        "plt.show()"
      ],
      "execution_count": null,
      "outputs": [
        {
          "output_type": "display_data",
          "data": {
            "image/png": "[encoded data removed]",
            "text/plain": [
              "<Figure size 432x288 with 1 Axes>"
            ]
          },
          "metadata": {
            "tags": [],
            "needs_background": "light"
          }
        }
      ]
    },
    {
      "cell_type": "code",
      "metadata": {
        "id": "NPV5mQDAABQ6"
      },
      "source": [],
      "execution_count": null,
      "outputs": []
    }
  ]
}