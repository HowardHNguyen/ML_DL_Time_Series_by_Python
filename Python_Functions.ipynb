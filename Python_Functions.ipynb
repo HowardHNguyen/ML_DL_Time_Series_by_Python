{
  "nbformat": 4,
  "nbformat_minor": 0,
  "metadata": {
    "colab": {
      "provenance": [],
      "authorship_tag": "ABX9TyNtjQTkV2FdKrwcYsgPM8g+",
      "include_colab_link": true
    },
    "kernelspec": {
      "name": "python3",
      "display_name": "Python 3"
    },
    "language_info": {
      "name": "python"
    }
  },
  "cells": [
    {
      "cell_type": "markdown",
      "metadata": {
        "id": "view-in-github",
        "colab_type": "text"
      },
      "source": [
        "<a href=\"https://colab.research.google.com/github/HowardHNguyen/Python/blob/main/Python_Functions.ipynb\" target=\"_parent\"><img src=\"https://colab.research.google.com/assets/colab-badge.svg\" alt=\"Open In Colab\"/></a>"
      ]
    },
    {
      "cell_type": "code",
      "metadata": {
        "colab": {
          "base_uri": "https://localhost:8080/",
          "height": 35
        },
        "id": "q_JORc_CA3K_",
        "outputId": "fe4b26bf-8c2a-40bc-cc6b-5787a3133d67"
      },
      "source": [
        "rain = True\n",
        "if rain is True:\n",
        "  then_result = 'Stay Home'\n",
        "\n",
        "then_result"
      ],
      "execution_count": null,
      "outputs": [
        {
          "output_type": "execute_result",
          "data": {
            "application/vnd.google.colaboratory.intrinsic+json": {
              "type": "string"
            },
            "text/plain": [
              "'Stay Home'"
            ]
          },
          "metadata": {
            "tags": []
          },
          "execution_count": 2
        }
      ]
    },
    {
      "cell_type": "code",
      "metadata": {
        "id": "qsapmD8wBAQ4"
      },
      "source": [
        "def percentage(a,b):\n",
        "  if b == 0:\n",
        "    return None\n",
        "  return round(a/b, 2)"
      ],
      "execution_count": null,
      "outputs": []
    },
    {
      "cell_type": "code",
      "metadata": {
        "colab": {
          "base_uri": "https://localhost:8080/"
        },
        "id": "lPSW-hM0BUME",
        "outputId": "de1c52d5-e8d4-43eb-d0a2-e55c0c771058"
      },
      "source": [
        "percentage(10, 100)"
      ],
      "execution_count": null,
      "outputs": [
        {
          "output_type": "execute_result",
          "data": {
            "text/plain": [
              "0.1"
            ]
          },
          "metadata": {
            "tags": []
          },
          "execution_count": 4
        }
      ]
    },
    {
      "cell_type": "code",
      "metadata": {
        "colab": {
          "base_uri": "https://localhost:8080/"
        },
        "id": "wc1JlASxBXPZ",
        "outputId": "fcde0ece-30c3-47f5-9f51-06ba765b6743"
      },
      "source": [
        "percentage(25, 450)"
      ],
      "execution_count": null,
      "outputs": [
        {
          "output_type": "execute_result",
          "data": {
            "text/plain": [
              "0.06"
            ]
          },
          "metadata": {
            "tags": []
          },
          "execution_count": 6
        }
      ]
    },
    {
      "cell_type": "code",
      "metadata": {
        "id": "NxO8U2gVBdEy",
        "colab": {
          "base_uri": "https://localhost:8080/"
        },
        "outputId": "5fc97764-f08c-4144-cc4c-07ca4b90275d"
      },
      "source": [
        "name = 'nana'\n",
        "if name == 'Kay':\n",
        "  print('Hello Kay')\n",
        "else:\n",
        "  print(\"Sorry\")"
      ],
      "execution_count": null,
      "outputs": [
        {
          "output_type": "stream",
          "text": [
            "Sorry\n"
          ],
          "name": "stdout"
        }
      ]
    },
    {
      "cell_type": "code",
      "metadata": {
        "colab": {
          "base_uri": "https://localhost:8080/"
        },
        "id": "oP01prD3ai8h",
        "outputId": "1f25ba16-c12c-4f3e-d1fd-da8cc22a1205"
      },
      "source": [
        "if name in {'Adrian', 'Jac'}:\n",
        "  print('Hey, I know you!')\n",
        "elif name in {'Howard', 'Kay'}:\n",
        "  print(\"Helloooo!\")\n",
        "elif name in {'Benny', 'Lynn'}:\n",
        "  pass\n",
        "else:\n",
        "  print(\"I don't know you...\")"
      ],
      "execution_count": null,
      "outputs": [
        {
          "output_type": "stream",
          "text": [
            "I don't know you...\n"
          ],
          "name": "stdout"
        }
      ]
    },
    {
      "cell_type": "code",
      "metadata": {
        "colab": {
          "base_uri": "https://localhost:8080/",
          "height": 35
        },
        "id": "kwP1txdjbART",
        "outputId": "89a280cf-8e4c-493e-8d90-675791a1fb6a"
      },
      "source": [
        "name = name or 'Sigimund'\n",
        "name"
      ],
      "execution_count": null,
      "outputs": [
        {
          "output_type": "execute_result",
          "data": {
            "application/vnd.google.colaboratory.intrinsic+json": {
              "type": "string"
            },
            "text/plain": [
              "'nana'"
            ]
          },
          "metadata": {
            "tags": []
          },
          "execution_count": 11
        }
      ]
    },
    {
      "cell_type": "code",
      "metadata": {
        "colab": {
          "base_uri": "https://localhost:8080/",
          "height": 35
        },
        "id": "t7K1ww4Yb9FT",
        "outputId": "df111dba-d283-46e3-fd99-1d59cad04786"
      },
      "source": [
        "name = 0\n",
        "name = name or 'Max'\n",
        "name"
      ],
      "execution_count": null,
      "outputs": [
        {
          "output_type": "execute_result",
          "data": {
            "application/vnd.google.colaboratory.intrinsic+json": {
              "type": "string"
            },
            "text/plain": [
              "'Max'"
            ]
          },
          "metadata": {
            "tags": []
          },
          "execution_count": 13
        }
      ]
    },
    {
      "cell_type": "code",
      "metadata": {
        "colab": {
          "base_uri": "https://localhost:8080/"
        },
        "id": "ECk9l8C6cHIz",
        "outputId": "4a2b856b-6f59-449f-fbe3-fa9bf813c8bd"
      },
      "source": [
        "name = 0\n",
        "name = name if name is not None else 'nana'\n",
        "name"
      ],
      "execution_count": null,
      "outputs": [
        {
          "output_type": "execute_result",
          "data": {
            "text/plain": [
              "0"
            ]
          },
          "metadata": {
            "tags": []
          },
          "execution_count": 15
        }
      ]
    },
    {
      "cell_type": "markdown",
      "metadata": {
        "id": "Kaxpy19xedg_"
      },
      "source": [
        "USING IF IN COMPREHENSIIONS"
      ]
    },
    {
      "cell_type": "code",
      "metadata": {
        "colab": {
          "base_uri": "https://localhost:8080/"
        },
        "id": "5ifX3qzTcRj6",
        "outputId": "d344a3f9-35fa-4191-d663-a01ab24b493c"
      },
      "source": [
        "characters = [\n",
        "    {'name': 'Peter', \"surname\": 'Rabbit'},\n",
        "    {'name': 'Josephine', 'surname': 'Rabbit'},\n",
        "    {'name': 'Michael', 'surname': 'McGregor'}\n",
        "]\n",
        "heo = [goi['name'] for goi in characters if goi['surname'] == 'McGregor']\n",
        "heo"
      ],
      "execution_count": null,
      "outputs": [
        {
          "output_type": "execute_result",
          "data": {
            "text/plain": [
              "['Michael']"
            ]
          },
          "metadata": {
            "tags": []
          },
          "execution_count": 20
        }
      ]
    },
    {
      "cell_type": "markdown",
      "metadata": {
        "id": "wAsJuoRNei8e"
      },
      "source": [
        "LOOPS"
      ]
    },
    {
      "cell_type": "code",
      "metadata": {
        "colab": {
          "base_uri": "https://localhost:8080/"
        },
        "id": "Rq6DgxEEdo8b",
        "outputId": "80392e2d-7a80-44d0-cc92-7c2ec369e1fe"
      },
      "source": [
        "for i in range (3):\n",
        "  print(i)"
      ],
      "execution_count": null,
      "outputs": [
        {
          "output_type": "stream",
          "text": [
            "0\n",
            "1\n",
            "2\n"
          ],
          "name": "stdout"
        }
      ]
    },
    {
      "cell_type": "code",
      "metadata": {
        "colab": {
          "base_uri": "https://localhost:8080/"
        },
        "id": "qbfGUxKBepDq",
        "outputId": "5b0176c9-51da-4018-c4cb-7fce6b87781c"
      },
      "source": [
        "for i in 'Howard':\n",
        "  print(i)"
      ],
      "execution_count": null,
      "outputs": [
        {
          "output_type": "stream",
          "text": [
            "H\n",
            "o\n",
            "w\n",
            "a\n",
            "r\n",
            "d\n"
          ],
          "name": "stdout"
        }
      ]
    },
    {
      "cell_type": "code",
      "metadata": {
        "colab": {
          "base_uri": "https://localhost:8080/"
        },
        "id": "IUS2MoA5evOS",
        "outputId": "1e41ada8-20de-46be-9108-67b89ed1344e"
      },
      "source": [
        "person = {'name': 'Howard', 'surname': 'Nguyen'}\n",
        "for i, j in person.items():\n",
        "  print(i,':', j)"
      ],
      "execution_count": null,
      "outputs": [
        {
          "output_type": "stream",
          "text": [
            "name : Howard\n",
            "surname : Nguyen\n"
          ],
          "name": "stdout"
        }
      ]
    },
    {
      "cell_type": "markdown",
      "metadata": {
        "id": "DPTIXOFifO6b"
      },
      "source": [
        "ITERTOOLS"
      ]
    },
    {
      "cell_type": "code",
      "metadata": {
        "id": "lxPdsxv4fAJK"
      },
      "source": [
        "# Cycle"
      ],
      "execution_count": null,
      "outputs": []
    },
    {
      "cell_type": "code",
      "metadata": {
        "colab": {
          "base_uri": "https://localhost:8080/"
        },
        "id": "MJuOIG0lfT0S",
        "outputId": "b5b5b1c9-4334-4ec9-df41-f2aff72a15d3"
      },
      "source": [
        "from itertools import cycle\n",
        "colors, categories = cycle(('red','green','blue')),(1,2,3,4,5)\n",
        "\n",
        "for i,j in zip(categories, colors):\n",
        "  print (i, j)"
      ],
      "execution_count": null,
      "outputs": [
        {
          "output_type": "stream",
          "text": [
            "1 red\n",
            "2 green\n",
            "3 blue\n",
            "4 red\n",
            "5 green\n"
          ],
          "name": "stdout"
        }
      ]
    },
    {
      "cell_type": "markdown",
      "metadata": {
        "id": "-ujEuZUiif5_"
      },
      "source": [
        "GROUPBY"
      ]
    },
    {
      "cell_type": "code",
      "metadata": {
        "colab": {
          "base_uri": "https://localhost:8080/"
        },
        "id": "U4U67av0fyuC",
        "outputId": "5e8f6f49-2d87-449a-f790-a1ed03b2cade"
      },
      "source": [
        "from itertools import groupby\n",
        "\n",
        "characters = [\n",
        "    {'name': 'Peter', \"lastname\": 'Rabbit'},\n",
        "    {'name': 'Josephine', 'lastname': 'Rabbit'},\n",
        "    {'name': 'Michael', 'lastname': 'McGregor'}\n",
        "]\n",
        "\n",
        "for i, j in groupby(characters, lambda x: x['lastname']):\n",
        "    print(i)\n",
        "    for y in j:\n",
        "        print('    ', y['name'])"
      ],
      "execution_count": null,
      "outputs": [
        {
          "output_type": "stream",
          "text": [
            "Rabbit\n",
            "     Peter\n",
            "     Josephine\n",
            "McGregor\n",
            "     Michael\n"
          ],
          "name": "stdout"
        }
      ]
    },
    {
      "cell_type": "code",
      "metadata": {
        "colab": {
          "base_uri": "https://localhost:8080/",
          "height": 421
        },
        "id": "r2cytLKBqgMo",
        "outputId": "8e76b012-a73c-42a6-ca7a-e92f5e646709"
      },
      "source": [
        "import pandas as pd\n",
        "\n",
        "# creating a dataframe\n",
        "sales_data = pd.DataFrame({\n",
        "'customer_id':[3005, 3001, 3002, 3009, 3005, 3007,\n",
        "               3002, 3004, 3009, 3008, 3003, 3002],\n",
        "'salesman_id': [102, 105, 101, 103, 102, 101, 101,\n",
        "                106, 103, 102, 107, 101],\n",
        "'purchase_amt':[1500, 2700, 1525, 1100, 948, 2400,\n",
        "                5700, 2000, 1280, 2500, 750, 5050]})\n",
        "sales_data"
      ],
      "execution_count": null,
      "outputs": [
        {
          "output_type": "execute_result",
          "data": {
            "text/html": [
              "<div>\n",
              "<style scoped>\n",
              "    .dataframe tbody tr th:only-of-type {\n",
              "        vertical-align: middle;\n",
              "    }\n",
              "\n",
              "    .dataframe tbody tr th {\n",
              "        vertical-align: top;\n",
              "    }\n",
              "\n",
              "    .dataframe thead th {\n",
              "        text-align: right;\n",
              "    }\n",
              "</style>\n",
              "<table border=\"1\" class=\"dataframe\">\n",
              "  <thead>\n",
              "    <tr style=\"text-align: right;\">\n",
              "      <th></th>\n",
              "      <th>customer_id</th>\n",
              "      <th>salesman_id</th>\n",
              "      <th>purchase_amt</th>\n",
              "    </tr>\n",
              "  </thead>\n",
              "  <tbody>\n",
              "    <tr>\n",
              "      <th>0</th>\n",
              "      <td>3005</td>\n",
              "      <td>102</td>\n",
              "      <td>1500</td>\n",
              "    </tr>\n",
              "    <tr>\n",
              "      <th>1</th>\n",
              "      <td>3001</td>\n",
              "      <td>105</td>\n",
              "      <td>2700</td>\n",
              "    </tr>\n",
              "    <tr>\n",
              "      <th>2</th>\n",
              "      <td>3002</td>\n",
              "      <td>101</td>\n",
              "      <td>1525</td>\n",
              "    </tr>\n",
              "    <tr>\n",
              "      <th>3</th>\n",
              "      <td>3009</td>\n",
              "      <td>103</td>\n",
              "      <td>1100</td>\n",
              "    </tr>\n",
              "    <tr>\n",
              "      <th>4</th>\n",
              "      <td>3005</td>\n",
              "      <td>102</td>\n",
              "      <td>948</td>\n",
              "    </tr>\n",
              "    <tr>\n",
              "      <th>5</th>\n",
              "      <td>3007</td>\n",
              "      <td>101</td>\n",
              "      <td>2400</td>\n",
              "    </tr>\n",
              "    <tr>\n",
              "      <th>6</th>\n",
              "      <td>3002</td>\n",
              "      <td>101</td>\n",
              "      <td>5700</td>\n",
              "    </tr>\n",
              "    <tr>\n",
              "      <th>7</th>\n",
              "      <td>3004</td>\n",
              "      <td>106</td>\n",
              "      <td>2000</td>\n",
              "    </tr>\n",
              "    <tr>\n",
              "      <th>8</th>\n",
              "      <td>3009</td>\n",
              "      <td>103</td>\n",
              "      <td>1280</td>\n",
              "    </tr>\n",
              "    <tr>\n",
              "      <th>9</th>\n",
              "      <td>3008</td>\n",
              "      <td>102</td>\n",
              "      <td>2500</td>\n",
              "    </tr>\n",
              "    <tr>\n",
              "      <th>10</th>\n",
              "      <td>3003</td>\n",
              "      <td>107</td>\n",
              "      <td>750</td>\n",
              "    </tr>\n",
              "    <tr>\n",
              "      <th>11</th>\n",
              "      <td>3002</td>\n",
              "      <td>101</td>\n",
              "      <td>5050</td>\n",
              "    </tr>\n",
              "  </tbody>\n",
              "</table>\n",
              "</div>"
            ],
            "text/plain": [
              "    customer_id  salesman_id  purchase_amt\n",
              "0          3005          102          1500\n",
              "1          3001          105          2700\n",
              "2          3002          101          1525\n",
              "3          3009          103          1100\n",
              "4          3005          102           948\n",
              "5          3007          101          2400\n",
              "6          3002          101          5700\n",
              "7          3004          106          2000\n",
              "8          3009          103          1280\n",
              "9          3008          102          2500\n",
              "10         3003          107           750\n",
              "11         3002          101          5050"
            ]
          },
          "metadata": {
            "tags": []
          },
          "execution_count": 1
        }
      ]
    },
    {
      "cell_type": "code",
      "metadata": {
        "colab": {
          "base_uri": "https://localhost:8080/"
        },
        "id": "sul06zGnqqLF",
        "outputId": "99bd5462-2fa5-481f-91ef-9510161c4ad8"
      },
      "source": [
        "# using groupby function with aggregation\n",
        "# to get mean, min and max values\n",
        "result = sales_data.groupby('salesman_id').agg({'purchase_amt': ['mean', 'min', 'max']})\n",
        "\n",
        "print(\"Mean, min, and max values of Purchase Amount grouped by Salesman id\")\n",
        "print(result)"
      ],
      "execution_count": null,
      "outputs": [
        {
          "output_type": "stream",
          "text": [
            "Mean, min, and max values of Purchase Amount grouped by Salesman id\n",
            "            purchase_amt            \n",
            "                    mean   min   max\n",
            "salesman_id                         \n",
            "101          3668.750000  1525  5700\n",
            "102          1649.333333   948  2500\n",
            "103          1190.000000  1100  1280\n",
            "105          2700.000000  2700  2700\n",
            "106          2000.000000  2000  2000\n",
            "107           750.000000   750   750\n"
          ],
          "name": "stdout"
        }
      ]
    },
    {
      "cell_type": "code",
      "metadata": {
        "colab": {
          "base_uri": "https://localhost:8080/",
          "height": 421
        },
        "id": "A5DOe_fuq7l4",
        "outputId": "af2d1460-74d3-4941-b047-19af3f77eac0"
      },
      "source": [
        "# creating a dataframe\n",
        "df = pd.DataFrame({\"Team\": [\"Radisson\", \"Radisson\", \"Gladiators\",\n",
        "                            \"Blues\", \"Gladiators\", \"Blues\",\n",
        "                            \"Gladiators\", \"Gladiators\", \"Blues\",\n",
        "                            \"Blues\", \"Radisson\", \"Radisson\"],\n",
        "\n",
        "        \"Position\": [\"Player\", \"Extras\", \"Player\", \"Extras\",\n",
        "                     \"Extras\", \"Player\", \"Player\", \"Player\",\n",
        "                     \"Extras\", \"Player\", \"Player\", \"Extras\"],\n",
        "\n",
        "        \"Age\": [22, 24, 21, 29, 32, 20, 21, 23, 30, 26, 20, 31]})\n",
        "df"
      ],
      "execution_count": null,
      "outputs": [
        {
          "output_type": "execute_result",
          "data": {
            "text/html": [
              "<div>\n",
              "<style scoped>\n",
              "    .dataframe tbody tr th:only-of-type {\n",
              "        vertical-align: middle;\n",
              "    }\n",
              "\n",
              "    .dataframe tbody tr th {\n",
              "        vertical-align: top;\n",
              "    }\n",
              "\n",
              "    .dataframe thead th {\n",
              "        text-align: right;\n",
              "    }\n",
              "</style>\n",
              "<table border=\"1\" class=\"dataframe\">\n",
              "  <thead>\n",
              "    <tr style=\"text-align: right;\">\n",
              "      <th></th>\n",
              "      <th>Team</th>\n",
              "      <th>Position</th>\n",
              "      <th>Age</th>\n",
              "    </tr>\n",
              "  </thead>\n",
              "  <tbody>\n",
              "    <tr>\n",
              "      <th>0</th>\n",
              "      <td>Radisson</td>\n",
              "      <td>Player</td>\n",
              "      <td>22</td>\n",
              "    </tr>\n",
              "    <tr>\n",
              "      <th>1</th>\n",
              "      <td>Radisson</td>\n",
              "      <td>Extras</td>\n",
              "      <td>24</td>\n",
              "    </tr>\n",
              "    <tr>\n",
              "      <th>2</th>\n",
              "      <td>Gladiators</td>\n",
              "      <td>Player</td>\n",
              "      <td>21</td>\n",
              "    </tr>\n",
              "    <tr>\n",
              "      <th>3</th>\n",
              "      <td>Blues</td>\n",
              "      <td>Extras</td>\n",
              "      <td>29</td>\n",
              "    </tr>\n",
              "    <tr>\n",
              "      <th>4</th>\n",
              "      <td>Gladiators</td>\n",
              "      <td>Extras</td>\n",
              "      <td>32</td>\n",
              "    </tr>\n",
              "    <tr>\n",
              "      <th>5</th>\n",
              "      <td>Blues</td>\n",
              "      <td>Player</td>\n",
              "      <td>20</td>\n",
              "    </tr>\n",
              "    <tr>\n",
              "      <th>6</th>\n",
              "      <td>Gladiators</td>\n",
              "      <td>Player</td>\n",
              "      <td>21</td>\n",
              "    </tr>\n",
              "    <tr>\n",
              "      <th>7</th>\n",
              "      <td>Gladiators</td>\n",
              "      <td>Player</td>\n",
              "      <td>23</td>\n",
              "    </tr>\n",
              "    <tr>\n",
              "      <th>8</th>\n",
              "      <td>Blues</td>\n",
              "      <td>Extras</td>\n",
              "      <td>30</td>\n",
              "    </tr>\n",
              "    <tr>\n",
              "      <th>9</th>\n",
              "      <td>Blues</td>\n",
              "      <td>Player</td>\n",
              "      <td>26</td>\n",
              "    </tr>\n",
              "    <tr>\n",
              "      <th>10</th>\n",
              "      <td>Radisson</td>\n",
              "      <td>Player</td>\n",
              "      <td>20</td>\n",
              "    </tr>\n",
              "    <tr>\n",
              "      <th>11</th>\n",
              "      <td>Radisson</td>\n",
              "      <td>Extras</td>\n",
              "      <td>31</td>\n",
              "    </tr>\n",
              "  </tbody>\n",
              "</table>\n",
              "</div>"
            ],
            "text/plain": [
              "          Team Position  Age\n",
              "0     Radisson   Player   22\n",
              "1     Radisson   Extras   24\n",
              "2   Gladiators   Player   21\n",
              "3        Blues   Extras   29\n",
              "4   Gladiators   Extras   32\n",
              "5        Blues   Player   20\n",
              "6   Gladiators   Player   21\n",
              "7   Gladiators   Player   23\n",
              "8        Blues   Extras   30\n",
              "9        Blues   Player   26\n",
              "10    Radisson   Player   20\n",
              "11    Radisson   Extras   31"
            ]
          },
          "metadata": {
            "tags": []
          },
          "execution_count": 3
        }
      ]
    },
    {
      "cell_type": "code",
      "metadata": {
        "colab": {
          "base_uri": "https://localhost:8080/"
        },
        "id": "TmmFMt0lrFSk",
        "outputId": "93d5d2a8-916e-4faf-c45a-b70a224b7717"
      },
      "source": [
        "# using groupby function with aggregation\n",
        "# to get mean, min and max values\n",
        "result = df.groupby('Team').agg({'Age': ['mean', 'min', 'max']})\n",
        "\n",
        "print(\"Mean, min, and max values of Age grouped by Team\")\n",
        "print(result)"
      ],
      "execution_count": null,
      "outputs": [
        {
          "output_type": "stream",
          "text": [
            "Mean, min, and max values of Age grouped by Team\n",
            "              Age        \n",
            "             mean min max\n",
            "Team                     \n",
            "Blues       26.25  20  30\n",
            "Gladiators  24.25  21  32\n",
            "Radisson    24.25  20  31\n"
          ],
          "name": "stdout"
        }
      ]
    },
    {
      "cell_type": "code",
      "metadata": {
        "id": "q8zzdfkYi9Tz",
        "colab": {
          "base_uri": "https://localhost:8080/"
        },
        "outputId": "c8898dfd-36b7-44b8-8842-12ad75944ccf"
      },
      "source": [
        "mytuple = (\"apple\", \"banana\", \"cherry\")\n",
        "myit = iter(mytuple)\n",
        "\n",
        "print(next(myit))\n",
        "print(next(myit))\n",
        "print(next(myit))"
      ],
      "execution_count": null,
      "outputs": [
        {
          "output_type": "stream",
          "text": [
            "apple\n",
            "banana\n",
            "cherry\n"
          ],
          "name": "stdout"
        }
      ]
    },
    {
      "cell_type": "code",
      "metadata": {
        "colab": {
          "base_uri": "https://localhost:8080/"
        },
        "id": "3wi4eO7uXFf6",
        "outputId": "05cb8e88-559c-4a01-99e4-7140ae4e8af4"
      },
      "source": [
        "mystr = \"banana\"\n",
        "myit = iter(mystr)\n",
        "\n",
        "print(next(myit))\n",
        "print(next(myit))\n",
        "print(next(myit))\n",
        "print(next(myit))\n",
        "print(next(myit))\n",
        "print(next(myit))"
      ],
      "execution_count": null,
      "outputs": [
        {
          "output_type": "stream",
          "text": [
            "b\n",
            "a\n",
            "n\n",
            "a\n",
            "n\n",
            "a\n"
          ],
          "name": "stdout"
        }
      ]
    },
    {
      "cell_type": "code",
      "metadata": {
        "colab": {
          "base_uri": "https://localhost:8080/"
        },
        "id": "wbjSmhh0XgNM",
        "outputId": "c8e4bb83-7b97-4237-c4db-5718e4eb1179"
      },
      "source": [
        "mytuple = (\"apple\", \"banana\", \"cherry\")\n",
        "\n",
        "for i in mytuple:\n",
        "  print(i)"
      ],
      "execution_count": null,
      "outputs": [
        {
          "output_type": "stream",
          "text": [
            "apple\n",
            "banana\n",
            "cherry\n"
          ],
          "name": "stdout"
        }
      ]
    },
    {
      "cell_type": "code",
      "metadata": {
        "colab": {
          "base_uri": "https://localhost:8080/"
        },
        "id": "sNwr0yPZXmLe",
        "outputId": "8ead8c71-50ff-4c2e-8ef4-83f4e50ba8d4"
      },
      "source": [
        "mystr = \"banana\"\n",
        "\n",
        "for x in mystr:\n",
        "  print(x)"
      ],
      "execution_count": null,
      "outputs": [
        {
          "output_type": "stream",
          "text": [
            "b\n",
            "a\n",
            "n\n",
            "a\n",
            "n\n",
            "a\n"
          ],
          "name": "stdout"
        }
      ]
    },
    {
      "cell_type": "code",
      "metadata": {
        "id": "zNm0hWdLXzIE"
      },
      "source": [
        "import requests"
      ],
      "execution_count": null,
      "outputs": []
    },
    {
      "cell_type": "code",
      "metadata": {
        "id": "ho9o5J3OO2_Z"
      },
      "source": [
        "base_url = 'https://nominatim.openstreetmap.org/search?'\n",
        "\n",
        "params = {\n",
        "    'format':'json',\n",
        "    'q': 'Eiffel tower'\n",
        "}"
      ],
      "execution_count": null,
      "outputs": []
    },
    {
      "cell_type": "code",
      "metadata": {
        "colab": {
          "base_uri": "https://localhost:8080/"
        },
        "id": "7VQ8uaPXPa8A",
        "outputId": "3d76856b-002f-4d63-ad11-88f124d82e73"
      },
      "source": [
        "result = requests.get(base_url, params=params)\n",
        "result.status_code"
      ],
      "execution_count": null,
      "outputs": [
        {
          "output_type": "execute_result",
          "data": {
            "text/plain": [
              "200"
            ]
          },
          "metadata": {
            "tags": []
          },
          "execution_count": 3
        }
      ]
    },
    {
      "cell_type": "code",
      "metadata": {
        "colab": {
          "base_uri": "https://localhost:8080/"
        },
        "id": "wlV0uhvhPgk2",
        "outputId": "1ff505f6-6f03-4ab6-80a7-536fa14af2d7"
      },
      "source": [
        "result.json()[:2]"
      ],
      "execution_count": null,
      "outputs": [
        {
          "output_type": "execute_result",
          "data": {
            "text/plain": [
              "[{'boundingbox': ['48.8574753', '48.8590453', '2.2933084', '2.2956897'],\n",
              "  'class': 'tourism',\n",
              "  'display_name': 'Tour Eiffel, 5, Avenue Anatole France, Quartier du Gros-Caillou, Paris 7e Arrondissement, Paris, Île-de-France, France métropolitaine, 75007, France',\n",
              "  'icon': 'https://nominatim.openstreetmap.org/ui/mapicons//poi_point_of_interest.p.20.png',\n",
              "  'importance': 0.6868325701744196,\n",
              "  'lat': '48.858260200000004',\n",
              "  'licence': 'Data © OpenStreetMap contributors, ODbL 1.0. https://osm.org/copyright',\n",
              "  'lon': '2.2944990543196795',\n",
              "  'osm_id': 5013364,\n",
              "  'osm_type': 'way',\n",
              "  'place_id': 84031316,\n",
              "  'type': 'attraction'},\n",
              " {'boundingbox': ['50.7707862', '50.7708862', '29.2441478', '29.2442478'],\n",
              "  'class': 'tourism',\n",
              "  'display_name': 'Ейфелева вежа, Михайла Грушевського вулиця, Центр, Малин, Малинська міська громада, Коростенський район, Житомирська область, 11601, Україна',\n",
              "  'icon': 'https://nominatim.openstreetmap.org/ui/mapicons//tourist_art_gallery2.p.20.png',\n",
              "  'importance': 0.5868325701744196,\n",
              "  'lat': '50.7708362',\n",
              "  'licence': 'Data © OpenStreetMap contributors, ODbL 1.0. https://osm.org/copyright',\n",
              "  'lon': '29.2441978',\n",
              "  'osm_id': 7308805064,\n",
              "  'osm_type': 'node',\n",
              "  'place_id': 78628020,\n",
              "  'type': 'artwork'}]"
            ]
          },
          "metadata": {
            "tags": []
          },
          "execution_count": 4
        }
      ]
    },
    {
      "cell_type": "code",
      "metadata": {
        "colab": {
          "base_uri": "https://localhost:8080/"
        },
        "id": "Ur5J2IxgPjlZ",
        "outputId": "4870a871-f751-4dce-c771-abb8dabe4362"
      },
      "source": [
        "params = {\n",
        "    'format':'json',\n",
        "    'q': 'Cair Paravel, Narnia', 'limit':1\n",
        "    }\n",
        "\n",
        "requests.get(base_url, params=params).json()"
      ],
      "execution_count": null,
      "outputs": [
        {
          "output_type": "execute_result",
          "data": {
            "text/plain": [
              "[]"
            ]
          },
          "metadata": {
            "tags": []
          },
          "execution_count": 5
        }
      ]
    },
    {
      "cell_type": "code",
      "metadata": {
        "id": "CDoxRCIjP1Jz"
      },
      "source": [
        "#FUNCTION\n",
        "\n",
        "import requests\n",
        "from time import sleep\n",
        "\n",
        "base_url = 'https://nominatim.openstreetmap.org/search?'\n",
        "\n",
        "def nominatim_geocode(address, format='json', limit=1, **kwargs):\n",
        "    '''thin wrapper around nominatim API.\n",
        "\n",
        "    Documentation: https://wiki.openstreetmap.org/wiki/Nominatim#Parameters\n",
        "    '''\n",
        "    params = {'q':address, 'format':format, 'limit':limit, **kwargs}\n",
        "\n",
        "    response = requests.get(base_url, params=params)\n",
        "    response.raise_for_status() # will raise exception if status is unsuccessful\n",
        "\n",
        "    sleep(1) # sleep\n",
        "    return response.json()"
      ],
      "execution_count": null,
      "outputs": []
    },
    {
      "cell_type": "code",
      "metadata": {
        "colab": {
          "base_uri": "https://localhost:8080/"
        },
        "id": "YovN-TkGP3D5",
        "outputId": "e3451a56-4790-4130-d502-89ce9ed02750"
      },
      "source": [
        "nominatim_geocode('Eiffel tower')"
      ],
      "execution_count": null,
      "outputs": [
        {
          "output_type": "execute_result",
          "data": {
            "text/plain": [
              "[{'boundingbox': ['48.8574753', '48.8590453', '2.2933084', '2.2956897'],\n",
              "  'class': 'tourism',\n",
              "  'display_name': 'Tour Eiffel, 5, Avenue Anatole France, Quartier du Gros-Caillou, Paris 7e Arrondissement, Paris, Île-de-France, France métropolitaine, 75007, France',\n",
              "  'icon': 'https://nominatim.openstreetmap.org/ui/mapicons//poi_point_of_interest.p.20.png',\n",
              "  'importance': 0.6868325701744196,\n",
              "  'lat': '48.858260200000004',\n",
              "  'licence': 'Data © OpenStreetMap contributors, ODbL 1.0. https://osm.org/copyright',\n",
              "  'lon': '2.2944990543196795',\n",
              "  'osm_id': 5013364,\n",
              "  'osm_type': 'way',\n",
              "  'place_id': 84031316,\n",
              "  'type': 'attraction'}]"
            ]
          },
          "metadata": {
            "tags": []
          },
          "execution_count": 7
        }
      ]
    },
    {
      "cell_type": "code",
      "metadata": {
        "colab": {
          "base_uri": "https://localhost:8080/"
        },
        "id": "PYBxs9gUQAdB",
        "outputId": "ecfa8308-bf84-44b6-bebc-0cd43347db18"
      },
      "source": [
        "nominatim_geocode(address=None,\n",
        "                  street='221B Baker Street',\n",
        "                  city='London', country='Great Britain')"
      ],
      "execution_count": null,
      "outputs": [
        {
          "output_type": "execute_result",
          "data": {
            "text/plain": [
              "[{'boundingbox': ['51.5233379', '51.5234379', '-0.1582867', '-0.1581867'],\n",
              "  'class': 'tourism',\n",
              "  'display_name': '221B Baker Street, Baker Street, Marylebone, London, City of Westminster, England, NW1 6XE, United Kingdom',\n",
              "  'icon': 'https://nominatim.openstreetmap.org/ui/mapicons//poi_point_of_interest.p.20.png',\n",
              "  'importance': 0.411,\n",
              "  'lat': '51.5233879',\n",
              "  'licence': 'Data © OpenStreetMap contributors, ODbL 1.0. https://osm.org/copyright',\n",
              "  'lon': '-0.1582367',\n",
              "  'osm_id': 5568763423,\n",
              "  'osm_type': 'node',\n",
              "  'place_id': 62710505,\n",
              "  'type': 'attraction'}]"
            ]
          },
          "metadata": {
            "tags": []
          },
          "execution_count": 8
        }
      ]
    },
    {
      "cell_type": "code",
      "metadata": {
        "id": "x0LjfHN5cllQ"
      },
      "source": [
        "# CLASSES"
      ],
      "execution_count": null,
      "outputs": []
    },
    {
      "cell_type": "code",
      "metadata": {
        "id": "2jkud0qUclhm"
      },
      "source": [
        "class Person:\n",
        "    '''person entity'''\n",
        "\n",
        "    greeting = 'Hi {0}. My name is {1}!'\n",
        "\n",
        "    def __init__(self, name, surname, age):\n",
        "        self.name = name\n",
        "        self.surname = surname\n",
        "        self.age = age\n",
        "\n",
        "    def __repr__(self):\n",
        "        return f'Person(name={self.name}, surname={self.surname}, age={self.age})'\n",
        "\n",
        "    def say_hi(self, name):\n",
        "        print(self.greeting.format(name, self.name))"
      ],
      "execution_count": null,
      "outputs": []
    },
    {
      "cell_type": "code",
      "metadata": {
        "id": "qkOgNJt3cleq"
      },
      "source": [
        "P = Person('Howard', 'Longstocking', 11)"
      ],
      "execution_count": null,
      "outputs": []
    },
    {
      "cell_type": "code",
      "metadata": {
        "colab": {
          "base_uri": "https://localhost:8080/"
        },
        "id": "bytzKSemckrg",
        "outputId": "fa671c71-0543-49ce-9495-a77eb78030ed"
      },
      "source": [
        "P"
      ],
      "execution_count": null,
      "outputs": [
        {
          "output_type": "execute_result",
          "data": {
            "text/plain": [
              "Person(name=Howard, surname=Longstocking, age=11)"
            ]
          },
          "metadata": {
            "tags": []
          },
          "execution_count": 3
        }
      ]
    },
    {
      "cell_type": "code",
      "metadata": {
        "colab": {
          "base_uri": "https://localhost:8080/"
        },
        "id": "qd3h__Uncknb",
        "outputId": "ea604c38-6c16-4a63-f610-bd72365c39c4"
      },
      "source": [
        "P.say_hi('Kaylyn')"
      ],
      "execution_count": null,
      "outputs": [
        {
          "output_type": "stream",
          "text": [
            "Hi Kaylyn. My name is Howard!\n"
          ],
          "name": "stdout"
        }
      ]
    },
    {
      "cell_type": "code",
      "metadata": {
        "id": "JVAS56NYdAH2"
      },
      "source": [],
      "execution_count": null,
      "outputs": []
    }
  ]
}