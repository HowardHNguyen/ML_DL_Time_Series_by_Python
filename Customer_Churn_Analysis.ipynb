{
  "cells": [
    {
      "cell_type": "markdown",
      "metadata": {
        "id": "view-in-github",
        "colab_type": "text"
      },
      "source": [
        "<a href=\"https://colab.research.google.com/github/HowardHNguyen/Python/blob/main/Customer_Churn_Analysis.ipynb\" target=\"_parent\"><img src=\"https://colab.research.google.com/assets/colab-badge.svg\" alt=\"Open In Colab\"/></a>"
      ]
    },
    {
      "cell_type": "code",
      "execution_count": null,
      "metadata": {
        "colab": {
          "background_save": true,
          "base_uri": "https://localhost:8080/",
          "height": 38
        },
        "id": "g7LesrOWcXrC",
        "outputId": "5ba79ee1-3468-4076-eec2-2f1ca77fef7a"
      },
      "outputs": [
        {
          "data": {
            "text/html": [
              "\n",
              "     <input type=\"file\" id=\"files-966b3b30-85f6-4edd-9dca-05ef0c72697e\" name=\"files[]\" multiple disabled\n",
              "        style=\"border:none\" />\n",
              "     <output id=\"result-966b3b30-85f6-4edd-9dca-05ef0c72697e\">\n",
              "      Upload widget is only available when the cell has been executed in the\n",
              "      current browser session. Please rerun this cell to enable.\n",
              "      </output>\n",
              "      <script>// Copyright 2017 Google LLC\n",
              "//\n",
              "// Licensed under the Apache License, Version 2.0 (the \"License\");\n",
              "// you may not use this file except in compliance with the License.\n",
              "// You may obtain a copy of the License at\n",
              "//\n",
              "//      http://www.apache.org/licenses/LICENSE-2.0\n",
              "//\n",
              "// Unless required by applicable law or agreed to in writing, software\n",
              "// distributed under the License is distributed on an \"AS IS\" BASIS,\n",
              "// WITHOUT WARRANTIES OR CONDITIONS OF ANY KIND, either express or implied.\n",
              "// See the License for the specific language governing permissions and\n",
              "// limitations under the License.\n",
              "\n",
              "/**\n",
              " * @fileoverview Helpers for google.colab Python module.\n",
              " */\n",
              "(function(scope) {\n",
              "function span(text, styleAttributes = {}) {\n",
              "  const element = document.createElement('span');\n",
              "  element.textContent = text;\n",
              "  for (const key of Object.keys(styleAttributes)) {\n",
              "    element.style[key] = styleAttributes[key];\n",
              "  }\n",
              "  return element;\n",
              "}\n",
              "\n",
              "// Max number of bytes which will be uploaded at a time.\n",
              "const MAX_PAYLOAD_SIZE = 100 * 1024;\n",
              "\n",
              "function _uploadFiles(inputId, outputId) {\n",
              "  const steps = uploadFilesStep(inputId, outputId);\n",
              "  const outputElement = document.getElementById(outputId);\n",
              "  // Cache steps on the outputElement to make it available for the next call\n",
              "  // to uploadFilesContinue from Python.\n",
              "  outputElement.steps = steps;\n",
              "\n",
              "  return _uploadFilesContinue(outputId);\n",
              "}\n",
              "\n",
              "// This is roughly an async generator (not supported in the browser yet),\n",
              "// where there are multiple asynchronous steps and the Python side is going\n",
              "// to poll for completion of each step.\n",
              "// This uses a Promise to block the python side on completion of each step,\n",
              "// then passes the result of the previous step as the input to the next step.\n",
              "function _uploadFilesContinue(outputId) {\n",
              "  const outputElement = document.getElementById(outputId);\n",
              "  const steps = outputElement.steps;\n",
              "\n",
              "  const next = steps.next(outputElement.lastPromiseValue);\n",
              "  return Promise.resolve(next.value.promise).then((value) => {\n",
              "    // Cache the last promise value to make it available to the next\n",
              "    // step of the generator.\n",
              "    outputElement.lastPromiseValue = value;\n",
              "    return next.value.response;\n",
              "  });\n",
              "}\n",
              "\n",
              "/**\n",
              " * Generator function which is called between each async step of the upload\n",
              " * process.\n",
              " * @param {string} inputId Element ID of the input file picker element.\n",
              " * @param {string} outputId Element ID of the output display.\n",
              " * @return {!Iterable<!Object>} Iterable of next steps.\n",
              " */\n",
              "function* uploadFilesStep(inputId, outputId) {\n",
              "  const inputElement = document.getElementById(inputId);\n",
              "  inputElement.disabled = false;\n",
              "\n",
              "  const outputElement = document.getElementById(outputId);\n",
              "  outputElement.innerHTML = '';\n",
              "\n",
              "  const pickedPromise = new Promise((resolve) => {\n",
              "    inputElement.addEventListener('change', (e) => {\n",
              "      resolve(e.target.files);\n",
              "    });\n",
              "  });\n",
              "\n",
              "  const cancel = document.createElement('button');\n",
              "  inputElement.parentElement.appendChild(cancel);\n",
              "  cancel.textContent = 'Cancel upload';\n",
              "  const cancelPromise = new Promise((resolve) => {\n",
              "    cancel.onclick = () => {\n",
              "      resolve(null);\n",
              "    };\n",
              "  });\n",
              "\n",
              "  // Wait for the user to pick the files.\n",
              "  const files = yield {\n",
              "    promise: Promise.race([pickedPromise, cancelPromise]),\n",
              "    response: {\n",
              "      action: 'starting',\n",
              "    }\n",
              "  };\n",
              "\n",
              "  cancel.remove();\n",
              "\n",
              "  // Disable the input element since further picks are not allowed.\n",
              "  inputElement.disabled = true;\n",
              "\n",
              "  if (!files) {\n",
              "    return {\n",
              "      response: {\n",
              "        action: 'complete',\n",
              "      }\n",
              "    };\n",
              "  }\n",
              "\n",
              "  for (const file of files) {\n",
              "    const li = document.createElement('li');\n",
              "    li.append(span(file.name, {fontWeight: 'bold'}));\n",
              "    li.append(span(\n",
              "        `(${file.type || 'n/a'}) - ${file.size} bytes, ` +\n",
              "        `last modified: ${\n",
              "            file.lastModifiedDate ? file.lastModifiedDate.toLocaleDateString() :\n",
              "                                    'n/a'} - `));\n",
              "    const percent = span('0% done');\n",
              "    li.appendChild(percent);\n",
              "\n",
              "    outputElement.appendChild(li);\n",
              "\n",
              "    const fileDataPromise = new Promise((resolve) => {\n",
              "      const reader = new FileReader();\n",
              "      reader.onload = (e) => {\n",
              "        resolve(e.target.result);\n",
              "      };\n",
              "      reader.readAsArrayBuffer(file);\n",
              "    });\n",
              "    // Wait for the data to be ready.\n",
              "    let fileData = yield {\n",
              "      promise: fileDataPromise,\n",
              "      response: {\n",
              "        action: 'continue',\n",
              "      }\n",
              "    };\n",
              "\n",
              "    // Use a chunked sending to avoid message size limits. See b/62115660.\n",
              "    let position = 0;\n",
              "    do {\n",
              "      const length = Math.min(fileData.byteLength - position, MAX_PAYLOAD_SIZE);\n",
              "      const chunk = new Uint8Array(fileData, position, length);\n",
              "      position += length;\n",
              "\n",
              "      const base64 = btoa(String.fromCharCode.apply(null, chunk));\n",
              "      yield {\n",
              "        response: {\n",
              "          action: 'append',\n",
              "          file: file.name,\n",
              "          data: base64,\n",
              "        },\n",
              "      };\n",
              "\n",
              "      let percentDone = fileData.byteLength === 0 ?\n",
              "          100 :\n",
              "          Math.round((position / fileData.byteLength) * 100);\n",
              "      percent.textContent = `${percentDone}% done`;\n",
              "\n",
              "    } while (position < fileData.byteLength);\n",
              "  }\n",
              "\n",
              "  // All done.\n",
              "  yield {\n",
              "    response: {\n",
              "      action: 'complete',\n",
              "    }\n",
              "  };\n",
              "}\n",
              "\n",
              "scope.google = scope.google || {};\n",
              "scope.google.colab = scope.google.colab || {};\n",
              "scope.google.colab._files = {\n",
              "  _uploadFiles,\n",
              "  _uploadFilesContinue,\n",
              "};\n",
              "})(self);\n",
              "</script> "
            ],
            "text/plain": [
              "<IPython.core.display.HTML object>"
            ]
          },
          "metadata": {},
          "output_type": "display_data"
        }
      ],
      "source": [
        "from google.colab import files\n",
        "files.upload()"
      ]
    },
    {
      "cell_type": "code",
      "execution_count": null,
      "metadata": {
        "colab": {
          "base_uri": "https://localhost:8080/"
        },
        "id": "Vw_dqgxVcUGt",
        "outputId": "edb00b3c-291e-47a8-e089-a9f8e79a1bdf"
      },
      "outputs": [
        {
          "data": {
            "text/plain": [
              "0    128\n",
              "1    107\n",
              "2    137\n",
              "3     84\n",
              "4     75\n",
              "Name: Account Length, dtype: int64"
            ]
          },
          "execution_count": 16,
          "metadata": {
            "tags": []
          },
          "output_type": "execute_result"
        }
      ],
      "source": [
        "import pandas as pd\n",
        "data=pd.read_csv('Customer Churn Model.txt')\n",
        "account_length = data['Account Length']\n",
        "account_length.head()"
      ]
    },
    {
      "cell_type": "code",
      "execution_count": null,
      "metadata": {
        "colab": {
          "base_uri": "https://localhost:8080/",
          "height": 334
        },
        "id": "iw9QvnN_crWi",
        "outputId": "2a50d05e-dce9-48c8-80bd-9cd497094bdf"
      },
      "outputs": [
        {
          "data": {
            "text/html": [
              "<div>\n",
              "<style scoped>\n",
              "    .dataframe tbody tr th:only-of-type {\n",
              "        vertical-align: middle;\n",
              "    }\n",
              "\n",
              "    .dataframe tbody tr th {\n",
              "        vertical-align: top;\n",
              "    }\n",
              "\n",
              "    .dataframe thead th {\n",
              "        text-align: right;\n",
              "    }\n",
              "</style>\n",
              "<table border=\"1\" class=\"dataframe\">\n",
              "  <thead>\n",
              "    <tr style=\"text-align: right;\">\n",
              "      <th></th>\n",
              "      <th>Account Length</th>\n",
              "      <th>Area Code</th>\n",
              "      <th>VMail Message</th>\n",
              "      <th>Day Mins</th>\n",
              "      <th>Day Calls</th>\n",
              "      <th>Day Charge</th>\n",
              "      <th>Eve Mins</th>\n",
              "      <th>Eve Calls</th>\n",
              "      <th>Eve Charge</th>\n",
              "      <th>Night Mins</th>\n",
              "      <th>Night Calls</th>\n",
              "      <th>Night Charge</th>\n",
              "      <th>Intl Mins</th>\n",
              "      <th>Intl Calls</th>\n",
              "      <th>Intl Charge</th>\n",
              "      <th>CustServ Calls</th>\n",
              "    </tr>\n",
              "  </thead>\n",
              "  <tbody>\n",
              "    <tr>\n",
              "      <th>count</th>\n",
              "      <td>3333.000000</td>\n",
              "      <td>3333.000000</td>\n",
              "      <td>3333.000000</td>\n",
              "      <td>3333.000000</td>\n",
              "      <td>3333.000000</td>\n",
              "      <td>3333.000000</td>\n",
              "      <td>3333.000000</td>\n",
              "      <td>3333.000000</td>\n",
              "      <td>3333.000000</td>\n",
              "      <td>3333.000000</td>\n",
              "      <td>3333.000000</td>\n",
              "      <td>3333.000000</td>\n",
              "      <td>3333.000000</td>\n",
              "      <td>3333.000000</td>\n",
              "      <td>3333.000000</td>\n",
              "      <td>3333.000000</td>\n",
              "    </tr>\n",
              "    <tr>\n",
              "      <th>mean</th>\n",
              "      <td>101.064806</td>\n",
              "      <td>437.182418</td>\n",
              "      <td>8.099010</td>\n",
              "      <td>179.775098</td>\n",
              "      <td>100.435644</td>\n",
              "      <td>30.562307</td>\n",
              "      <td>200.980348</td>\n",
              "      <td>100.114311</td>\n",
              "      <td>17.083540</td>\n",
              "      <td>200.872037</td>\n",
              "      <td>100.107711</td>\n",
              "      <td>9.039325</td>\n",
              "      <td>10.237294</td>\n",
              "      <td>4.479448</td>\n",
              "      <td>2.764581</td>\n",
              "      <td>1.562856</td>\n",
              "    </tr>\n",
              "    <tr>\n",
              "      <th>std</th>\n",
              "      <td>39.822106</td>\n",
              "      <td>42.371290</td>\n",
              "      <td>13.688365</td>\n",
              "      <td>54.467389</td>\n",
              "      <td>20.069084</td>\n",
              "      <td>9.259435</td>\n",
              "      <td>50.713844</td>\n",
              "      <td>19.922625</td>\n",
              "      <td>4.310668</td>\n",
              "      <td>50.573847</td>\n",
              "      <td>19.568609</td>\n",
              "      <td>2.275873</td>\n",
              "      <td>2.791840</td>\n",
              "      <td>2.461214</td>\n",
              "      <td>0.753773</td>\n",
              "      <td>1.315491</td>\n",
              "    </tr>\n",
              "    <tr>\n",
              "      <th>min</th>\n",
              "      <td>1.000000</td>\n",
              "      <td>408.000000</td>\n",
              "      <td>0.000000</td>\n",
              "      <td>0.000000</td>\n",
              "      <td>0.000000</td>\n",
              "      <td>0.000000</td>\n",
              "      <td>0.000000</td>\n",
              "      <td>0.000000</td>\n",
              "      <td>0.000000</td>\n",
              "      <td>23.200000</td>\n",
              "      <td>33.000000</td>\n",
              "      <td>1.040000</td>\n",
              "      <td>0.000000</td>\n",
              "      <td>0.000000</td>\n",
              "      <td>0.000000</td>\n",
              "      <td>0.000000</td>\n",
              "    </tr>\n",
              "    <tr>\n",
              "      <th>25%</th>\n",
              "      <td>74.000000</td>\n",
              "      <td>408.000000</td>\n",
              "      <td>0.000000</td>\n",
              "      <td>143.700000</td>\n",
              "      <td>87.000000</td>\n",
              "      <td>24.430000</td>\n",
              "      <td>166.600000</td>\n",
              "      <td>87.000000</td>\n",
              "      <td>14.160000</td>\n",
              "      <td>167.000000</td>\n",
              "      <td>87.000000</td>\n",
              "      <td>7.520000</td>\n",
              "      <td>8.500000</td>\n",
              "      <td>3.000000</td>\n",
              "      <td>2.300000</td>\n",
              "      <td>1.000000</td>\n",
              "    </tr>\n",
              "    <tr>\n",
              "      <th>50%</th>\n",
              "      <td>101.000000</td>\n",
              "      <td>415.000000</td>\n",
              "      <td>0.000000</td>\n",
              "      <td>179.400000</td>\n",
              "      <td>101.000000</td>\n",
              "      <td>30.500000</td>\n",
              "      <td>201.400000</td>\n",
              "      <td>100.000000</td>\n",
              "      <td>17.120000</td>\n",
              "      <td>201.200000</td>\n",
              "      <td>100.000000</td>\n",
              "      <td>9.050000</td>\n",
              "      <td>10.300000</td>\n",
              "      <td>4.000000</td>\n",
              "      <td>2.780000</td>\n",
              "      <td>1.000000</td>\n",
              "    </tr>\n",
              "    <tr>\n",
              "      <th>75%</th>\n",
              "      <td>127.000000</td>\n",
              "      <td>510.000000</td>\n",
              "      <td>20.000000</td>\n",
              "      <td>216.400000</td>\n",
              "      <td>114.000000</td>\n",
              "      <td>36.790000</td>\n",
              "      <td>235.300000</td>\n",
              "      <td>114.000000</td>\n",
              "      <td>20.000000</td>\n",
              "      <td>235.300000</td>\n",
              "      <td>113.000000</td>\n",
              "      <td>10.590000</td>\n",
              "      <td>12.100000</td>\n",
              "      <td>6.000000</td>\n",
              "      <td>3.270000</td>\n",
              "      <td>2.000000</td>\n",
              "    </tr>\n",
              "    <tr>\n",
              "      <th>max</th>\n",
              "      <td>243.000000</td>\n",
              "      <td>510.000000</td>\n",
              "      <td>51.000000</td>\n",
              "      <td>350.800000</td>\n",
              "      <td>165.000000</td>\n",
              "      <td>59.640000</td>\n",
              "      <td>363.700000</td>\n",
              "      <td>170.000000</td>\n",
              "      <td>30.910000</td>\n",
              "      <td>395.000000</td>\n",
              "      <td>175.000000</td>\n",
              "      <td>17.770000</td>\n",
              "      <td>20.000000</td>\n",
              "      <td>20.000000</td>\n",
              "      <td>5.400000</td>\n",
              "      <td>9.000000</td>\n",
              "    </tr>\n",
              "  </tbody>\n",
              "</table>\n",
              "</div>"
            ],
            "text/plain": [
              "       Account Length    Area Code  ...  Intl Charge  CustServ Calls\n",
              "count     3333.000000  3333.000000  ...  3333.000000     3333.000000\n",
              "mean       101.064806   437.182418  ...     2.764581        1.562856\n",
              "std         39.822106    42.371290  ...     0.753773        1.315491\n",
              "min          1.000000   408.000000  ...     0.000000        0.000000\n",
              "25%         74.000000   408.000000  ...     2.300000        1.000000\n",
              "50%        101.000000   415.000000  ...     2.780000        1.000000\n",
              "75%        127.000000   510.000000  ...     3.270000        2.000000\n",
              "max        243.000000   510.000000  ...     5.400000        9.000000\n",
              "\n",
              "[8 rows x 16 columns]"
            ]
          },
          "execution_count": 27,
          "metadata": {
            "tags": []
          },
          "output_type": "execute_result"
        }
      ],
      "source": [
        "data.describe()"
      ]
    },
    {
      "cell_type": "code",
      "execution_count": null,
      "metadata": {
        "colab": {
          "base_uri": "https://localhost:8080/",
          "height": 204
        },
        "id": "03mgv78Gcw4V",
        "outputId": "498520d8-fb2b-4e29-9b95-7e503450904e"
      },
      "outputs": [
        {
          "data": {
            "text/html": [
              "<div>\n",
              "<style scoped>\n",
              "    .dataframe tbody tr th:only-of-type {\n",
              "        vertical-align: middle;\n",
              "    }\n",
              "\n",
              "    .dataframe tbody tr th {\n",
              "        vertical-align: top;\n",
              "    }\n",
              "\n",
              "    .dataframe thead th {\n",
              "        text-align: right;\n",
              "    }\n",
              "</style>\n",
              "<table border=\"1\" class=\"dataframe\">\n",
              "  <thead>\n",
              "    <tr style=\"text-align: right;\">\n",
              "      <th></th>\n",
              "      <th>Account Length</th>\n",
              "      <th>VMail Message</th>\n",
              "      <th>Day Calls</th>\n",
              "    </tr>\n",
              "  </thead>\n",
              "  <tbody>\n",
              "    <tr>\n",
              "      <th>0</th>\n",
              "      <td>128</td>\n",
              "      <td>25</td>\n",
              "      <td>110</td>\n",
              "    </tr>\n",
              "    <tr>\n",
              "      <th>1</th>\n",
              "      <td>107</td>\n",
              "      <td>26</td>\n",
              "      <td>123</td>\n",
              "    </tr>\n",
              "    <tr>\n",
              "      <th>2</th>\n",
              "      <td>137</td>\n",
              "      <td>0</td>\n",
              "      <td>114</td>\n",
              "    </tr>\n",
              "    <tr>\n",
              "      <th>3</th>\n",
              "      <td>84</td>\n",
              "      <td>0</td>\n",
              "      <td>71</td>\n",
              "    </tr>\n",
              "    <tr>\n",
              "      <th>4</th>\n",
              "      <td>75</td>\n",
              "      <td>0</td>\n",
              "      <td>113</td>\n",
              "    </tr>\n",
              "  </tbody>\n",
              "</table>\n",
              "</div>"
            ],
            "text/plain": [
              "   Account Length  VMail Message  Day Calls\n",
              "0             128             25        110\n",
              "1             107             26        123\n",
              "2             137              0        114\n",
              "3              84              0         71\n",
              "4              75              0        113"
            ]
          },
          "execution_count": 28,
          "metadata": {
            "tags": []
          },
          "output_type": "execute_result"
        }
      ],
      "source": [
        "# 1 Selecting  column(s)\n",
        "subdata = data[['Account Length','VMail Message','Day Calls']]\n",
        "subdata.head()"
      ]
    },
    {
      "cell_type": "code",
      "execution_count": null,
      "metadata": {
        "colab": {
          "base_uri": "https://localhost:8080/",
          "height": 162
        },
        "id": "3TFcThtXc9w_",
        "outputId": "9da02370-fe3a-449e-eeca-1e4449a9a9a5"
      },
      "outputs": [
        {
          "data": {
            "text/html": [
              "<div>\n",
              "<style scoped>\n",
              "    .dataframe tbody tr th:only-of-type {\n",
              "        vertical-align: middle;\n",
              "    }\n",
              "\n",
              "    .dataframe tbody tr th {\n",
              "        vertical-align: top;\n",
              "    }\n",
              "\n",
              "    .dataframe thead th {\n",
              "        text-align: right;\n",
              "    }\n",
              "</style>\n",
              "<table border=\"1\" class=\"dataframe\">\n",
              "  <thead>\n",
              "    <tr style=\"text-align: right;\">\n",
              "      <th></th>\n",
              "      <th>State</th>\n",
              "      <th>Area Code</th>\n",
              "      <th>Phone</th>\n",
              "      <th>Int'l Plan</th>\n",
              "      <th>VMail Plan</th>\n",
              "      <th>Day Mins</th>\n",
              "      <th>Day Charge</th>\n",
              "      <th>Eve Mins</th>\n",
              "      <th>Eve Calls</th>\n",
              "      <th>Eve Charge</th>\n",
              "      <th>Night Mins</th>\n",
              "      <th>Night Calls</th>\n",
              "      <th>Night Charge</th>\n",
              "      <th>Intl Mins</th>\n",
              "      <th>Intl Calls</th>\n",
              "      <th>Intl Charge</th>\n",
              "      <th>CustServ Calls</th>\n",
              "      <th>Churn?</th>\n",
              "    </tr>\n",
              "  </thead>\n",
              "  <tbody>\n",
              "    <tr>\n",
              "      <th>0</th>\n",
              "      <td>KS</td>\n",
              "      <td>415</td>\n",
              "      <td>382-4657</td>\n",
              "      <td>no</td>\n",
              "      <td>yes</td>\n",
              "      <td>265.1</td>\n",
              "      <td>45.07</td>\n",
              "      <td>197.4</td>\n",
              "      <td>99</td>\n",
              "      <td>16.78</td>\n",
              "      <td>244.7</td>\n",
              "      <td>91</td>\n",
              "      <td>11.01</td>\n",
              "      <td>10.0</td>\n",
              "      <td>3</td>\n",
              "      <td>2.7</td>\n",
              "      <td>1</td>\n",
              "      <td>False.</td>\n",
              "    </tr>\n",
              "    <tr>\n",
              "      <th>1</th>\n",
              "      <td>OH</td>\n",
              "      <td>415</td>\n",
              "      <td>371-7191</td>\n",
              "      <td>no</td>\n",
              "      <td>yes</td>\n",
              "      <td>161.6</td>\n",
              "      <td>27.47</td>\n",
              "      <td>195.5</td>\n",
              "      <td>103</td>\n",
              "      <td>16.62</td>\n",
              "      <td>254.4</td>\n",
              "      <td>103</td>\n",
              "      <td>11.45</td>\n",
              "      <td>13.7</td>\n",
              "      <td>3</td>\n",
              "      <td>3.7</td>\n",
              "      <td>1</td>\n",
              "      <td>False.</td>\n",
              "    </tr>\n",
              "  </tbody>\n",
              "</table>\n",
              "</div>"
            ],
            "text/plain": [
              "  State  Area Code     Phone  ... Intl Charge CustServ Calls  Churn?\n",
              "0    KS        415  382-4657  ...         2.7              1  False.\n",
              "1    OH        415  371-7191  ...         3.7              1  False.\n",
              "\n",
              "[2 rows x 18 columns]"
            ]
          },
          "execution_count": 37,
          "metadata": {
            "tags": []
          },
          "output_type": "execute_result"
        }
      ],
      "source": [
        "# 2 Selecting/Ignoring particular columns\n",
        "wanted = ['Account Length','VMail Message','Day Calls']\n",
        "column_list = data.columns.values.tolist()\n",
        "sublist = [x for x in column_list if x not in wanted]\n",
        "subdata = data[sublist]\n",
        "subdata.head(2)"
      ]
    },
    {
      "cell_type": "code",
      "execution_count": null,
      "metadata": {
        "colab": {
          "base_uri": "https://localhost:8080/"
        },
        "id": "vUafKgdQdSXN",
        "outputId": "7a92313d-af87-48b6-d983-d11233b1b3fa"
      },
      "outputs": [
        {
          "data": {
            "text/plain": [
              "(0, 21)"
            ]
          },
          "execution_count": 39,
          "metadata": {
            "tags": []
          },
          "output_type": "execute_result"
        }
      ],
      "source": [
        "# 3 Selecting rows with row numbers and conditional filters\n",
        "#data[1:50]    # first 50 rows, similar with [:50]\n",
        "#data[25:75]   # select 50 rows from 25th\n",
        "#data[:50]\n",
        "#data[51:]      # select all row except the first 50 rows\n",
        "\n",
        "#data1 = data[data['Intl Mins']>500]\n",
        "#data1.shape\n",
        "\n",
        "#data1 = data[data['State']=='VA']\n",
        "#data1.shape\n",
        "\n",
        "data1 = data[(data['Intl Mins']>500) & (data['State']=='VA')]\n",
        "data1.shape\n",
        "\n",
        "#data1 = data[(data['Intl Mins']>500) | (data['State']=='VA')]\n",
        "#data1.shape"
      ]
    },
    {
      "cell_type": "code",
      "execution_count": null,
      "metadata": {
        "colab": {
          "base_uri": "https://localhost:8080/",
          "height": 142
        },
        "id": "wUsr3uuidyDt",
        "outputId": "34304e3f-9e2e-497e-ea30-12f452fbbb63"
      },
      "outputs": [
        {
          "data": {
            "text/html": [
              "<div>\n",
              "<style scoped>\n",
              "    .dataframe tbody tr th:only-of-type {\n",
              "        vertical-align: middle;\n",
              "    }\n",
              "\n",
              "    .dataframe tbody tr th {\n",
              "        vertical-align: top;\n",
              "    }\n",
              "\n",
              "    .dataframe thead th {\n",
              "        text-align: right;\n",
              "    }\n",
              "</style>\n",
              "<table border=\"1\" class=\"dataframe\">\n",
              "  <thead>\n",
              "    <tr style=\"text-align: right;\">\n",
              "      <th></th>\n",
              "      <th>Day Mins</th>\n",
              "      <th>Day Charge</th>\n",
              "      <th>Eve Charge</th>\n",
              "    </tr>\n",
              "  </thead>\n",
              "  <tbody>\n",
              "    <tr>\n",
              "      <th>1</th>\n",
              "      <td>161.6</td>\n",
              "      <td>27.47</td>\n",
              "      <td>16.62</td>\n",
              "    </tr>\n",
              "    <tr>\n",
              "      <th>2</th>\n",
              "      <td>243.4</td>\n",
              "      <td>41.38</td>\n",
              "      <td>10.30</td>\n",
              "    </tr>\n",
              "    <tr>\n",
              "      <th>5</th>\n",
              "      <td>223.4</td>\n",
              "      <td>37.98</td>\n",
              "      <td>18.75</td>\n",
              "    </tr>\n",
              "  </tbody>\n",
              "</table>\n",
              "</div>"
            ],
            "text/plain": [
              "   Day Mins  Day Charge  Eve Charge\n",
              "1     161.6       27.47       16.62\n",
              "2     243.4       41.38       10.30\n",
              "5     223.4       37.98       18.75"
            ]
          },
          "execution_count": 58,
          "metadata": {
            "tags": []
          },
          "output_type": "execute_result"
        }
      ],
      "source": [
        "#4 Selecting combination of rows and columns\n",
        "subdata_first_50 = data[['Account Length','VMail Message','Day Calls']][1:50]\n",
        "subdata_first_50\n",
        "\n",
        "#data.iloc[1:100,1:6]     # selct first 100 rows and first 5 columns\n",
        "#data.iloc[:,1:6]\n",
        "#data.iloc[1:100,:]         # selct first 100 rows and all columns\n",
        "#data.iloc[1:100,[2,5,7]]     # selct first 100 rows and 2 5 7 columns\n",
        "data.iloc[[1,2,5],[7,9,12]]   # selct 1,2,5 rows and 7,9,12 columns\n",
        "#data.ix[[1,2,5],['Area Code','VMail Plan','Day Mins']]"
      ]
    },
    {
      "cell_type": "code",
      "execution_count": null,
      "metadata": {
        "colab": {
          "base_uri": "https://localhost:8080/"
        },
        "id": "Qr-Io61nndUS",
        "outputId": "3e40c579-d18e-432d-b7f3-ccbf595e8f5a"
      },
      "outputs": [
        {
          "data": {
            "text/plain": [
              "0    707.2\n",
              "1    611.5\n",
              "2    527.2\n",
              "3    558.2\n",
              "4    501.9\n",
              "Name: Total Mins, dtype: float64"
            ]
          },
          "execution_count": 56,
          "metadata": {
            "tags": []
          },
          "output_type": "execute_result"
        }
      ],
      "source": [
        "# 5 Creating new columns\n",
        "data['Total Mins'] = data['Day Mins'] + data['Eve Mins'] + data['Night Mins']\n",
        "data['Total Mins'].head()"
      ]
    },
    {
      "cell_type": "code",
      "execution_count": null,
      "metadata": {
        "colab": {
          "base_uri": "https://localhost:8080/"
        },
        "id": "DARRLK4KndRO",
        "outputId": "7cb70662-985e-4c2a-cdb7-fea43367c5e4"
      },
      "outputs": [
        {
          "data": {
            "text/plain": [
              "37"
            ]
          },
          "execution_count": 59,
          "metadata": {
            "tags": []
          },
          "output_type": "execute_result"
        }
      ],
      "source": [
        "# 6 Generating Random Numbers\n",
        "import numpy as np\n",
        "np.random.randint(1,100)"
      ]
    },
    {
      "cell_type": "code",
      "execution_count": null,
      "metadata": {
        "colab": {
          "base_uri": "https://localhost:8080/"
        },
        "id": "l1cXyOqFndOK",
        "outputId": "a45d8b20-b9a0-4f08-96e9-0242119fd29d"
      },
      "outputs": [
        {
          "data": {
            "text/plain": [
              "0.7802356396778908"
            ]
          },
          "execution_count": 60,
          "metadata": {
            "tags": []
          },
          "output_type": "execute_result"
        }
      ],
      "source": [
        "np.random.random()"
      ]
    },
    {
      "cell_type": "code",
      "execution_count": null,
      "metadata": {
        "id": "a2dGk3aYndLO"
      },
      "outputs": [],
      "source": [
        "def randint_range(n,a,b):\n",
        "    x=[]\n",
        "    for i in range(n):\n",
        "        x.append(np.random.randint(a,b))\n",
        "    return x"
      ]
    },
    {
      "cell_type": "code",
      "execution_count": null,
      "metadata": {
        "colab": {
          "base_uri": "https://localhost:8080/"
        },
        "id": "mGpv5o0qndIU",
        "outputId": "510fef9a-0147-4413-ce4a-3c5a0d136c50"
      },
      "outputs": [
        {
          "data": {
            "text/plain": [
              "[299, 423, 74, 456, 583, 287, 343, 973, 316, 844]"
            ]
          },
          "execution_count": 62,
          "metadata": {
            "tags": []
          },
          "output_type": "execute_result"
        }
      ],
      "source": [
        "randint_range(10,2,1000)"
      ]
    },
    {
      "cell_type": "code",
      "execution_count": null,
      "metadata": {
        "colab": {
          "base_uri": "https://localhost:8080/"
        },
        "id": "KSfH-fy8ndFK",
        "outputId": "496950f0-fbf7-4a28-9996-7e6c2350f197"
      },
      "outputs": [
        {
          "name": "stdout",
          "output_type": "stream",
          "text": [
            "45\n",
            "10\n",
            "90\n"
          ]
        }
      ],
      "source": [
        "import random\n",
        "for i in range(3):\n",
        "  print(random.randrange(0,100,5))"
      ]
    },
    {
      "cell_type": "code",
      "execution_count": null,
      "metadata": {
        "colab": {
          "base_uri": "https://localhost:8080/",
          "height": 35
        },
        "id": "YCA-3VAendCT",
        "outputId": "fd23719d-1372-47f6-d4f5-8bd868df8278"
      },
      "outputs": [
        {
          "data": {
            "application/vnd.google.colaboratory.intrinsic+json": {
              "type": "string"
            },
            "text/plain": [
              "\"Int'l Plan\""
            ]
          },
          "execution_count": 71,
          "metadata": {
            "tags": []
          },
          "output_type": "execute_result"
        }
      ],
      "source": [
        "column_list = data.columns.values.tolist()\n",
        "np.random.choice(column_list)"
      ]
    },
    {
      "cell_type": "code",
      "execution_count": null,
      "metadata": {
        "colab": {
          "base_uri": "https://localhost:8080/"
        },
        "id": "OSKea-9cnc_O",
        "outputId": "39d2f0f0-35e6-4152-86e4-543e316e1548"
      },
      "outputs": [
        {
          "name": "stdout",
          "output_type": "stream",
          "text": [
            "0.417022004702574\n",
            "0.7203244934421581\n",
            "0.00011437481734488664\n",
            "0.30233257263183977\n",
            "0.14675589081711304\n"
          ]
        }
      ],
      "source": [
        "# 7 Seeding a Random Number\n",
        "np.random.seed(1)\n",
        "for i in range(5):\n",
        "    print(np.random.random())"
      ]
    },
    {
      "cell_type": "code",
      "execution_count": null,
      "metadata": {
        "colab": {
          "base_uri": "https://localhost:8080/",
          "height": 350
        },
        "id": "buInEkzInc8i",
        "outputId": "ba3fb7d8-c8e5-4af3-e12a-e233834996c1"
      },
      "outputs": [
        {
          "data": {
            "text/plain": [
              "(array([10., 12.,  8.,  8., 11., 11., 11.,  8.,  8., 13.]),\n",
              " array([ 1.28416238, 11.04547092, 20.80677946, 30.568088  , 40.32939655,\n",
              "        50.09070509, 59.85201363, 69.61332217, 79.37463072, 89.13593926,\n",
              "        98.8972478 ]),\n",
              " <a list of 10 Patch objects>)"
            ]
          },
          "execution_count": 74,
          "metadata": {
            "tags": []
          },
          "output_type": "execute_result"
        },
        {
          "data": {
            "image/png": "[encoded data removed]",
            "text/plain": [
              "<Figure size 432x288 with 1 Axes>"
            ]
          },
          "metadata": {
            "tags": []
          },
          "output_type": "display_data"
        }
      ],
      "source": [
        "# 8 Histogram of Uniformly and Normally distributed random numbers\n",
        "\n",
        "import numpy as np\n",
        "import matplotlib.pyplot as plt\n",
        "%matplotlib inline\n",
        "a = np.random.uniform(1,100,100)\n",
        "b = range(1,101)\n",
        "plt.hist(a)"
      ]
    },
    {
      "cell_type": "code",
      "execution_count": null,
      "metadata": {
        "colab": {
          "base_uri": "https://localhost:8080/",
          "height": 282
        },
        "id": "u9lkC6nxnc5I",
        "outputId": "898c9150-00d7-4dd9-cfe8-16cc066de21f"
      },
      "outputs": [
        {
          "data": {
            "text/plain": [
              "[<matplotlib.lines.Line2D at 0x7f0d564e0b90>]"
            ]
          },
          "execution_count": 75,
          "metadata": {
            "tags": []
          },
          "output_type": "execute_result"
        },
        {
          "data": {
            "image/png": "[encoded data removed]",
            "text/plain": [
              "<Figure size 432x288 with 1 Axes>"
            ]
          },
          "metadata": {
            "tags": []
          },
          "output_type": "display_data"
        }
      ],
      "source": [
        "a = np.random.randn(100)\n",
        "b = range(1,101)\n",
        "plt.plot(b,a)"
      ]
    },
    {
      "cell_type": "code",
      "execution_count": null,
      "metadata": {
        "colab": {
          "base_uri": "https://localhost:8080/",
          "height": 367
        },
        "id": "LI9F2MC7ncy5",
        "outputId": "80bb1b1c-3aa7-4759-aa96-83fb342ea7ee"
      },
      "outputs": [
        {
          "data": {
            "text/plain": [
              "(array([9.0000e+00, 3.2500e+02, 3.1740e+03, 1.5948e+04, 3.3954e+04,\n",
              "        3.1706e+04, 1.2538e+04, 2.1850e+03, 1.5100e+02, 1.0000e+01]),\n",
              " array([-4.6556287 , -3.70628923, -2.75694976, -1.80761029, -0.85827081,\n",
              "         0.09106866,  1.04040813,  1.9897476 ,  2.93908707,  3.88842654,\n",
              "         4.83776601]),\n",
              " <a list of 10 Patch objects>)"
            ]
          },
          "execution_count": 76,
          "metadata": {
            "tags": []
          },
          "output_type": "execute_result"
        },
        {
          "data": {
            "image/png": "[encoded data removed]",
            "text/plain": [
              "<Figure size 432x288 with 1 Axes>"
            ]
          },
          "metadata": {
            "tags": []
          },
          "output_type": "display_data"
        }
      ],
      "source": [
        "a = np.random.randn(100000)\n",
        "b = range(1,101)\n",
        "plt.hist(a)"
      ]
    },
    {
      "cell_type": "code",
      "execution_count": null,
      "metadata": {
        "id": "mg6afF2nv_b8"
      },
      "outputs": [],
      "source": [
        "#9 Monte Carlo Simulations to find value of pi\n",
        "\n",
        "#def pi_run(nums,loops):\n",
        "pi_avg = 0\n",
        "pi_value_list = []\n",
        "for i in range(100):\n",
        "  value = 0\n",
        "  x = np.random.uniform(0,1,1000).tolist()\n",
        "  y = np.random.uniform(0,1,1000).tolist()\n",
        "  for j in range(1000):\n",
        "    z = np.sqrt(x[j]*x[j]+y[j]*y[j])\n",
        "    if z<=1:\n",
        "      value += 1\n",
        "  float_value = float(value)\n",
        "  pi_value = float_value*4/1000\n",
        "  pi_value_list.append(pi_value)\n",
        "  pi_avg += pi_value"
      ]
    },
    {
      "cell_type": "code",
      "execution_count": null,
      "metadata": {
        "colab": {
          "base_uri": "https://localhost:8080/",
          "height": 299
        },
        "id": "vDUVPT6nv_ZT",
        "outputId": "1586b02c-4294-4855-b6df-8c25d6934afa"
      },
      "outputs": [
        {
          "name": "stdout",
          "output_type": "stream",
          "text": [
            "3.1472399999999987\n"
          ]
        },
        {
          "data": {
            "text/plain": [
              "[<matplotlib.lines.Line2D at 0x7f0d55f7a510>]"
            ]
          },
          "execution_count": 85,
          "metadata": {
            "tags": []
          },
          "output_type": "execute_result"
        },
        {
          "data": {
            "image/png": "[encoded data removed]",
            "text/plain": [
              "<Figure size 432x288 with 1 Axes>"
            ]
          },
          "metadata": {
            "tags": []
          },
          "output_type": "display_data"
        }
      ],
      "source": [
        "pi = pi_avg/100\n",
        "print(pi)\n",
        "ind = range(1,101)\n",
        "fig = plt.plot(ind,pi_value_list)\n",
        "fig"
      ]
    },
    {
      "cell_type": "code",
      "execution_count": null,
      "metadata": {
        "colab": {
          "base_uri": "https://localhost:8080/",
          "height": 700
        },
        "id": "xJEBKMVlv_WM",
        "outputId": "4dd61fa6-ba79-4d87-9b41-eb0a44c1be65"
      },
      "outputs": [
        {
          "data": {
            "text/html": [
              "<div>\n",
              "<style scoped>\n",
              "    .dataframe tbody tr th:only-of-type {\n",
              "        vertical-align: middle;\n",
              "    }\n",
              "\n",
              "    .dataframe tbody tr th {\n",
              "        vertical-align: top;\n",
              "    }\n",
              "\n",
              "    .dataframe thead th {\n",
              "        text-align: right;\n",
              "    }\n",
              "</style>\n",
              "<table border=\"1\" class=\"dataframe\">\n",
              "  <thead>\n",
              "    <tr style=\"text-align: right;\">\n",
              "      <th></th>\n",
              "      <th>Column_Name</th>\n",
              "      <th>A</th>\n",
              "      <th>B</th>\n",
              "    </tr>\n",
              "  </thead>\n",
              "  <tbody>\n",
              "    <tr>\n",
              "      <th>0</th>\n",
              "      <td>State</td>\n",
              "      <td>0.022536</td>\n",
              "      <td>2.262123</td>\n",
              "    </tr>\n",
              "    <tr>\n",
              "      <th>1</th>\n",
              "      <td>Account Length</td>\n",
              "      <td>-0.533996</td>\n",
              "      <td>-4.007197</td>\n",
              "    </tr>\n",
              "    <tr>\n",
              "      <th>2</th>\n",
              "      <td>Area Code</td>\n",
              "      <td>1.093875</td>\n",
              "      <td>1.077333</td>\n",
              "    </tr>\n",
              "    <tr>\n",
              "      <th>3</th>\n",
              "      <td>Phone</td>\n",
              "      <td>1.615490</td>\n",
              "      <td>-1.383253</td>\n",
              "    </tr>\n",
              "    <tr>\n",
              "      <th>4</th>\n",
              "      <td>Int'l Plan</td>\n",
              "      <td>-0.012997</td>\n",
              "      <td>5.120719</td>\n",
              "    </tr>\n",
              "    <tr>\n",
              "      <th>5</th>\n",
              "      <td>VMail Plan</td>\n",
              "      <td>-0.762601</td>\n",
              "      <td>-2.014780</td>\n",
              "    </tr>\n",
              "    <tr>\n",
              "      <th>6</th>\n",
              "      <td>VMail Message</td>\n",
              "      <td>-1.161647</td>\n",
              "      <td>1.948791</td>\n",
              "    </tr>\n",
              "    <tr>\n",
              "      <th>7</th>\n",
              "      <td>Day Mins</td>\n",
              "      <td>0.048163</td>\n",
              "      <td>2.525015</td>\n",
              "    </tr>\n",
              "    <tr>\n",
              "      <th>8</th>\n",
              "      <td>Day Calls</td>\n",
              "      <td>-1.530371</td>\n",
              "      <td>1.134497</td>\n",
              "    </tr>\n",
              "    <tr>\n",
              "      <th>9</th>\n",
              "      <td>Day Charge</td>\n",
              "      <td>-0.767579</td>\n",
              "      <td>-0.652474</td>\n",
              "    </tr>\n",
              "    <tr>\n",
              "      <th>10</th>\n",
              "      <td>Eve Mins</td>\n",
              "      <td>0.090295</td>\n",
              "      <td>-0.641147</td>\n",
              "    </tr>\n",
              "    <tr>\n",
              "      <th>11</th>\n",
              "      <td>Eve Calls</td>\n",
              "      <td>0.822046</td>\n",
              "      <td>4.300678</td>\n",
              "    </tr>\n",
              "    <tr>\n",
              "      <th>12</th>\n",
              "      <td>Eve Charge</td>\n",
              "      <td>0.213250</td>\n",
              "      <td>0.600040</td>\n",
              "    </tr>\n",
              "    <tr>\n",
              "      <th>13</th>\n",
              "      <td>Night Mins</td>\n",
              "      <td>-0.043145</td>\n",
              "      <td>0.996078</td>\n",
              "    </tr>\n",
              "    <tr>\n",
              "      <th>14</th>\n",
              "      <td>Night Calls</td>\n",
              "      <td>-1.156870</td>\n",
              "      <td>-3.793248</td>\n",
              "    </tr>\n",
              "    <tr>\n",
              "      <th>15</th>\n",
              "      <td>Night Charge</td>\n",
              "      <td>0.457139</td>\n",
              "      <td>-0.335775</td>\n",
              "    </tr>\n",
              "    <tr>\n",
              "      <th>16</th>\n",
              "      <td>Intl Mins</td>\n",
              "      <td>0.558911</td>\n",
              "      <td>2.797480</td>\n",
              "    </tr>\n",
              "    <tr>\n",
              "      <th>17</th>\n",
              "      <td>Intl Calls</td>\n",
              "      <td>0.316710</td>\n",
              "      <td>4.002532</td>\n",
              "    </tr>\n",
              "    <tr>\n",
              "      <th>18</th>\n",
              "      <td>Intl Charge</td>\n",
              "      <td>-1.534406</td>\n",
              "      <td>1.325099</td>\n",
              "    </tr>\n",
              "    <tr>\n",
              "      <th>19</th>\n",
              "      <td>CustServ Calls</td>\n",
              "      <td>1.058082</td>\n",
              "      <td>1.067732</td>\n",
              "    </tr>\n",
              "    <tr>\n",
              "      <th>20</th>\n",
              "      <td>Churn?</td>\n",
              "      <td>-0.814503</td>\n",
              "      <td>1.354496</td>\n",
              "    </tr>\n",
              "  </tbody>\n",
              "</table>\n",
              "</div>"
            ],
            "text/plain": [
              "       Column_Name         A         B\n",
              "0            State  0.022536  2.262123\n",
              "1   Account Length -0.533996 -4.007197\n",
              "2        Area Code  1.093875  1.077333\n",
              "3            Phone  1.615490 -1.383253\n",
              "4       Int'l Plan -0.012997  5.120719\n",
              "5       VMail Plan -0.762601 -2.014780\n",
              "6    VMail Message -1.161647  1.948791\n",
              "7         Day Mins  0.048163  2.525015\n",
              "8        Day Calls -1.530371  1.134497\n",
              "9       Day Charge -0.767579 -0.652474\n",
              "10        Eve Mins  0.090295 -0.641147\n",
              "11       Eve Calls  0.822046  4.300678\n",
              "12      Eve Charge  0.213250  0.600040\n",
              "13      Night Mins -0.043145  0.996078\n",
              "14     Night Calls -1.156870 -3.793248\n",
              "15    Night Charge  0.457139 -0.335775\n",
              "16       Intl Mins  0.558911  2.797480\n",
              "17      Intl Calls  0.316710  4.002532\n",
              "18     Intl Charge -1.534406  1.325099\n",
              "19  CustServ Calls  1.058082  1.067732\n",
              "20          Churn? -0.814503  1.354496"
            ]
          },
          "execution_count": 86,
          "metadata": {
            "tags": []
          },
          "output_type": "execute_result"
        }
      ],
      "source": [
        "# 10 Generating a dummy data frame\n",
        "\n",
        "import pandas as pd\n",
        "data = pd.read_csv('Customer Churn Model.txt')\n",
        "column_list=data.columns.values.tolist()\n",
        "a=len(column_list)\n",
        "d=pd.DataFrame({'Column_Name':column_list,'A':np.random.randn(a),'B':2.5*np.random.randn(a)+1.5})\n",
        "d"
      ]
    },
    {
      "cell_type": "code",
      "execution_count": null,
      "metadata": {
        "colab": {
          "base_uri": "https://localhost:8080/"
        },
        "id": "zROzTSFVv_TI",
        "outputId": "d0108351-4ca8-475a-fc0d-67546d1c7de0"
      },
      "outputs": [
        {
          "data": {
            "text/plain": [
              "3333"
            ]
          },
          "execution_count": 87,
          "metadata": {
            "tags": []
          },
          "output_type": "execute_result"
        }
      ],
      "source": [
        "len(data)"
      ]
    },
    {
      "cell_type": "code",
      "execution_count": null,
      "metadata": {
        "id": "eLm_raU0v_P8"
      },
      "outputs": [],
      "source": [
        "a = np.random.randn(len(data))\n",
        "check = a <0.8\n",
        "training = data[check]\n",
        "testing = data[~check]"
      ]
    },
    {
      "cell_type": "code",
      "execution_count": null,
      "metadata": {
        "colab": {
          "base_uri": "https://localhost:8080/"
        },
        "id": "9cotzKukv_My",
        "outputId": "c0023104-b1cd-4f41-c426-ddfd78e07ff4"
      },
      "outputs": [
        {
          "data": {
            "text/plain": [
              "669"
            ]
          },
          "execution_count": 89,
          "metadata": {
            "tags": []
          },
          "output_type": "execute_result"
        }
      ],
      "source": [
        "len(training)\n",
        "len(testing)"
      ]
    },
    {
      "cell_type": "code",
      "execution_count": null,
      "metadata": {
        "colab": {
          "base_uri": "https://localhost:8080/"
        },
        "id": "1JJhbvK2v_J6",
        "outputId": "dbe00be9-f478-4dc5-9bb6-02f258d9c1b8"
      },
      "outputs": [
        {
          "data": {
            "text/plain": [
              "20.072007200720073"
            ]
          },
          "execution_count": 91,
          "metadata": {
            "tags": []
          },
          "output_type": "execute_result"
        }
      ],
      "source": [
        "(669/3333)*100"
      ]
    },
    {
      "cell_type": "code",
      "execution_count": null,
      "metadata": {
        "id": "3gKwBY__v_Gr"
      },
      "outputs": [],
      "source": [
        "# Method 2\n",
        "# from sklearn.cross_validation import train_test_split\n",
        "from sklearn.model_selection import train_test_split\n",
        "train, test = train_test_split(data, test_size = 0.2)"
      ]
    },
    {
      "cell_type": "code",
      "execution_count": null,
      "metadata": {
        "id": "qNrP96Oav_Dp"
      },
      "outputs": [],
      "source": []
    },
    {
      "cell_type": "code",
      "execution_count": null,
      "metadata": {
        "id": "PLkzjzjPv_AK"
      },
      "outputs": [],
      "source": []
    },
    {
      "cell_type": "code",
      "execution_count": null,
      "metadata": {
        "colab": {
          "base_uri": "https://localhost:8080/"
        },
        "id": "7DMkGguceQgN",
        "outputId": "4aa2d01a-5e19-4d51-9202-3e8d574c8ba4"
      },
      "outputs": [
        {
          "name": "stdout",
          "output_type": "stream",
          "text": [
            "Slicing only rows(till index 4):\n",
            "  State  Account Length  Area Code  ... Intl Charge CustServ Calls  Churn?\n",
            "0    KS             128        415  ...        2.70              1  False.\n",
            "1    OH             107        415  ...        3.70              1  False.\n",
            "2    NJ             137        415  ...        3.29              0  False.\n",
            "3    OH              84        408  ...        1.78              2  False.\n",
            "\n",
            "[4 rows x 21 columns] \n",
            "\n",
            "Slicing rows and columns(rows=4, col 1-4, excluding 4):\n",
            "   Account Length  Area Code     Phone\n",
            "0             128        415  382-4657\n",
            "1             107        415  371-7191\n",
            "2             137        415  358-1921\n",
            "3              84        408  375-9999\n"
          ]
        }
      ],
      "source": [
        "#### Examples\n",
        "import pandas as geek\n",
        "dt_test = geek.read_csv(\"https://media.geeksforgeeks.org/wp-content/uploads/nba.csv\")\n",
        "# Integer slicing\n",
        "print(\"Slicing only rows(till index 4):\")\n",
        "x1 = data.iloc[:4, ]\n",
        "print(x1, \"\\n\")\n",
        "\n",
        "print(\"Slicing rows and columns(rows=4, col 1-4, excluding 4):\")\n",
        "x2 = data.iloc[:4, 1:4]\n",
        "print(x2)"
      ]
    },
    {
      "cell_type": "code",
      "execution_count": null,
      "metadata": {
        "id": "ARsC4jGWk4fD"
      },
      "outputs": [],
      "source": []
    }
  ],
  "metadata": {
    "colab": {
      "provenance": [],
      "authorship_tag": "ABX9TyPLy0sS2QTQrLLMrV24OsR8",
      "include_colab_link": true
    },
    "kernelspec": {
      "display_name": "Python 3",
      "name": "python3"
    },
    "language_info": {
      "name": "python"
    }
  },
  "nbformat": 4,
  "nbformat_minor": 0
}